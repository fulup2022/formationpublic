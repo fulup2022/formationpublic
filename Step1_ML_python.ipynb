{
  "nbformat": 4,
  "nbformat_minor": 0,
  "metadata": {
    "colab": {
      "provenance": [],
      "collapsed_sections": [],
      "mount_file_id": "1GdOg1X9ICmaBtwEuIY92C0bYerKuHkg7",
      "authorship_tag": "ABX9TyNPPybGCeBuuA2l7JFSMH3f",
      "include_colab_link": true
    },
    "kernelspec": {
      "name": "python3",
      "display_name": "Python 3"
    },
    "language_info": {
      "name": "python"
    }
  },
  "cells": [
    {
      "cell_type": "markdown",
      "metadata": {
        "id": "view-in-github",
        "colab_type": "text"
      },
      "source": [
        "<a href=\"https://colab.research.google.com/github/fulup2022/formationpublic/blob/main/Step1_ML_python.ipynb\" target=\"_parent\"><img src=\"https://colab.research.google.com/assets/colab-badge.svg\" alt=\"Open In Colab\"/></a>"
      ]
    },
    {
      "cell_type": "code",
      "execution_count": null,
      "metadata": {
        "id": "94kJMubbZhHB"
      },
      "outputs": [],
      "source": []
    },
    {
      "cell_type": "markdown",
      "source": [
        "Premier\n"
      ],
      "metadata": {
        "id": "ztkbricaZlSa"
      }
    },
    {
      "cell_type": "markdown",
      "source": [
        "A. Colab"
      ],
      "metadata": {
        "id": "7HKjuiWjZuiL"
      }
    },
    {
      "cell_type": "markdown",
      "source": [],
      "metadata": {
        "id": "1vBPDlRRZy4a"
      }
    },
    {
      "cell_type": "code",
      "source": [
        "# commentaire"
      ],
      "metadata": {
        "id": "mfcTVzgNZ5Ks"
      },
      "execution_count": null,
      "outputs": []
    },
    {
      "cell_type": "code",
      "source": [
        "import numpy as py"
      ],
      "metadata": {
        "id": "HFd43G2IZ7FH"
      },
      "execution_count": null,
      "outputs": []
    },
    {
      "cell_type": "code",
      "source": [],
      "metadata": {
        "id": "b-r4WYOPcI_Z"
      },
      "execution_count": null,
      "outputs": []
    },
    {
      "cell_type": "markdown",
      "source": [],
      "metadata": {
        "id": "UxK7EA7icMgJ"
      }
    },
    {
      "cell_type": "code",
      "source": [
        "from google.colab import drive\n",
        "\n",
        "drive.mount('/content/drive/')"
      ],
      "metadata": {
        "id": "LqUb6I_faEaC",
        "colab": {
          "base_uri": "https://localhost:8080/"
        },
        "outputId": "5f332fcf-f429-438c-f045-6ac351ebe603"
      },
      "execution_count": null,
      "outputs": [
        {
          "output_type": "stream",
          "name": "stdout",
          "text": [
            "Drive already mounted at /content/drive/; to attempt to forcibly remount, call drive.mount(\"/content/drive/\", force_remount=True).\n"
          ]
        }
      ]
    },
    {
      "cell_type": "code",
      "source": [
        "from os import listdir\n",
        "from os.path import isfile, join\n",
        "fichiers = [f for f in listdir('/content/gdrive/MyDrive/test/') if isfile(join('/content/gdrive/MyDrive/test/', f))]\n",
        "print(fichiers)"
      ],
      "metadata": {
        "colab": {
          "base_uri": "https://localhost:8080/"
        },
        "id": "TJZ4UJnpATd-",
        "outputId": "1861ed87-f264-420d-85b8-2ebc92d66bb7"
      },
      "execution_count": null,
      "outputs": [
        {
          "output_type": "stream",
          "name": "stdout",
          "text": [
            "['Churn_Modelling.csv']\n"
          ]
        }
      ]
    },
    {
      "cell_type": "code",
      "source": [
        "!ls /content/drive/MyDrive"
      ],
      "metadata": {
        "colab": {
          "base_uri": "https://localhost:8080/"
        },
        "id": "GtGN12FDBlzd",
        "outputId": "29640588-c8a4-48d4-cb81-9b2ba22cf089"
      },
      "execution_count": null,
      "outputs": [
        {
          "output_type": "stream",
          "name": "stdout",
          "text": [
            "'Colab Notebooks'  'How to get started with Drive.pdf'\t vatIAtech\n",
            " DSTI\t\t    test\n"
          ]
        }
      ]
    },
    {
      "cell_type": "code",
      "source": [
        "!pwd"
      ],
      "metadata": {
        "id": "-Hf0rYInKnyD",
        "colab": {
          "base_uri": "https://localhost:8080/"
        },
        "outputId": "e7108e28-a56d-47d6-8871-513cd09dedd6"
      },
      "execution_count": null,
      "outputs": [
        {
          "output_type": "stream",
          "name": "stdout",
          "text": [
            "/content\n"
          ]
        }
      ]
    },
    {
      "cell_type": "code",
      "source": [
        "!wget https://archive.ics.uci.edu/ml/machine-learning-databases/iris/iris.data -p /content/gdrive/MyDrive/DSTI/irisb.data"
      ],
      "metadata": {
        "colab": {
          "base_uri": "https://localhost:8080/"
        },
        "id": "hww6JZWbT883",
        "outputId": "eae57c94-e5a6-44f3-dd53-9883ffac0f1a"
      },
      "execution_count": null,
      "outputs": [
        {
          "output_type": "stream",
          "name": "stdout",
          "text": [
            "--2022-08-26 08:43:49--  https://archive.ics.uci.edu/ml/machine-learning-databases/iris/iris.data\n",
            "Resolving archive.ics.uci.edu (archive.ics.uci.edu)... 128.195.10.252\n",
            "Connecting to archive.ics.uci.edu (archive.ics.uci.edu)|128.195.10.252|:443... connected.\n",
            "HTTP request sent, awaiting response... 200 OK\n",
            "Length: 4551 (4.4K) [application/x-httpd-php]\n",
            "Saving to: ‘archive.ics.uci.edu/ml/machine-learning-databases/iris/iris.data’\n",
            "\n",
            "archive.ics.uci.edu 100%[===================>]   4.44K  --.-KB/s    in 0s      \n",
            "\n",
            "2022-08-26 08:43:49 (88.0 MB/s) - ‘archive.ics.uci.edu/ml/machine-learning-databases/iris/iris.data’ saved [4551/4551]\n",
            "\n",
            "/content/gdrive/MyDrive/DSTI/irisb.data: Scheme missing.\n",
            "FINISHED --2022-08-26 08:43:49--\n",
            "Total wall clock time: 0.3s\n",
            "Downloaded: 1 files, 4.4K in 0s (88.0 MB/s)\n"
          ]
        }
      ]
    },
    {
      "cell_type": "code",
      "source": [
        "!ls /content/gdrive/MyDrive/DSTI/"
      ],
      "metadata": {
        "colab": {
          "base_uri": "https://localhost:8080/"
        },
        "id": "OmGIOTQeU0ib",
        "outputId": "3823c9a8-e708-4a4a-a100-9d489e5a8020"
      },
      "execution_count": null,
      "outputs": [
        {
          "output_type": "stream",
          "name": "stdout",
          "text": [
            "ANN  iris.data\tiris.names  Untitled\n"
          ]
        }
      ]
    },
    {
      "cell_type": "code",
      "source": [
        "!cp archive.ics.uci.edu/ml/machine-learning-databases/iris/iris.data gdrive/MyDrive/DSTI/irisb.data"
      ],
      "metadata": {
        "id": "Czn2F5AtVA6-"
      },
      "execution_count": null,
      "outputs": []
    },
    {
      "cell_type": "code",
      "source": [
        "!git clone https://github.com/fulup2022/formationpublic.git"
      ],
      "metadata": {
        "colab": {
          "base_uri": "https://localhost:8080/"
        },
        "id": "FKqz-ichaQxz",
        "outputId": "0f14be51-c08c-45d8-f8f8-6563b1c03f9b"
      },
      "execution_count": 17,
      "outputs": [
        {
          "output_type": "stream",
          "name": "stdout",
          "text": [
            "fatal: destination path 'formationpublic' already exists and is not an empty directory.\n"
          ]
        }
      ]
    },
    {
      "cell_type": "code",
      "source": [
        "!git push https://github.com/fulup2022/formationpublic.git"
      ],
      "metadata": {
        "colab": {
          "base_uri": "https://localhost:8080/"
        },
        "id": "DhpcbqQpR7sj",
        "outputId": "8d638cae-2492-4b17-f7ec-cfae575db58a"
      },
      "execution_count": null,
      "outputs": [
        {
          "output_type": "stream",
          "name": "stdout",
          "text": [
            "fatal: not a git repository (or any of the parent directories): .git\n"
          ]
        }
      ]
    }
  ]
}