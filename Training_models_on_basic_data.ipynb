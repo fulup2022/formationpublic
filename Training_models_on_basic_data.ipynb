{
  "cells": [
    {
      "cell_type": "markdown",
      "metadata": {
        "id": "view-in-github",
        "colab_type": "text"
      },
      "source": [
        "<a href=\"https://colab.research.google.com/github/fulup2022/formationpublic/blob/main/Training_models_on_basic_data.ipynb\" target=\"_parent\"><img src=\"https://colab.research.google.com/assets/colab-badge.svg\" alt=\"Open In Colab\"/></a>"
      ]
    },
    {
      "cell_type": "markdown",
      "metadata": {
        "id": "kX9DCFXWsqsL"
      },
      "source": [
        "# 1.First we get the data"
      ]
    },
    {
      "cell_type": "code",
      "execution_count": null,
      "metadata": {
        "colab": {
          "base_uri": "https://localhost:8080/"
        },
        "id": "OIBosk-Ps7MY",
        "outputId": "2a459f7e-1276-4ed4-e7d5-a2262c8187c8"
      },
      "outputs": [
        {
          "output_type": "stream",
          "name": "stdout",
          "text": [
            "Mounted at /content/drive/\n"
          ]
        }
      ],
      "source": [
        "# First we map the drive to access the data file\n",
        "from google.colab import drive\n",
        "drive.mount('/content/drive/')"
      ]
    },
    {
      "cell_type": "code",
      "execution_count": null,
      "metadata": {
        "colab": {
          "base_uri": "https://localhost:8080/",
          "height": 206
        },
        "id": "pJhQWDjsrYBZ",
        "outputId": "acfb5895-d1ee-4346-81f6-af69901df651"
      },
      "outputs": [
        {
          "output_type": "execute_result",
          "data": {
            "text/plain": [
              "   RowNumber  CustomerId   Surname  CreditScore Geography  Gender  Age  \\\n",
              "0          1    15634602  Hargrave          619    France  Female   42   \n",
              "1          2    15647311      Hill          608     Spain  Female   41   \n",
              "2          3    15619304      Onio          502    France  Female   42   \n",
              "3          4    15701354      Boni          699    France  Female   39   \n",
              "4          5    15737888  Mitchell          850     Spain  Female   43   \n",
              "\n",
              "   Tenure    Balance  NumOfProducts  HasCrCard  IsActiveMember  \\\n",
              "0       2       0.00              1          1               1   \n",
              "1       1   83807.86              1          0               1   \n",
              "2       8  159660.80              3          1               0   \n",
              "3       1       0.00              2          0               0   \n",
              "4       2  125510.82              1          1               1   \n",
              "\n",
              "   EstimatedSalary  Exited  \n",
              "0        101348.88       1  \n",
              "1        112542.58       0  \n",
              "2        113931.57       1  \n",
              "3         93826.63       0  \n",
              "4         79084.10       0  "
            ],
            "text/html": [
              "\n",
              "  <div id=\"df-9546971b-767d-46ff-8a8d-31aa77a7c8ae\">\n",
              "    <div class=\"colab-df-container\">\n",
              "      <div>\n",
              "<style scoped>\n",
              "    .dataframe tbody tr th:only-of-type {\n",
              "        vertical-align: middle;\n",
              "    }\n",
              "\n",
              "    .dataframe tbody tr th {\n",
              "        vertical-align: top;\n",
              "    }\n",
              "\n",
              "    .dataframe thead th {\n",
              "        text-align: right;\n",
              "    }\n",
              "</style>\n",
              "<table border=\"1\" class=\"dataframe\">\n",
              "  <thead>\n",
              "    <tr style=\"text-align: right;\">\n",
              "      <th></th>\n",
              "      <th>RowNumber</th>\n",
              "      <th>CustomerId</th>\n",
              "      <th>Surname</th>\n",
              "      <th>CreditScore</th>\n",
              "      <th>Geography</th>\n",
              "      <th>Gender</th>\n",
              "      <th>Age</th>\n",
              "      <th>Tenure</th>\n",
              "      <th>Balance</th>\n",
              "      <th>NumOfProducts</th>\n",
              "      <th>HasCrCard</th>\n",
              "      <th>IsActiveMember</th>\n",
              "      <th>EstimatedSalary</th>\n",
              "      <th>Exited</th>\n",
              "    </tr>\n",
              "  </thead>\n",
              "  <tbody>\n",
              "    <tr>\n",
              "      <th>0</th>\n",
              "      <td>1</td>\n",
              "      <td>15634602</td>\n",
              "      <td>Hargrave</td>\n",
              "      <td>619</td>\n",
              "      <td>France</td>\n",
              "      <td>Female</td>\n",
              "      <td>42</td>\n",
              "      <td>2</td>\n",
              "      <td>0.00</td>\n",
              "      <td>1</td>\n",
              "      <td>1</td>\n",
              "      <td>1</td>\n",
              "      <td>101348.88</td>\n",
              "      <td>1</td>\n",
              "    </tr>\n",
              "    <tr>\n",
              "      <th>1</th>\n",
              "      <td>2</td>\n",
              "      <td>15647311</td>\n",
              "      <td>Hill</td>\n",
              "      <td>608</td>\n",
              "      <td>Spain</td>\n",
              "      <td>Female</td>\n",
              "      <td>41</td>\n",
              "      <td>1</td>\n",
              "      <td>83807.86</td>\n",
              "      <td>1</td>\n",
              "      <td>0</td>\n",
              "      <td>1</td>\n",
              "      <td>112542.58</td>\n",
              "      <td>0</td>\n",
              "    </tr>\n",
              "    <tr>\n",
              "      <th>2</th>\n",
              "      <td>3</td>\n",
              "      <td>15619304</td>\n",
              "      <td>Onio</td>\n",
              "      <td>502</td>\n",
              "      <td>France</td>\n",
              "      <td>Female</td>\n",
              "      <td>42</td>\n",
              "      <td>8</td>\n",
              "      <td>159660.80</td>\n",
              "      <td>3</td>\n",
              "      <td>1</td>\n",
              "      <td>0</td>\n",
              "      <td>113931.57</td>\n",
              "      <td>1</td>\n",
              "    </tr>\n",
              "    <tr>\n",
              "      <th>3</th>\n",
              "      <td>4</td>\n",
              "      <td>15701354</td>\n",
              "      <td>Boni</td>\n",
              "      <td>699</td>\n",
              "      <td>France</td>\n",
              "      <td>Female</td>\n",
              "      <td>39</td>\n",
              "      <td>1</td>\n",
              "      <td>0.00</td>\n",
              "      <td>2</td>\n",
              "      <td>0</td>\n",
              "      <td>0</td>\n",
              "      <td>93826.63</td>\n",
              "      <td>0</td>\n",
              "    </tr>\n",
              "    <tr>\n",
              "      <th>4</th>\n",
              "      <td>5</td>\n",
              "      <td>15737888</td>\n",
              "      <td>Mitchell</td>\n",
              "      <td>850</td>\n",
              "      <td>Spain</td>\n",
              "      <td>Female</td>\n",
              "      <td>43</td>\n",
              "      <td>2</td>\n",
              "      <td>125510.82</td>\n",
              "      <td>1</td>\n",
              "      <td>1</td>\n",
              "      <td>1</td>\n",
              "      <td>79084.10</td>\n",
              "      <td>0</td>\n",
              "    </tr>\n",
              "  </tbody>\n",
              "</table>\n",
              "</div>\n",
              "      <button class=\"colab-df-convert\" onclick=\"convertToInteractive('df-9546971b-767d-46ff-8a8d-31aa77a7c8ae')\"\n",
              "              title=\"Convert this dataframe to an interactive table.\"\n",
              "              style=\"display:none;\">\n",
              "        \n",
              "  <svg xmlns=\"http://www.w3.org/2000/svg\" height=\"24px\"viewBox=\"0 0 24 24\"\n",
              "       width=\"24px\">\n",
              "    <path d=\"M0 0h24v24H0V0z\" fill=\"none\"/>\n",
              "    <path d=\"M18.56 5.44l.94 2.06.94-2.06 2.06-.94-2.06-.94-.94-2.06-.94 2.06-2.06.94zm-11 1L8.5 8.5l.94-2.06 2.06-.94-2.06-.94L8.5 2.5l-.94 2.06-2.06.94zm10 10l.94 2.06.94-2.06 2.06-.94-2.06-.94-.94-2.06-.94 2.06-2.06.94z\"/><path d=\"M17.41 7.96l-1.37-1.37c-.4-.4-.92-.59-1.43-.59-.52 0-1.04.2-1.43.59L10.3 9.45l-7.72 7.72c-.78.78-.78 2.05 0 2.83L4 21.41c.39.39.9.59 1.41.59.51 0 1.02-.2 1.41-.59l7.78-7.78 2.81-2.81c.8-.78.8-2.07 0-2.86zM5.41 20L4 18.59l7.72-7.72 1.47 1.35L5.41 20z\"/>\n",
              "  </svg>\n",
              "      </button>\n",
              "      \n",
              "  <style>\n",
              "    .colab-df-container {\n",
              "      display:flex;\n",
              "      flex-wrap:wrap;\n",
              "      gap: 12px;\n",
              "    }\n",
              "\n",
              "    .colab-df-convert {\n",
              "      background-color: #E8F0FE;\n",
              "      border: none;\n",
              "      border-radius: 50%;\n",
              "      cursor: pointer;\n",
              "      display: none;\n",
              "      fill: #1967D2;\n",
              "      height: 32px;\n",
              "      padding: 0 0 0 0;\n",
              "      width: 32px;\n",
              "    }\n",
              "\n",
              "    .colab-df-convert:hover {\n",
              "      background-color: #E2EBFA;\n",
              "      box-shadow: 0px 1px 2px rgba(60, 64, 67, 0.3), 0px 1px 3px 1px rgba(60, 64, 67, 0.15);\n",
              "      fill: #174EA6;\n",
              "    }\n",
              "\n",
              "    [theme=dark] .colab-df-convert {\n",
              "      background-color: #3B4455;\n",
              "      fill: #D2E3FC;\n",
              "    }\n",
              "\n",
              "    [theme=dark] .colab-df-convert:hover {\n",
              "      background-color: #434B5C;\n",
              "      box-shadow: 0px 1px 3px 1px rgba(0, 0, 0, 0.15);\n",
              "      filter: drop-shadow(0px 1px 2px rgba(0, 0, 0, 0.3));\n",
              "      fill: #FFFFFF;\n",
              "    }\n",
              "  </style>\n",
              "\n",
              "      <script>\n",
              "        const buttonEl =\n",
              "          document.querySelector('#df-9546971b-767d-46ff-8a8d-31aa77a7c8ae button.colab-df-convert');\n",
              "        buttonEl.style.display =\n",
              "          google.colab.kernel.accessAllowed ? 'block' : 'none';\n",
              "\n",
              "        async function convertToInteractive(key) {\n",
              "          const element = document.querySelector('#df-9546971b-767d-46ff-8a8d-31aa77a7c8ae');\n",
              "          const dataTable =\n",
              "            await google.colab.kernel.invokeFunction('convertToInteractive',\n",
              "                                                     [key], {});\n",
              "          if (!dataTable) return;\n",
              "\n",
              "          const docLinkHtml = 'Like what you see? Visit the ' +\n",
              "            '<a target=\"_blank\" href=https://colab.research.google.com/notebooks/data_table.ipynb>data table notebook</a>'\n",
              "            + ' to learn more about interactive tables.';\n",
              "          element.innerHTML = '';\n",
              "          dataTable['output_type'] = 'display_data';\n",
              "          await google.colab.output.renderOutput(dataTable, element);\n",
              "          const docLink = document.createElement('div');\n",
              "          docLink.innerHTML = docLinkHtml;\n",
              "          element.appendChild(docLink);\n",
              "        }\n",
              "      </script>\n",
              "    </div>\n",
              "  </div>\n",
              "  "
            ]
          },
          "metadata": {},
          "execution_count": 2
        }
      ],
      "source": [
        "# We load the data file\n",
        "import pandas as pd\n",
        "dataset = pd.read_csv('/content/drive/MyDrive/DSTI/Churn/Bank churn/Bank_churn_dataset.csv')\n",
        "dataset.head()"
      ]
    },
    {
      "cell_type": "markdown",
      "metadata": {
        "id": "KGVm4jAbtDpy"
      },
      "source": [
        "# 2.Data exploration and features analysis"
      ]
    },
    {
      "cell_type": "code",
      "execution_count": null,
      "metadata": {
        "colab": {
          "base_uri": "https://localhost:8080/"
        },
        "id": "7gywP_19soGa",
        "outputId": "159c8f33-c0ad-4581-f91f-e3ea272a88d6"
      },
      "outputs": [
        {
          "output_type": "stream",
          "name": "stdout",
          "text": [
            "Shape = (10000, 14)\n",
            "The names of the columns = Index(['RowNumber', 'CustomerId', 'Surname', 'CreditScore', 'Geography',\n",
            "       'Gender', 'Age', 'Tenure', 'Balance', 'NumOfProducts', 'HasCrCard',\n",
            "       'IsActiveMember', 'EstimatedSalary', 'Exited'],\n",
            "      dtype='object')\n",
            "The range of the index = RangeIndex(start=0, stop=10000, step=1)\n"
          ]
        }
      ],
      "source": [
        "# We check the shape of the dataset and the columns names\n",
        "print(f\"Shape = {dataset.shape}\")\n",
        "print(f\"The names of the columns = {dataset.columns}\")\n",
        "print(f\"The range of the index = {dataset.index}\")"
      ]
    },
    {
      "cell_type": "code",
      "execution_count": null,
      "metadata": {
        "id": "XFHJ1jDdtQCo",
        "colab": {
          "base_uri": "https://localhost:8080/"
        },
        "outputId": "c3c7d711-e5f5-4e6a-f268-c0e91a148d67"
      },
      "outputs": [
        {
          "output_type": "stream",
          "name": "stdout",
          "text": [
            "<class 'pandas.core.frame.DataFrame'>\n",
            "RangeIndex: 10000 entries, 0 to 9999\n",
            "Data columns (total 14 columns):\n",
            " #   Column           Non-Null Count  Dtype  \n",
            "---  ------           --------------  -----  \n",
            " 0   RowNumber        10000 non-null  int64  \n",
            " 1   CustomerId       10000 non-null  int64  \n",
            " 2   Surname          10000 non-null  object \n",
            " 3   CreditScore      10000 non-null  int64  \n",
            " 4   Geography        10000 non-null  object \n",
            " 5   Gender           10000 non-null  object \n",
            " 6   Age              10000 non-null  int64  \n",
            " 7   Tenure           10000 non-null  int64  \n",
            " 8   Balance          10000 non-null  float64\n",
            " 9   NumOfProducts    10000 non-null  int64  \n",
            " 10  HasCrCard        10000 non-null  int64  \n",
            " 11  IsActiveMember   10000 non-null  int64  \n",
            " 12  EstimatedSalary  10000 non-null  float64\n",
            " 13  Exited           10000 non-null  int64  \n",
            "dtypes: float64(2), int64(9), object(3)\n",
            "memory usage: 1.1+ MB\n"
          ]
        }
      ],
      "source": [
        "# Another way to get a summary of the dataset\n",
        "dataset.info()"
      ]
    },
    {
      "cell_type": "code",
      "source": [
        "# We check if there is some Nan in the dataset\n",
        "dataset.isna().sum()"
      ],
      "metadata": {
        "colab": {
          "base_uri": "https://localhost:8080/"
        },
        "id": "iWJwGB7Q9eIA",
        "outputId": "23e84430-cfd3-4acd-ebf3-f36b371807ee"
      },
      "execution_count": null,
      "outputs": [
        {
          "output_type": "execute_result",
          "data": {
            "text/plain": [
              "RowNumber          0\n",
              "CustomerId         0\n",
              "Surname            0\n",
              "CreditScore        0\n",
              "Geography          0\n",
              "Gender             0\n",
              "Age                0\n",
              "Tenure             0\n",
              "Balance            0\n",
              "NumOfProducts      0\n",
              "HasCrCard          0\n",
              "IsActiveMember     0\n",
              "EstimatedSalary    0\n",
              "Exited             0\n",
              "dtype: int64"
            ]
          },
          "metadata": {},
          "execution_count": 5
        }
      ]
    },
    {
      "cell_type": "code",
      "execution_count": null,
      "metadata": {
        "id": "UkPpJQfauW9R",
        "colab": {
          "base_uri": "https://localhost:8080/",
          "height": 438
        },
        "outputId": "58eb50c2-7856-41c9-f657-13785f53d49b"
      },
      "outputs": [
        {
          "output_type": "execute_result",
          "data": {
            "text/plain": [
              "          RowNumber    CustomerId Surname   CreditScore Geography Gender  \\\n",
              "count   10000.00000  1.000000e+04   10000  10000.000000     10000  10000   \n",
              "unique          NaN           NaN    2932           NaN         3      2   \n",
              "top             NaN           NaN   Smith           NaN    France   Male   \n",
              "freq            NaN           NaN      32           NaN      5014   5457   \n",
              "mean     5000.50000  1.569094e+07     NaN    650.528800       NaN    NaN   \n",
              "std      2886.89568  7.193619e+04     NaN     96.653299       NaN    NaN   \n",
              "min         1.00000  1.556570e+07     NaN    350.000000       NaN    NaN   \n",
              "25%      2500.75000  1.562853e+07     NaN    584.000000       NaN    NaN   \n",
              "50%      5000.50000  1.569074e+07     NaN    652.000000       NaN    NaN   \n",
              "75%      7500.25000  1.575323e+07     NaN    718.000000       NaN    NaN   \n",
              "max     10000.00000  1.581569e+07     NaN    850.000000       NaN    NaN   \n",
              "\n",
              "                 Age        Tenure        Balance  NumOfProducts    HasCrCard  \\\n",
              "count   10000.000000  10000.000000   10000.000000   10000.000000  10000.00000   \n",
              "unique           NaN           NaN            NaN            NaN          NaN   \n",
              "top              NaN           NaN            NaN            NaN          NaN   \n",
              "freq             NaN           NaN            NaN            NaN          NaN   \n",
              "mean       38.921800      5.012800   76485.889288       1.530200      0.70550   \n",
              "std        10.487806      2.892174   62397.405202       0.581654      0.45584   \n",
              "min        18.000000      0.000000       0.000000       1.000000      0.00000   \n",
              "25%        32.000000      3.000000       0.000000       1.000000      0.00000   \n",
              "50%        37.000000      5.000000   97198.540000       1.000000      1.00000   \n",
              "75%        44.000000      7.000000  127644.240000       2.000000      1.00000   \n",
              "max        92.000000     10.000000  250898.090000       4.000000      1.00000   \n",
              "\n",
              "        IsActiveMember  EstimatedSalary        Exited  \n",
              "count     10000.000000     10000.000000  10000.000000  \n",
              "unique             NaN              NaN           NaN  \n",
              "top                NaN              NaN           NaN  \n",
              "freq               NaN              NaN           NaN  \n",
              "mean          0.515100    100090.239881      0.203700  \n",
              "std           0.499797     57510.492818      0.402769  \n",
              "min           0.000000        11.580000      0.000000  \n",
              "25%           0.000000     51002.110000      0.000000  \n",
              "50%           1.000000    100193.915000      0.000000  \n",
              "75%           1.000000    149388.247500      0.000000  \n",
              "max           1.000000    199992.480000      1.000000  "
            ],
            "text/html": [
              "\n",
              "  <div id=\"df-e40062e2-1102-47f7-9066-c6e6494fe961\">\n",
              "    <div class=\"colab-df-container\">\n",
              "      <div>\n",
              "<style scoped>\n",
              "    .dataframe tbody tr th:only-of-type {\n",
              "        vertical-align: middle;\n",
              "    }\n",
              "\n",
              "    .dataframe tbody tr th {\n",
              "        vertical-align: top;\n",
              "    }\n",
              "\n",
              "    .dataframe thead th {\n",
              "        text-align: right;\n",
              "    }\n",
              "</style>\n",
              "<table border=\"1\" class=\"dataframe\">\n",
              "  <thead>\n",
              "    <tr style=\"text-align: right;\">\n",
              "      <th></th>\n",
              "      <th>RowNumber</th>\n",
              "      <th>CustomerId</th>\n",
              "      <th>Surname</th>\n",
              "      <th>CreditScore</th>\n",
              "      <th>Geography</th>\n",
              "      <th>Gender</th>\n",
              "      <th>Age</th>\n",
              "      <th>Tenure</th>\n",
              "      <th>Balance</th>\n",
              "      <th>NumOfProducts</th>\n",
              "      <th>HasCrCard</th>\n",
              "      <th>IsActiveMember</th>\n",
              "      <th>EstimatedSalary</th>\n",
              "      <th>Exited</th>\n",
              "    </tr>\n",
              "  </thead>\n",
              "  <tbody>\n",
              "    <tr>\n",
              "      <th>count</th>\n",
              "      <td>10000.00000</td>\n",
              "      <td>1.000000e+04</td>\n",
              "      <td>10000</td>\n",
              "      <td>10000.000000</td>\n",
              "      <td>10000</td>\n",
              "      <td>10000</td>\n",
              "      <td>10000.000000</td>\n",
              "      <td>10000.000000</td>\n",
              "      <td>10000.000000</td>\n",
              "      <td>10000.000000</td>\n",
              "      <td>10000.00000</td>\n",
              "      <td>10000.000000</td>\n",
              "      <td>10000.000000</td>\n",
              "      <td>10000.000000</td>\n",
              "    </tr>\n",
              "    <tr>\n",
              "      <th>unique</th>\n",
              "      <td>NaN</td>\n",
              "      <td>NaN</td>\n",
              "      <td>2932</td>\n",
              "      <td>NaN</td>\n",
              "      <td>3</td>\n",
              "      <td>2</td>\n",
              "      <td>NaN</td>\n",
              "      <td>NaN</td>\n",
              "      <td>NaN</td>\n",
              "      <td>NaN</td>\n",
              "      <td>NaN</td>\n",
              "      <td>NaN</td>\n",
              "      <td>NaN</td>\n",
              "      <td>NaN</td>\n",
              "    </tr>\n",
              "    <tr>\n",
              "      <th>top</th>\n",
              "      <td>NaN</td>\n",
              "      <td>NaN</td>\n",
              "      <td>Smith</td>\n",
              "      <td>NaN</td>\n",
              "      <td>France</td>\n",
              "      <td>Male</td>\n",
              "      <td>NaN</td>\n",
              "      <td>NaN</td>\n",
              "      <td>NaN</td>\n",
              "      <td>NaN</td>\n",
              "      <td>NaN</td>\n",
              "      <td>NaN</td>\n",
              "      <td>NaN</td>\n",
              "      <td>NaN</td>\n",
              "    </tr>\n",
              "    <tr>\n",
              "      <th>freq</th>\n",
              "      <td>NaN</td>\n",
              "      <td>NaN</td>\n",
              "      <td>32</td>\n",
              "      <td>NaN</td>\n",
              "      <td>5014</td>\n",
              "      <td>5457</td>\n",
              "      <td>NaN</td>\n",
              "      <td>NaN</td>\n",
              "      <td>NaN</td>\n",
              "      <td>NaN</td>\n",
              "      <td>NaN</td>\n",
              "      <td>NaN</td>\n",
              "      <td>NaN</td>\n",
              "      <td>NaN</td>\n",
              "    </tr>\n",
              "    <tr>\n",
              "      <th>mean</th>\n",
              "      <td>5000.50000</td>\n",
              "      <td>1.569094e+07</td>\n",
              "      <td>NaN</td>\n",
              "      <td>650.528800</td>\n",
              "      <td>NaN</td>\n",
              "      <td>NaN</td>\n",
              "      <td>38.921800</td>\n",
              "      <td>5.012800</td>\n",
              "      <td>76485.889288</td>\n",
              "      <td>1.530200</td>\n",
              "      <td>0.70550</td>\n",
              "      <td>0.515100</td>\n",
              "      <td>100090.239881</td>\n",
              "      <td>0.203700</td>\n",
              "    </tr>\n",
              "    <tr>\n",
              "      <th>std</th>\n",
              "      <td>2886.89568</td>\n",
              "      <td>7.193619e+04</td>\n",
              "      <td>NaN</td>\n",
              "      <td>96.653299</td>\n",
              "      <td>NaN</td>\n",
              "      <td>NaN</td>\n",
              "      <td>10.487806</td>\n",
              "      <td>2.892174</td>\n",
              "      <td>62397.405202</td>\n",
              "      <td>0.581654</td>\n",
              "      <td>0.45584</td>\n",
              "      <td>0.499797</td>\n",
              "      <td>57510.492818</td>\n",
              "      <td>0.402769</td>\n",
              "    </tr>\n",
              "    <tr>\n",
              "      <th>min</th>\n",
              "      <td>1.00000</td>\n",
              "      <td>1.556570e+07</td>\n",
              "      <td>NaN</td>\n",
              "      <td>350.000000</td>\n",
              "      <td>NaN</td>\n",
              "      <td>NaN</td>\n",
              "      <td>18.000000</td>\n",
              "      <td>0.000000</td>\n",
              "      <td>0.000000</td>\n",
              "      <td>1.000000</td>\n",
              "      <td>0.00000</td>\n",
              "      <td>0.000000</td>\n",
              "      <td>11.580000</td>\n",
              "      <td>0.000000</td>\n",
              "    </tr>\n",
              "    <tr>\n",
              "      <th>25%</th>\n",
              "      <td>2500.75000</td>\n",
              "      <td>1.562853e+07</td>\n",
              "      <td>NaN</td>\n",
              "      <td>584.000000</td>\n",
              "      <td>NaN</td>\n",
              "      <td>NaN</td>\n",
              "      <td>32.000000</td>\n",
              "      <td>3.000000</td>\n",
              "      <td>0.000000</td>\n",
              "      <td>1.000000</td>\n",
              "      <td>0.00000</td>\n",
              "      <td>0.000000</td>\n",
              "      <td>51002.110000</td>\n",
              "      <td>0.000000</td>\n",
              "    </tr>\n",
              "    <tr>\n",
              "      <th>50%</th>\n",
              "      <td>5000.50000</td>\n",
              "      <td>1.569074e+07</td>\n",
              "      <td>NaN</td>\n",
              "      <td>652.000000</td>\n",
              "      <td>NaN</td>\n",
              "      <td>NaN</td>\n",
              "      <td>37.000000</td>\n",
              "      <td>5.000000</td>\n",
              "      <td>97198.540000</td>\n",
              "      <td>1.000000</td>\n",
              "      <td>1.00000</td>\n",
              "      <td>1.000000</td>\n",
              "      <td>100193.915000</td>\n",
              "      <td>0.000000</td>\n",
              "    </tr>\n",
              "    <tr>\n",
              "      <th>75%</th>\n",
              "      <td>7500.25000</td>\n",
              "      <td>1.575323e+07</td>\n",
              "      <td>NaN</td>\n",
              "      <td>718.000000</td>\n",
              "      <td>NaN</td>\n",
              "      <td>NaN</td>\n",
              "      <td>44.000000</td>\n",
              "      <td>7.000000</td>\n",
              "      <td>127644.240000</td>\n",
              "      <td>2.000000</td>\n",
              "      <td>1.00000</td>\n",
              "      <td>1.000000</td>\n",
              "      <td>149388.247500</td>\n",
              "      <td>0.000000</td>\n",
              "    </tr>\n",
              "    <tr>\n",
              "      <th>max</th>\n",
              "      <td>10000.00000</td>\n",
              "      <td>1.581569e+07</td>\n",
              "      <td>NaN</td>\n",
              "      <td>850.000000</td>\n",
              "      <td>NaN</td>\n",
              "      <td>NaN</td>\n",
              "      <td>92.000000</td>\n",
              "      <td>10.000000</td>\n",
              "      <td>250898.090000</td>\n",
              "      <td>4.000000</td>\n",
              "      <td>1.00000</td>\n",
              "      <td>1.000000</td>\n",
              "      <td>199992.480000</td>\n",
              "      <td>1.000000</td>\n",
              "    </tr>\n",
              "  </tbody>\n",
              "</table>\n",
              "</div>\n",
              "      <button class=\"colab-df-convert\" onclick=\"convertToInteractive('df-e40062e2-1102-47f7-9066-c6e6494fe961')\"\n",
              "              title=\"Convert this dataframe to an interactive table.\"\n",
              "              style=\"display:none;\">\n",
              "        \n",
              "  <svg xmlns=\"http://www.w3.org/2000/svg\" height=\"24px\"viewBox=\"0 0 24 24\"\n",
              "       width=\"24px\">\n",
              "    <path d=\"M0 0h24v24H0V0z\" fill=\"none\"/>\n",
              "    <path d=\"M18.56 5.44l.94 2.06.94-2.06 2.06-.94-2.06-.94-.94-2.06-.94 2.06-2.06.94zm-11 1L8.5 8.5l.94-2.06 2.06-.94-2.06-.94L8.5 2.5l-.94 2.06-2.06.94zm10 10l.94 2.06.94-2.06 2.06-.94-2.06-.94-.94-2.06-.94 2.06-2.06.94z\"/><path d=\"M17.41 7.96l-1.37-1.37c-.4-.4-.92-.59-1.43-.59-.52 0-1.04.2-1.43.59L10.3 9.45l-7.72 7.72c-.78.78-.78 2.05 0 2.83L4 21.41c.39.39.9.59 1.41.59.51 0 1.02-.2 1.41-.59l7.78-7.78 2.81-2.81c.8-.78.8-2.07 0-2.86zM5.41 20L4 18.59l7.72-7.72 1.47 1.35L5.41 20z\"/>\n",
              "  </svg>\n",
              "      </button>\n",
              "      \n",
              "  <style>\n",
              "    .colab-df-container {\n",
              "      display:flex;\n",
              "      flex-wrap:wrap;\n",
              "      gap: 12px;\n",
              "    }\n",
              "\n",
              "    .colab-df-convert {\n",
              "      background-color: #E8F0FE;\n",
              "      border: none;\n",
              "      border-radius: 50%;\n",
              "      cursor: pointer;\n",
              "      display: none;\n",
              "      fill: #1967D2;\n",
              "      height: 32px;\n",
              "      padding: 0 0 0 0;\n",
              "      width: 32px;\n",
              "    }\n",
              "\n",
              "    .colab-df-convert:hover {\n",
              "      background-color: #E2EBFA;\n",
              "      box-shadow: 0px 1px 2px rgba(60, 64, 67, 0.3), 0px 1px 3px 1px rgba(60, 64, 67, 0.15);\n",
              "      fill: #174EA6;\n",
              "    }\n",
              "\n",
              "    [theme=dark] .colab-df-convert {\n",
              "      background-color: #3B4455;\n",
              "      fill: #D2E3FC;\n",
              "    }\n",
              "\n",
              "    [theme=dark] .colab-df-convert:hover {\n",
              "      background-color: #434B5C;\n",
              "      box-shadow: 0px 1px 3px 1px rgba(0, 0, 0, 0.15);\n",
              "      filter: drop-shadow(0px 1px 2px rgba(0, 0, 0, 0.3));\n",
              "      fill: #FFFFFF;\n",
              "    }\n",
              "  </style>\n",
              "\n",
              "      <script>\n",
              "        const buttonEl =\n",
              "          document.querySelector('#df-e40062e2-1102-47f7-9066-c6e6494fe961 button.colab-df-convert');\n",
              "        buttonEl.style.display =\n",
              "          google.colab.kernel.accessAllowed ? 'block' : 'none';\n",
              "\n",
              "        async function convertToInteractive(key) {\n",
              "          const element = document.querySelector('#df-e40062e2-1102-47f7-9066-c6e6494fe961');\n",
              "          const dataTable =\n",
              "            await google.colab.kernel.invokeFunction('convertToInteractive',\n",
              "                                                     [key], {});\n",
              "          if (!dataTable) return;\n",
              "\n",
              "          const docLinkHtml = 'Like what you see? Visit the ' +\n",
              "            '<a target=\"_blank\" href=https://colab.research.google.com/notebooks/data_table.ipynb>data table notebook</a>'\n",
              "            + ' to learn more about interactive tables.';\n",
              "          element.innerHTML = '';\n",
              "          dataTable['output_type'] = 'display_data';\n",
              "          await google.colab.output.renderOutput(dataTable, element);\n",
              "          const docLink = document.createElement('div');\n",
              "          docLink.innerHTML = docLinkHtml;\n",
              "          element.appendChild(docLink);\n",
              "        }\n",
              "      </script>\n",
              "    </div>\n",
              "  </div>\n",
              "  "
            ]
          },
          "metadata": {},
          "execution_count": 6
        }
      ],
      "source": [
        "# we check the data ventilation\n",
        "dataset.describe(include='all')"
      ]
    },
    {
      "cell_type": "markdown",
      "metadata": {
        "id": "pPDDqJpRxCNU"
      },
      "source": [
        "We notice that there are only 2932 distinct surnames among the 10 000 data samples. We can deduce that it is not a real dataset since it seems doubtful that there are so few names shared by all the clients.\n",
        "\n",
        "We have two genders with a good repartition between males and females.\n",
        "\n",
        "For the exited values, we can notice that there are around 20% of clients who have churned. It means that we have unbalanced data and it will be necessary to handle this aspect."
      ]
    },
    {
      "cell_type": "code",
      "execution_count": null,
      "metadata": {
        "id": "hMLoMZ7pDl4y",
        "colab": {
          "base_uri": "https://localhost:8080/"
        },
        "outputId": "6db6a08a-dd3a-4b63-a86e-da2ad973a32e"
      },
      "outputs": [
        {
          "output_type": "execute_result",
          "data": {
            "text/plain": [
              "0    7963\n",
              "1    2037\n",
              "Name: Exited, dtype: int64"
            ]
          },
          "metadata": {},
          "execution_count": 7
        }
      ],
      "source": [
        "dataset.Exited.value_counts()"
      ]
    },
    {
      "cell_type": "markdown",
      "metadata": {
        "id": "gxgRPbAW5mit"
      },
      "source": [
        "There is maybe something to do about this point"
      ]
    },
    {
      "cell_type": "code",
      "execution_count": null,
      "metadata": {
        "colab": {
          "base_uri": "https://localhost:8080/",
          "height": 206
        },
        "id": "E8ZygpzFyQY_",
        "outputId": "2b415942-7578-4e2a-a770-06e6fd9ff386"
      },
      "outputs": [
        {
          "output_type": "execute_result",
          "data": {
            "text/plain": [
              "   CreditScore Geography  Gender  Age  Tenure    Balance  NumOfProducts  \\\n",
              "0          619    France  Female   42       2       0.00              1   \n",
              "1          608     Spain  Female   41       1   83807.86              1   \n",
              "2          502    France  Female   42       8  159660.80              3   \n",
              "3          699    France  Female   39       1       0.00              2   \n",
              "4          850     Spain  Female   43       2  125510.82              1   \n",
              "\n",
              "   HasCrCard  IsActiveMember  EstimatedSalary  Exited  \n",
              "0          1               1        101348.88       1  \n",
              "1          0               1        112542.58       0  \n",
              "2          1               0        113931.57       1  \n",
              "3          0               0         93826.63       0  \n",
              "4          1               1         79084.10       0  "
            ],
            "text/html": [
              "\n",
              "  <div id=\"df-c6e2af22-225c-44d1-bdc0-da470167233c\">\n",
              "    <div class=\"colab-df-container\">\n",
              "      <div>\n",
              "<style scoped>\n",
              "    .dataframe tbody tr th:only-of-type {\n",
              "        vertical-align: middle;\n",
              "    }\n",
              "\n",
              "    .dataframe tbody tr th {\n",
              "        vertical-align: top;\n",
              "    }\n",
              "\n",
              "    .dataframe thead th {\n",
              "        text-align: right;\n",
              "    }\n",
              "</style>\n",
              "<table border=\"1\" class=\"dataframe\">\n",
              "  <thead>\n",
              "    <tr style=\"text-align: right;\">\n",
              "      <th></th>\n",
              "      <th>CreditScore</th>\n",
              "      <th>Geography</th>\n",
              "      <th>Gender</th>\n",
              "      <th>Age</th>\n",
              "      <th>Tenure</th>\n",
              "      <th>Balance</th>\n",
              "      <th>NumOfProducts</th>\n",
              "      <th>HasCrCard</th>\n",
              "      <th>IsActiveMember</th>\n",
              "      <th>EstimatedSalary</th>\n",
              "      <th>Exited</th>\n",
              "    </tr>\n",
              "  </thead>\n",
              "  <tbody>\n",
              "    <tr>\n",
              "      <th>0</th>\n",
              "      <td>619</td>\n",
              "      <td>France</td>\n",
              "      <td>Female</td>\n",
              "      <td>42</td>\n",
              "      <td>2</td>\n",
              "      <td>0.00</td>\n",
              "      <td>1</td>\n",
              "      <td>1</td>\n",
              "      <td>1</td>\n",
              "      <td>101348.88</td>\n",
              "      <td>1</td>\n",
              "    </tr>\n",
              "    <tr>\n",
              "      <th>1</th>\n",
              "      <td>608</td>\n",
              "      <td>Spain</td>\n",
              "      <td>Female</td>\n",
              "      <td>41</td>\n",
              "      <td>1</td>\n",
              "      <td>83807.86</td>\n",
              "      <td>1</td>\n",
              "      <td>0</td>\n",
              "      <td>1</td>\n",
              "      <td>112542.58</td>\n",
              "      <td>0</td>\n",
              "    </tr>\n",
              "    <tr>\n",
              "      <th>2</th>\n",
              "      <td>502</td>\n",
              "      <td>France</td>\n",
              "      <td>Female</td>\n",
              "      <td>42</td>\n",
              "      <td>8</td>\n",
              "      <td>159660.80</td>\n",
              "      <td>3</td>\n",
              "      <td>1</td>\n",
              "      <td>0</td>\n",
              "      <td>113931.57</td>\n",
              "      <td>1</td>\n",
              "    </tr>\n",
              "    <tr>\n",
              "      <th>3</th>\n",
              "      <td>699</td>\n",
              "      <td>France</td>\n",
              "      <td>Female</td>\n",
              "      <td>39</td>\n",
              "      <td>1</td>\n",
              "      <td>0.00</td>\n",
              "      <td>2</td>\n",
              "      <td>0</td>\n",
              "      <td>0</td>\n",
              "      <td>93826.63</td>\n",
              "      <td>0</td>\n",
              "    </tr>\n",
              "    <tr>\n",
              "      <th>4</th>\n",
              "      <td>850</td>\n",
              "      <td>Spain</td>\n",
              "      <td>Female</td>\n",
              "      <td>43</td>\n",
              "      <td>2</td>\n",
              "      <td>125510.82</td>\n",
              "      <td>1</td>\n",
              "      <td>1</td>\n",
              "      <td>1</td>\n",
              "      <td>79084.10</td>\n",
              "      <td>0</td>\n",
              "    </tr>\n",
              "  </tbody>\n",
              "</table>\n",
              "</div>\n",
              "      <button class=\"colab-df-convert\" onclick=\"convertToInteractive('df-c6e2af22-225c-44d1-bdc0-da470167233c')\"\n",
              "              title=\"Convert this dataframe to an interactive table.\"\n",
              "              style=\"display:none;\">\n",
              "        \n",
              "  <svg xmlns=\"http://www.w3.org/2000/svg\" height=\"24px\"viewBox=\"0 0 24 24\"\n",
              "       width=\"24px\">\n",
              "    <path d=\"M0 0h24v24H0V0z\" fill=\"none\"/>\n",
              "    <path d=\"M18.56 5.44l.94 2.06.94-2.06 2.06-.94-2.06-.94-.94-2.06-.94 2.06-2.06.94zm-11 1L8.5 8.5l.94-2.06 2.06-.94-2.06-.94L8.5 2.5l-.94 2.06-2.06.94zm10 10l.94 2.06.94-2.06 2.06-.94-2.06-.94-.94-2.06-.94 2.06-2.06.94z\"/><path d=\"M17.41 7.96l-1.37-1.37c-.4-.4-.92-.59-1.43-.59-.52 0-1.04.2-1.43.59L10.3 9.45l-7.72 7.72c-.78.78-.78 2.05 0 2.83L4 21.41c.39.39.9.59 1.41.59.51 0 1.02-.2 1.41-.59l7.78-7.78 2.81-2.81c.8-.78.8-2.07 0-2.86zM5.41 20L4 18.59l7.72-7.72 1.47 1.35L5.41 20z\"/>\n",
              "  </svg>\n",
              "      </button>\n",
              "      \n",
              "  <style>\n",
              "    .colab-df-container {\n",
              "      display:flex;\n",
              "      flex-wrap:wrap;\n",
              "      gap: 12px;\n",
              "    }\n",
              "\n",
              "    .colab-df-convert {\n",
              "      background-color: #E8F0FE;\n",
              "      border: none;\n",
              "      border-radius: 50%;\n",
              "      cursor: pointer;\n",
              "      display: none;\n",
              "      fill: #1967D2;\n",
              "      height: 32px;\n",
              "      padding: 0 0 0 0;\n",
              "      width: 32px;\n",
              "    }\n",
              "\n",
              "    .colab-df-convert:hover {\n",
              "      background-color: #E2EBFA;\n",
              "      box-shadow: 0px 1px 2px rgba(60, 64, 67, 0.3), 0px 1px 3px 1px rgba(60, 64, 67, 0.15);\n",
              "      fill: #174EA6;\n",
              "    }\n",
              "\n",
              "    [theme=dark] .colab-df-convert {\n",
              "      background-color: #3B4455;\n",
              "      fill: #D2E3FC;\n",
              "    }\n",
              "\n",
              "    [theme=dark] .colab-df-convert:hover {\n",
              "      background-color: #434B5C;\n",
              "      box-shadow: 0px 1px 3px 1px rgba(0, 0, 0, 0.15);\n",
              "      filter: drop-shadow(0px 1px 2px rgba(0, 0, 0, 0.3));\n",
              "      fill: #FFFFFF;\n",
              "    }\n",
              "  </style>\n",
              "\n",
              "      <script>\n",
              "        const buttonEl =\n",
              "          document.querySelector('#df-c6e2af22-225c-44d1-bdc0-da470167233c button.colab-df-convert');\n",
              "        buttonEl.style.display =\n",
              "          google.colab.kernel.accessAllowed ? 'block' : 'none';\n",
              "\n",
              "        async function convertToInteractive(key) {\n",
              "          const element = document.querySelector('#df-c6e2af22-225c-44d1-bdc0-da470167233c');\n",
              "          const dataTable =\n",
              "            await google.colab.kernel.invokeFunction('convertToInteractive',\n",
              "                                                     [key], {});\n",
              "          if (!dataTable) return;\n",
              "\n",
              "          const docLinkHtml = 'Like what you see? Visit the ' +\n",
              "            '<a target=\"_blank\" href=https://colab.research.google.com/notebooks/data_table.ipynb>data table notebook</a>'\n",
              "            + ' to learn more about interactive tables.';\n",
              "          element.innerHTML = '';\n",
              "          dataTable['output_type'] = 'display_data';\n",
              "          await google.colab.output.renderOutput(dataTable, element);\n",
              "          const docLink = document.createElement('div');\n",
              "          docLink.innerHTML = docLinkHtml;\n",
              "          element.appendChild(docLink);\n",
              "        }\n",
              "      </script>\n",
              "    </div>\n",
              "  </div>\n",
              "  "
            ]
          },
          "metadata": {},
          "execution_count": 8
        }
      ],
      "source": [
        "# We take our features in a  new dataset. \n",
        "# We exclude the three first columns of the original dataset since they are too specific and the last one since it is the label\n",
        "df = dataset.iloc[:, 3:]\n",
        "df.head()"
      ]
    },
    {
      "cell_type": "code",
      "execution_count": null,
      "metadata": {
        "id": "-By2Y3Q40JTR"
      },
      "outputs": [],
      "source": [
        "# Analysis of features types\n",
        "numerical_features = ['CreditScore',  'Age', 'Tenure', 'Balance','NumOfProducts', 'EstimatedSalary']\n",
        "categorical_features = ['HasCrCard', 'IsActiveMember','Geography', 'Gender']\n",
        "label = ['Exited']"
      ]
    },
    {
      "cell_type": "code",
      "execution_count": null,
      "metadata": {
        "colab": {
          "base_uri": "https://localhost:8080/"
        },
        "id": "lO5Yq0cd16xr",
        "outputId": "23626517-2a57-4fbe-9d7b-89dec7a1a66c"
      },
      "outputs": [
        {
          "output_type": "stream",
          "name": "stdout",
          "text": [
            "HasCrCard\n",
            "0    2945\n",
            "1    7055\n",
            "Name: HasCrCard, dtype: int64\n",
            " \n",
            "IsActiveMember\n",
            "0    4849\n",
            "1    5151\n",
            "Name: IsActiveMember, dtype: int64\n",
            " \n",
            "Geography\n",
            "France     5014\n",
            "Germany    2509\n",
            "Spain      2477\n",
            "Name: Geography, dtype: int64\n",
            " \n",
            "Gender\n",
            "Female    4543\n",
            "Male      5457\n",
            "Name: Gender, dtype: int64\n",
            " \n"
          ]
        }
      ],
      "source": [
        "# For the different categorical features, we check the possible values\n",
        "for c in categorical_features:\n",
        "  print(df.groupby(c)[c].size())\n",
        "  print (' ')"
      ]
    },
    {
      "cell_type": "code",
      "execution_count": null,
      "metadata": {
        "id": "fPKYE7ma3nS1",
        "colab": {
          "base_uri": "https://localhost:8080/",
          "height": 206
        },
        "outputId": "92047fd3-1a44-48ba-8f73-13ab0eec754f"
      },
      "outputs": [
        {
          "output_type": "execute_result",
          "data": {
            "text/plain": [
              "   CreditScore Geography  Gender  Age  Tenure    Balance  NumOfProducts  \\\n",
              "0          619    France  Female   42       2       0.00              1   \n",
              "1          608     Spain  Female   41       1   83807.86              1   \n",
              "2          502    France  Female   42       8  159660.80              3   \n",
              "3          699    France  Female   39       1       0.00              2   \n",
              "4          850     Spain  Female   43       2  125510.82              1   \n",
              "\n",
              "   HasCrCard  IsActiveMember  EstimatedSalary  Exited  \n",
              "0          1               1        101348.88       1  \n",
              "1          0               1        112542.58       0  \n",
              "2          1               0        113931.57       1  \n",
              "3          0               0         93826.63       0  \n",
              "4          1               1         79084.10       0  "
            ],
            "text/html": [
              "\n",
              "  <div id=\"df-9bf8aee7-3906-4b6e-a466-29692962e39a\">\n",
              "    <div class=\"colab-df-container\">\n",
              "      <div>\n",
              "<style scoped>\n",
              "    .dataframe tbody tr th:only-of-type {\n",
              "        vertical-align: middle;\n",
              "    }\n",
              "\n",
              "    .dataframe tbody tr th {\n",
              "        vertical-align: top;\n",
              "    }\n",
              "\n",
              "    .dataframe thead th {\n",
              "        text-align: right;\n",
              "    }\n",
              "</style>\n",
              "<table border=\"1\" class=\"dataframe\">\n",
              "  <thead>\n",
              "    <tr style=\"text-align: right;\">\n",
              "      <th></th>\n",
              "      <th>CreditScore</th>\n",
              "      <th>Geography</th>\n",
              "      <th>Gender</th>\n",
              "      <th>Age</th>\n",
              "      <th>Tenure</th>\n",
              "      <th>Balance</th>\n",
              "      <th>NumOfProducts</th>\n",
              "      <th>HasCrCard</th>\n",
              "      <th>IsActiveMember</th>\n",
              "      <th>EstimatedSalary</th>\n",
              "      <th>Exited</th>\n",
              "    </tr>\n",
              "  </thead>\n",
              "  <tbody>\n",
              "    <tr>\n",
              "      <th>0</th>\n",
              "      <td>619</td>\n",
              "      <td>France</td>\n",
              "      <td>Female</td>\n",
              "      <td>42</td>\n",
              "      <td>2</td>\n",
              "      <td>0.00</td>\n",
              "      <td>1</td>\n",
              "      <td>1</td>\n",
              "      <td>1</td>\n",
              "      <td>101348.88</td>\n",
              "      <td>1</td>\n",
              "    </tr>\n",
              "    <tr>\n",
              "      <th>1</th>\n",
              "      <td>608</td>\n",
              "      <td>Spain</td>\n",
              "      <td>Female</td>\n",
              "      <td>41</td>\n",
              "      <td>1</td>\n",
              "      <td>83807.86</td>\n",
              "      <td>1</td>\n",
              "      <td>0</td>\n",
              "      <td>1</td>\n",
              "      <td>112542.58</td>\n",
              "      <td>0</td>\n",
              "    </tr>\n",
              "    <tr>\n",
              "      <th>2</th>\n",
              "      <td>502</td>\n",
              "      <td>France</td>\n",
              "      <td>Female</td>\n",
              "      <td>42</td>\n",
              "      <td>8</td>\n",
              "      <td>159660.80</td>\n",
              "      <td>3</td>\n",
              "      <td>1</td>\n",
              "      <td>0</td>\n",
              "      <td>113931.57</td>\n",
              "      <td>1</td>\n",
              "    </tr>\n",
              "    <tr>\n",
              "      <th>3</th>\n",
              "      <td>699</td>\n",
              "      <td>France</td>\n",
              "      <td>Female</td>\n",
              "      <td>39</td>\n",
              "      <td>1</td>\n",
              "      <td>0.00</td>\n",
              "      <td>2</td>\n",
              "      <td>0</td>\n",
              "      <td>0</td>\n",
              "      <td>93826.63</td>\n",
              "      <td>0</td>\n",
              "    </tr>\n",
              "    <tr>\n",
              "      <th>4</th>\n",
              "      <td>850</td>\n",
              "      <td>Spain</td>\n",
              "      <td>Female</td>\n",
              "      <td>43</td>\n",
              "      <td>2</td>\n",
              "      <td>125510.82</td>\n",
              "      <td>1</td>\n",
              "      <td>1</td>\n",
              "      <td>1</td>\n",
              "      <td>79084.10</td>\n",
              "      <td>0</td>\n",
              "    </tr>\n",
              "  </tbody>\n",
              "</table>\n",
              "</div>\n",
              "      <button class=\"colab-df-convert\" onclick=\"convertToInteractive('df-9bf8aee7-3906-4b6e-a466-29692962e39a')\"\n",
              "              title=\"Convert this dataframe to an interactive table.\"\n",
              "              style=\"display:none;\">\n",
              "        \n",
              "  <svg xmlns=\"http://www.w3.org/2000/svg\" height=\"24px\"viewBox=\"0 0 24 24\"\n",
              "       width=\"24px\">\n",
              "    <path d=\"M0 0h24v24H0V0z\" fill=\"none\"/>\n",
              "    <path d=\"M18.56 5.44l.94 2.06.94-2.06 2.06-.94-2.06-.94-.94-2.06-.94 2.06-2.06.94zm-11 1L8.5 8.5l.94-2.06 2.06-.94-2.06-.94L8.5 2.5l-.94 2.06-2.06.94zm10 10l.94 2.06.94-2.06 2.06-.94-2.06-.94-.94-2.06-.94 2.06-2.06.94z\"/><path d=\"M17.41 7.96l-1.37-1.37c-.4-.4-.92-.59-1.43-.59-.52 0-1.04.2-1.43.59L10.3 9.45l-7.72 7.72c-.78.78-.78 2.05 0 2.83L4 21.41c.39.39.9.59 1.41.59.51 0 1.02-.2 1.41-.59l7.78-7.78 2.81-2.81c.8-.78.8-2.07 0-2.86zM5.41 20L4 18.59l7.72-7.72 1.47 1.35L5.41 20z\"/>\n",
              "  </svg>\n",
              "      </button>\n",
              "      \n",
              "  <style>\n",
              "    .colab-df-container {\n",
              "      display:flex;\n",
              "      flex-wrap:wrap;\n",
              "      gap: 12px;\n",
              "    }\n",
              "\n",
              "    .colab-df-convert {\n",
              "      background-color: #E8F0FE;\n",
              "      border: none;\n",
              "      border-radius: 50%;\n",
              "      cursor: pointer;\n",
              "      display: none;\n",
              "      fill: #1967D2;\n",
              "      height: 32px;\n",
              "      padding: 0 0 0 0;\n",
              "      width: 32px;\n",
              "    }\n",
              "\n",
              "    .colab-df-convert:hover {\n",
              "      background-color: #E2EBFA;\n",
              "      box-shadow: 0px 1px 2px rgba(60, 64, 67, 0.3), 0px 1px 3px 1px rgba(60, 64, 67, 0.15);\n",
              "      fill: #174EA6;\n",
              "    }\n",
              "\n",
              "    [theme=dark] .colab-df-convert {\n",
              "      background-color: #3B4455;\n",
              "      fill: #D2E3FC;\n",
              "    }\n",
              "\n",
              "    [theme=dark] .colab-df-convert:hover {\n",
              "      background-color: #434B5C;\n",
              "      box-shadow: 0px 1px 3px 1px rgba(0, 0, 0, 0.15);\n",
              "      filter: drop-shadow(0px 1px 2px rgba(0, 0, 0, 0.3));\n",
              "      fill: #FFFFFF;\n",
              "    }\n",
              "  </style>\n",
              "\n",
              "      <script>\n",
              "        const buttonEl =\n",
              "          document.querySelector('#df-9bf8aee7-3906-4b6e-a466-29692962e39a button.colab-df-convert');\n",
              "        buttonEl.style.display =\n",
              "          google.colab.kernel.accessAllowed ? 'block' : 'none';\n",
              "\n",
              "        async function convertToInteractive(key) {\n",
              "          const element = document.querySelector('#df-9bf8aee7-3906-4b6e-a466-29692962e39a');\n",
              "          const dataTable =\n",
              "            await google.colab.kernel.invokeFunction('convertToInteractive',\n",
              "                                                     [key], {});\n",
              "          if (!dataTable) return;\n",
              "\n",
              "          const docLinkHtml = 'Like what you see? Visit the ' +\n",
              "            '<a target=\"_blank\" href=https://colab.research.google.com/notebooks/data_table.ipynb>data table notebook</a>'\n",
              "            + ' to learn more about interactive tables.';\n",
              "          element.innerHTML = '';\n",
              "          dataTable['output_type'] = 'display_data';\n",
              "          await google.colab.output.renderOutput(dataTable, element);\n",
              "          const docLink = document.createElement('div');\n",
              "          docLink.innerHTML = docLinkHtml;\n",
              "          element.appendChild(docLink);\n",
              "        }\n",
              "      </script>\n",
              "    </div>\n",
              "  </div>\n",
              "  "
            ]
          },
          "metadata": {},
          "execution_count": 11
        }
      ],
      "source": [
        "# we copy the data to make some analysis without modifying the original dataset\n",
        "df_analysis = df.copy()\n",
        "df_analysis.head()"
      ]
    },
    {
      "cell_type": "code",
      "source": [
        "# For the categorical features that are in string format, we replace the values by a corresponding integer in order to be able to calulate a correlation with other features for these values\n",
        "df_analysis.Geography = df_analysis.Geography.map({'France' : 0, 'Germany' : 1, 'Spain' : 2})\n",
        "df_analysis.Gender = df_analysis.Gender.map({'Female' : 0, 'Male' : 1})"
      ],
      "metadata": {
        "id": "HX3g7DKc-PFv"
      },
      "execution_count": null,
      "outputs": []
    },
    {
      "cell_type": "code",
      "source": [
        "df_analysis.head()"
      ],
      "metadata": {
        "id": "bezQLCgx9qvI",
        "colab": {
          "base_uri": "https://localhost:8080/",
          "height": 206
        },
        "outputId": "1db73926-7be6-4cf7-8398-762ffa11733c"
      },
      "execution_count": null,
      "outputs": [
        {
          "output_type": "execute_result",
          "data": {
            "text/plain": [
              "   CreditScore  Geography  Gender  Age  Tenure    Balance  NumOfProducts  \\\n",
              "0          619          0       0   42       2       0.00              1   \n",
              "1          608          2       0   41       1   83807.86              1   \n",
              "2          502          0       0   42       8  159660.80              3   \n",
              "3          699          0       0   39       1       0.00              2   \n",
              "4          850          2       0   43       2  125510.82              1   \n",
              "\n",
              "   HasCrCard  IsActiveMember  EstimatedSalary  Exited  \n",
              "0          1               1        101348.88       1  \n",
              "1          0               1        112542.58       0  \n",
              "2          1               0        113931.57       1  \n",
              "3          0               0         93826.63       0  \n",
              "4          1               1         79084.10       0  "
            ],
            "text/html": [
              "\n",
              "  <div id=\"df-80d8fe04-a263-4baf-b2f8-32ae92326982\">\n",
              "    <div class=\"colab-df-container\">\n",
              "      <div>\n",
              "<style scoped>\n",
              "    .dataframe tbody tr th:only-of-type {\n",
              "        vertical-align: middle;\n",
              "    }\n",
              "\n",
              "    .dataframe tbody tr th {\n",
              "        vertical-align: top;\n",
              "    }\n",
              "\n",
              "    .dataframe thead th {\n",
              "        text-align: right;\n",
              "    }\n",
              "</style>\n",
              "<table border=\"1\" class=\"dataframe\">\n",
              "  <thead>\n",
              "    <tr style=\"text-align: right;\">\n",
              "      <th></th>\n",
              "      <th>CreditScore</th>\n",
              "      <th>Geography</th>\n",
              "      <th>Gender</th>\n",
              "      <th>Age</th>\n",
              "      <th>Tenure</th>\n",
              "      <th>Balance</th>\n",
              "      <th>NumOfProducts</th>\n",
              "      <th>HasCrCard</th>\n",
              "      <th>IsActiveMember</th>\n",
              "      <th>EstimatedSalary</th>\n",
              "      <th>Exited</th>\n",
              "    </tr>\n",
              "  </thead>\n",
              "  <tbody>\n",
              "    <tr>\n",
              "      <th>0</th>\n",
              "      <td>619</td>\n",
              "      <td>0</td>\n",
              "      <td>0</td>\n",
              "      <td>42</td>\n",
              "      <td>2</td>\n",
              "      <td>0.00</td>\n",
              "      <td>1</td>\n",
              "      <td>1</td>\n",
              "      <td>1</td>\n",
              "      <td>101348.88</td>\n",
              "      <td>1</td>\n",
              "    </tr>\n",
              "    <tr>\n",
              "      <th>1</th>\n",
              "      <td>608</td>\n",
              "      <td>2</td>\n",
              "      <td>0</td>\n",
              "      <td>41</td>\n",
              "      <td>1</td>\n",
              "      <td>83807.86</td>\n",
              "      <td>1</td>\n",
              "      <td>0</td>\n",
              "      <td>1</td>\n",
              "      <td>112542.58</td>\n",
              "      <td>0</td>\n",
              "    </tr>\n",
              "    <tr>\n",
              "      <th>2</th>\n",
              "      <td>502</td>\n",
              "      <td>0</td>\n",
              "      <td>0</td>\n",
              "      <td>42</td>\n",
              "      <td>8</td>\n",
              "      <td>159660.80</td>\n",
              "      <td>3</td>\n",
              "      <td>1</td>\n",
              "      <td>0</td>\n",
              "      <td>113931.57</td>\n",
              "      <td>1</td>\n",
              "    </tr>\n",
              "    <tr>\n",
              "      <th>3</th>\n",
              "      <td>699</td>\n",
              "      <td>0</td>\n",
              "      <td>0</td>\n",
              "      <td>39</td>\n",
              "      <td>1</td>\n",
              "      <td>0.00</td>\n",
              "      <td>2</td>\n",
              "      <td>0</td>\n",
              "      <td>0</td>\n",
              "      <td>93826.63</td>\n",
              "      <td>0</td>\n",
              "    </tr>\n",
              "    <tr>\n",
              "      <th>4</th>\n",
              "      <td>850</td>\n",
              "      <td>2</td>\n",
              "      <td>0</td>\n",
              "      <td>43</td>\n",
              "      <td>2</td>\n",
              "      <td>125510.82</td>\n",
              "      <td>1</td>\n",
              "      <td>1</td>\n",
              "      <td>1</td>\n",
              "      <td>79084.10</td>\n",
              "      <td>0</td>\n",
              "    </tr>\n",
              "  </tbody>\n",
              "</table>\n",
              "</div>\n",
              "      <button class=\"colab-df-convert\" onclick=\"convertToInteractive('df-80d8fe04-a263-4baf-b2f8-32ae92326982')\"\n",
              "              title=\"Convert this dataframe to an interactive table.\"\n",
              "              style=\"display:none;\">\n",
              "        \n",
              "  <svg xmlns=\"http://www.w3.org/2000/svg\" height=\"24px\"viewBox=\"0 0 24 24\"\n",
              "       width=\"24px\">\n",
              "    <path d=\"M0 0h24v24H0V0z\" fill=\"none\"/>\n",
              "    <path d=\"M18.56 5.44l.94 2.06.94-2.06 2.06-.94-2.06-.94-.94-2.06-.94 2.06-2.06.94zm-11 1L8.5 8.5l.94-2.06 2.06-.94-2.06-.94L8.5 2.5l-.94 2.06-2.06.94zm10 10l.94 2.06.94-2.06 2.06-.94-2.06-.94-.94-2.06-.94 2.06-2.06.94z\"/><path d=\"M17.41 7.96l-1.37-1.37c-.4-.4-.92-.59-1.43-.59-.52 0-1.04.2-1.43.59L10.3 9.45l-7.72 7.72c-.78.78-.78 2.05 0 2.83L4 21.41c.39.39.9.59 1.41.59.51 0 1.02-.2 1.41-.59l7.78-7.78 2.81-2.81c.8-.78.8-2.07 0-2.86zM5.41 20L4 18.59l7.72-7.72 1.47 1.35L5.41 20z\"/>\n",
              "  </svg>\n",
              "      </button>\n",
              "      \n",
              "  <style>\n",
              "    .colab-df-container {\n",
              "      display:flex;\n",
              "      flex-wrap:wrap;\n",
              "      gap: 12px;\n",
              "    }\n",
              "\n",
              "    .colab-df-convert {\n",
              "      background-color: #E8F0FE;\n",
              "      border: none;\n",
              "      border-radius: 50%;\n",
              "      cursor: pointer;\n",
              "      display: none;\n",
              "      fill: #1967D2;\n",
              "      height: 32px;\n",
              "      padding: 0 0 0 0;\n",
              "      width: 32px;\n",
              "    }\n",
              "\n",
              "    .colab-df-convert:hover {\n",
              "      background-color: #E2EBFA;\n",
              "      box-shadow: 0px 1px 2px rgba(60, 64, 67, 0.3), 0px 1px 3px 1px rgba(60, 64, 67, 0.15);\n",
              "      fill: #174EA6;\n",
              "    }\n",
              "\n",
              "    [theme=dark] .colab-df-convert {\n",
              "      background-color: #3B4455;\n",
              "      fill: #D2E3FC;\n",
              "    }\n",
              "\n",
              "    [theme=dark] .colab-df-convert:hover {\n",
              "      background-color: #434B5C;\n",
              "      box-shadow: 0px 1px 3px 1px rgba(0, 0, 0, 0.15);\n",
              "      filter: drop-shadow(0px 1px 2px rgba(0, 0, 0, 0.3));\n",
              "      fill: #FFFFFF;\n",
              "    }\n",
              "  </style>\n",
              "\n",
              "      <script>\n",
              "        const buttonEl =\n",
              "          document.querySelector('#df-80d8fe04-a263-4baf-b2f8-32ae92326982 button.colab-df-convert');\n",
              "        buttonEl.style.display =\n",
              "          google.colab.kernel.accessAllowed ? 'block' : 'none';\n",
              "\n",
              "        async function convertToInteractive(key) {\n",
              "          const element = document.querySelector('#df-80d8fe04-a263-4baf-b2f8-32ae92326982');\n",
              "          const dataTable =\n",
              "            await google.colab.kernel.invokeFunction('convertToInteractive',\n",
              "                                                     [key], {});\n",
              "          if (!dataTable) return;\n",
              "\n",
              "          const docLinkHtml = 'Like what you see? Visit the ' +\n",
              "            '<a target=\"_blank\" href=https://colab.research.google.com/notebooks/data_table.ipynb>data table notebook</a>'\n",
              "            + ' to learn more about interactive tables.';\n",
              "          element.innerHTML = '';\n",
              "          dataTable['output_type'] = 'display_data';\n",
              "          await google.colab.output.renderOutput(dataTable, element);\n",
              "          const docLink = document.createElement('div');\n",
              "          docLink.innerHTML = docLinkHtml;\n",
              "          element.appendChild(docLink);\n",
              "        }\n",
              "      </script>\n",
              "    </div>\n",
              "  </div>\n",
              "  "
            ]
          },
          "metadata": {},
          "execution_count": 13
        }
      ]
    },
    {
      "cell_type": "code",
      "execution_count": null,
      "metadata": {
        "id": "dJuH6xO_9-UP",
        "colab": {
          "base_uri": "https://localhost:8080/",
          "height": 804
        },
        "outputId": "cf9b3963-873e-477e-c2a6-2a5ebc236cd1"
      },
      "outputs": [
        {
          "output_type": "execute_result",
          "data": {
            "text/plain": [
              "<matplotlib.axes._subplots.AxesSubplot at 0x7fc824531d90>"
            ]
          },
          "metadata": {},
          "execution_count": 14
        },
        {
          "output_type": "display_data",
          "data": {
            "text/plain": [
              "<Figure size 864x864 with 2 Axes>"
            ],
            "image/png": "[encoded data removed]"
          },
          "metadata": {
            "needs_background": "light"
          }
        }
      ],
      "source": [
        "# calculate the correlation matrix\n",
        "import seaborn as sns\n",
        "import matplotlib.pyplot as plt\n",
        "\n",
        "f = plt.figure(figsize = (12,12))\n",
        "sns.set()\n",
        "sns.heatmap(df_analysis.corr().round(2), annot = True, cmap = \"Blues\")"
      ]
    },
    {
      "cell_type": "markdown",
      "source": [
        "**So we notice that there is no correlation between the different features, and there is sense to keep them all.**"
      ],
      "metadata": {
        "id": "h_rJJw91__1w"
      }
    },
    {
      "cell_type": "markdown",
      "source": [
        "# 3.Split of the data in train/test and preparing the automatic data transformation"
      ],
      "metadata": {
        "id": "9dSIvdCbBn7F"
      }
    },
    {
      "cell_type": "code",
      "execution_count": null,
      "metadata": {
        "id": "gt4lfOAYC5Af"
      },
      "outputs": [],
      "source": [
        "# we make the data split between train and test\n",
        "from sklearn.model_selection import train_test_split\n",
        "df_train, df_test = train_test_split(df, test_size = 0.2, random_state = 1)"
      ]
    },
    {
      "cell_type": "code",
      "execution_count": null,
      "metadata": {
        "colab": {
          "base_uri": "https://localhost:8080/"
        },
        "id": "HqJGyQooFHDU",
        "outputId": "3f23d2cc-70cb-42ec-ca3b-b7839584387b"
      },
      "outputs": [
        {
          "output_type": "stream",
          "name": "stdout",
          "text": [
            "The shape of train : (8000, 11)\n",
            "The shape of test : (2000, 11)\n"
          ]
        }
      ],
      "source": [
        "print(f\"The shape of train : {df_train.shape}\")\n",
        "print(f\"The shape of test : {df_test.shape}\")"
      ]
    },
    {
      "cell_type": "code",
      "execution_count": null,
      "metadata": {
        "id": "Ir3E0tAKCIdM"
      },
      "outputs": [],
      "source": [
        "df_train_x = df_train.iloc[:,:-1]\n",
        "df_train_y = df_train.iloc[:,-1]\n",
        "df_test_x = df_test.iloc[:,:-1]\n",
        "df_test_y = df_test.iloc[:,-1]"
      ]
    },
    {
      "cell_type": "code",
      "execution_count": null,
      "metadata": {
        "id": "dxY6qgTXHXn7",
        "colab": {
          "base_uri": "https://localhost:8080/",
          "height": 206
        },
        "outputId": "80ee2b18-51ba-4ed6-a123-2246761b8d42"
      },
      "outputs": [
        {
          "output_type": "execute_result",
          "data": {
            "text/plain": [
              "      CreditScore Geography  Gender  Age  Tenure    Balance  NumOfProducts  \\\n",
              "2694          628   Germany    Male   29       3  113146.98              2   \n",
              "5140          626    France  Female   29       4  105767.28              2   \n",
              "2568          612   Germany  Female   47       6  130024.87              1   \n",
              "3671          646   Germany  Female   52       6  111739.40              2   \n",
              "7427          714     Spain    Male   33       8  122017.19              1   \n",
              "\n",
              "      HasCrCard  IsActiveMember  EstimatedSalary  \n",
              "2694          0               1        124749.08  \n",
              "5140          0               0         41104.82  \n",
              "2568          1               1         45750.21  \n",
              "3671          0               1         68367.18  \n",
              "7427          0               0        162515.17  "
            ],
            "text/html": [
              "\n",
              "  <div id=\"df-f81219df-1b9f-4b11-8050-86154fc3a0fe\">\n",
              "    <div class=\"colab-df-container\">\n",
              "      <div>\n",
              "<style scoped>\n",
              "    .dataframe tbody tr th:only-of-type {\n",
              "        vertical-align: middle;\n",
              "    }\n",
              "\n",
              "    .dataframe tbody tr th {\n",
              "        vertical-align: top;\n",
              "    }\n",
              "\n",
              "    .dataframe thead th {\n",
              "        text-align: right;\n",
              "    }\n",
              "</style>\n",
              "<table border=\"1\" class=\"dataframe\">\n",
              "  <thead>\n",
              "    <tr style=\"text-align: right;\">\n",
              "      <th></th>\n",
              "      <th>CreditScore</th>\n",
              "      <th>Geography</th>\n",
              "      <th>Gender</th>\n",
              "      <th>Age</th>\n",
              "      <th>Tenure</th>\n",
              "      <th>Balance</th>\n",
              "      <th>NumOfProducts</th>\n",
              "      <th>HasCrCard</th>\n",
              "      <th>IsActiveMember</th>\n",
              "      <th>EstimatedSalary</th>\n",
              "    </tr>\n",
              "  </thead>\n",
              "  <tbody>\n",
              "    <tr>\n",
              "      <th>2694</th>\n",
              "      <td>628</td>\n",
              "      <td>Germany</td>\n",
              "      <td>Male</td>\n",
              "      <td>29</td>\n",
              "      <td>3</td>\n",
              "      <td>113146.98</td>\n",
              "      <td>2</td>\n",
              "      <td>0</td>\n",
              "      <td>1</td>\n",
              "      <td>124749.08</td>\n",
              "    </tr>\n",
              "    <tr>\n",
              "      <th>5140</th>\n",
              "      <td>626</td>\n",
              "      <td>France</td>\n",
              "      <td>Female</td>\n",
              "      <td>29</td>\n",
              "      <td>4</td>\n",
              "      <td>105767.28</td>\n",
              "      <td>2</td>\n",
              "      <td>0</td>\n",
              "      <td>0</td>\n",
              "      <td>41104.82</td>\n",
              "    </tr>\n",
              "    <tr>\n",
              "      <th>2568</th>\n",
              "      <td>612</td>\n",
              "      <td>Germany</td>\n",
              "      <td>Female</td>\n",
              "      <td>47</td>\n",
              "      <td>6</td>\n",
              "      <td>130024.87</td>\n",
              "      <td>1</td>\n",
              "      <td>1</td>\n",
              "      <td>1</td>\n",
              "      <td>45750.21</td>\n",
              "    </tr>\n",
              "    <tr>\n",
              "      <th>3671</th>\n",
              "      <td>646</td>\n",
              "      <td>Germany</td>\n",
              "      <td>Female</td>\n",
              "      <td>52</td>\n",
              "      <td>6</td>\n",
              "      <td>111739.40</td>\n",
              "      <td>2</td>\n",
              "      <td>0</td>\n",
              "      <td>1</td>\n",
              "      <td>68367.18</td>\n",
              "    </tr>\n",
              "    <tr>\n",
              "      <th>7427</th>\n",
              "      <td>714</td>\n",
              "      <td>Spain</td>\n",
              "      <td>Male</td>\n",
              "      <td>33</td>\n",
              "      <td>8</td>\n",
              "      <td>122017.19</td>\n",
              "      <td>1</td>\n",
              "      <td>0</td>\n",
              "      <td>0</td>\n",
              "      <td>162515.17</td>\n",
              "    </tr>\n",
              "  </tbody>\n",
              "</table>\n",
              "</div>\n",
              "      <button class=\"colab-df-convert\" onclick=\"convertToInteractive('df-f81219df-1b9f-4b11-8050-86154fc3a0fe')\"\n",
              "              title=\"Convert this dataframe to an interactive table.\"\n",
              "              style=\"display:none;\">\n",
              "        \n",
              "  <svg xmlns=\"http://www.w3.org/2000/svg\" height=\"24px\"viewBox=\"0 0 24 24\"\n",
              "       width=\"24px\">\n",
              "    <path d=\"M0 0h24v24H0V0z\" fill=\"none\"/>\n",
              "    <path d=\"M18.56 5.44l.94 2.06.94-2.06 2.06-.94-2.06-.94-.94-2.06-.94 2.06-2.06.94zm-11 1L8.5 8.5l.94-2.06 2.06-.94-2.06-.94L8.5 2.5l-.94 2.06-2.06.94zm10 10l.94 2.06.94-2.06 2.06-.94-2.06-.94-.94-2.06-.94 2.06-2.06.94z\"/><path d=\"M17.41 7.96l-1.37-1.37c-.4-.4-.92-.59-1.43-.59-.52 0-1.04.2-1.43.59L10.3 9.45l-7.72 7.72c-.78.78-.78 2.05 0 2.83L4 21.41c.39.39.9.59 1.41.59.51 0 1.02-.2 1.41-.59l7.78-7.78 2.81-2.81c.8-.78.8-2.07 0-2.86zM5.41 20L4 18.59l7.72-7.72 1.47 1.35L5.41 20z\"/>\n",
              "  </svg>\n",
              "      </button>\n",
              "      \n",
              "  <style>\n",
              "    .colab-df-container {\n",
              "      display:flex;\n",
              "      flex-wrap:wrap;\n",
              "      gap: 12px;\n",
              "    }\n",
              "\n",
              "    .colab-df-convert {\n",
              "      background-color: #E8F0FE;\n",
              "      border: none;\n",
              "      border-radius: 50%;\n",
              "      cursor: pointer;\n",
              "      display: none;\n",
              "      fill: #1967D2;\n",
              "      height: 32px;\n",
              "      padding: 0 0 0 0;\n",
              "      width: 32px;\n",
              "    }\n",
              "\n",
              "    .colab-df-convert:hover {\n",
              "      background-color: #E2EBFA;\n",
              "      box-shadow: 0px 1px 2px rgba(60, 64, 67, 0.3), 0px 1px 3px 1px rgba(60, 64, 67, 0.15);\n",
              "      fill: #174EA6;\n",
              "    }\n",
              "\n",
              "    [theme=dark] .colab-df-convert {\n",
              "      background-color: #3B4455;\n",
              "      fill: #D2E3FC;\n",
              "    }\n",
              "\n",
              "    [theme=dark] .colab-df-convert:hover {\n",
              "      background-color: #434B5C;\n",
              "      box-shadow: 0px 1px 3px 1px rgba(0, 0, 0, 0.15);\n",
              "      filter: drop-shadow(0px 1px 2px rgba(0, 0, 0, 0.3));\n",
              "      fill: #FFFFFF;\n",
              "    }\n",
              "  </style>\n",
              "\n",
              "      <script>\n",
              "        const buttonEl =\n",
              "          document.querySelector('#df-f81219df-1b9f-4b11-8050-86154fc3a0fe button.colab-df-convert');\n",
              "        buttonEl.style.display =\n",
              "          google.colab.kernel.accessAllowed ? 'block' : 'none';\n",
              "\n",
              "        async function convertToInteractive(key) {\n",
              "          const element = document.querySelector('#df-f81219df-1b9f-4b11-8050-86154fc3a0fe');\n",
              "          const dataTable =\n",
              "            await google.colab.kernel.invokeFunction('convertToInteractive',\n",
              "                                                     [key], {});\n",
              "          if (!dataTable) return;\n",
              "\n",
              "          const docLinkHtml = 'Like what you see? Visit the ' +\n",
              "            '<a target=\"_blank\" href=https://colab.research.google.com/notebooks/data_table.ipynb>data table notebook</a>'\n",
              "            + ' to learn more about interactive tables.';\n",
              "          element.innerHTML = '';\n",
              "          dataTable['output_type'] = 'display_data';\n",
              "          await google.colab.output.renderOutput(dataTable, element);\n",
              "          const docLink = document.createElement('div');\n",
              "          docLink.innerHTML = docLinkHtml;\n",
              "          element.appendChild(docLink);\n",
              "        }\n",
              "      </script>\n",
              "    </div>\n",
              "  </div>\n",
              "  "
            ]
          },
          "metadata": {},
          "execution_count": 18
        }
      ],
      "source": [
        "df_train_x.head()"
      ]
    },
    {
      "cell_type": "code",
      "execution_count": null,
      "metadata": {
        "id": "6a1qtZyZEzFt"
      },
      "outputs": [],
      "source": [
        "# we prepare the transformation operations on numerical features and string features in pipelines in order to be able to apply the same transformations for the future model in prediction\n",
        "from sklearn.pipeline import Pipeline, make_pipeline\n",
        "from sklearn.preprocessing import StandardScaler, OrdinalEncoder\n",
        "from sklearn.impute import SimpleImputer\n",
        "\n",
        "numerical_pipeline = make_pipeline(SimpleImputer(), StandardScaler())\n",
        "\n",
        "categorical_pipeline = make_pipeline(SimpleImputer(strategy = 'most_frequent'), OrdinalEncoder())"
      ]
    },
    {
      "cell_type": "code",
      "execution_count": null,
      "metadata": {
        "id": "Gtiv7oKehUYx"
      },
      "outputs": [],
      "source": [
        "# we include the transformation operations into a single column transformer. Each transformation applies to the corresponding features\n",
        "from sklearn.compose import make_column_transformer\n",
        "from sklearn.preprocessing import OrdinalEncoder, LabelEncoder\n",
        "\n",
        "preprocessor = make_column_transformer((numerical_pipeline, numerical_features), (categorical_pipeline, categorical_features))"
      ]
    },
    {
      "cell_type": "code",
      "execution_count": null,
      "metadata": {
        "id": "TUMjcFHnkArm",
        "colab": {
          "base_uri": "https://localhost:8080/"
        },
        "outputId": "ad13b8ac-daa8-4f87-bcba-6062af0f4f20"
      },
      "outputs": [
        {
          "output_type": "execute_result",
          "data": {
            "text/plain": [
              "array([[-0.23082038, -0.94449979, -0.70174202, ...,  1.        ,\n",
              "         1.        ,  1.        ],\n",
              "       [-0.25150912, -0.94449979, -0.35520275, ...,  0.        ,\n",
              "         0.        ,  0.        ],\n",
              "       [-0.3963303 ,  0.77498705,  0.33787579, ...,  1.        ,\n",
              "         1.        ,  0.        ],\n",
              "       ...,\n",
              "       [ 0.22433188,  0.58393295,  1.3774936 , ...,  1.        ,\n",
              "         0.        ,  0.        ],\n",
              "       [ 0.13123255,  0.01077067,  1.03095433, ...,  1.        ,\n",
              "         0.        ,  0.        ],\n",
              "       [ 1.1656695 ,  0.29735181,  0.33787579, ...,  0.        ,\n",
              "         1.        ,  1.        ]])"
            ]
          },
          "metadata": {},
          "execution_count": 21
        }
      ],
      "source": [
        "# test of the automatic transformations\n",
        "preprocessor.fit_transform(df_train_x)\n"
      ]
    },
    {
      "cell_type": "markdown",
      "source": [
        "# 4.Trying several models"
      ],
      "metadata": {
        "id": "a-E5AIKUIDFL"
      }
    },
    {
      "cell_type": "code",
      "source": [
        "cd '/content/drive/MyDrive/Colab Notebooks/projet/'"
      ],
      "metadata": {
        "colab": {
          "base_uri": "https://localhost:8080/"
        },
        "id": "8lZAWUKJkXbK",
        "outputId": "be115a9d-71a2-4399-a240-5d91d6136040"
      },
      "execution_count": null,
      "outputs": [
        {
          "output_type": "stream",
          "name": "stdout",
          "text": [
            "/content/drive/MyDrive/Colab Notebooks/projet\n"
          ]
        }
      ]
    },
    {
      "cell_type": "code",
      "source": [
        "# we have to install scikeras to be able to import the specific modules that have been developped\n",
        "!pip install scikeras"
      ],
      "metadata": {
        "id": "8yjWek5llnHj"
      },
      "execution_count": null,
      "outputs": []
    },
    {
      "cell_type": "code",
      "source": [
        "# we import one specific class ModelWrapper and one specific function model_nn that will be used for the models processing\n",
        "from specific_modules import ModelWrapper, model_nn"
      ],
      "metadata": {
        "id": "a5a8qdbckoPI"
      },
      "execution_count": null,
      "outputs": []
    },
    {
      "cell_type": "code",
      "source": [
        "list_of_models = []"
      ],
      "metadata": {
        "id": "xZSve57QsNz5"
      },
      "execution_count": null,
      "outputs": []
    },
    {
      "cell_type": "markdown",
      "source": [
        "## 4.1.Model 1 : XGBClassifier"
      ],
      "metadata": {
        "id": "ZweW4zo7F_Ss"
      }
    },
    {
      "cell_type": "code",
      "source": [
        "# we try the XGB model with a GridSearchCV to optimize the hyper parameters\n",
        "from sklearn.model_selection import GridSearchCV\n",
        "from xgboost import XGBClassifier\n",
        "\n",
        "param_xgb_grid = {'max_depth': [5,6,7,8], 'gamma': [0.01,0.001],'min_child_weight':[1,5,10], 'learning_rate': [0.05,0.1,0.2], 'n_estimators':[5,10]}\n",
        "xgb_grid = GridSearchCV(XGBClassifier(), param_grid = param_xgb_grid, cv=5, refit=True, verbose=0)\n",
        "\n",
        "model1 = ModelWrapper(base_preprocessor=preprocessor, base_model=xgb_grid, tag='XGBClassifier trained on basic data')"
      ],
      "metadata": {
        "id": "vHM62J4AF67a"
      },
      "execution_count": null,
      "outputs": []
    },
    {
      "cell_type": "code",
      "execution_count": null,
      "metadata": {
        "id": "pGk5AgMiMWnm",
        "colab": {
          "base_uri": "https://localhost:8080/"
        },
        "outputId": "ac30f7ee-adf6-41db-c002-d524ff5b6676"
      },
      "outputs": [
        {
          "output_type": "execute_result",
          "data": {
            "text/plain": [
              "Tag : 'XGBClassifier trained on basic data'\n",
              "Model name : GridSearchCV(cv=5, estimator=XGBClassifier(),\n",
              "             param_grid={'gamma': [0.01, 0.001],\n",
              "                         'learning_rate': [0.05, 0.1, 0.2],\n",
              "                         'max_depth': [5, 6, 7, 8],\n",
              "                         'min_child_weight': [1, 5, 10],\n",
              "                         'n_estimators': [5, 10]})\n",
              "Best estimator : XGBClassifier(gamma=0.01, learning_rate=0.2, max_depth=6, n_estimators=10)\n",
              "Best score : 0.8612500000000001"
            ]
          },
          "metadata": {},
          "execution_count": 27
        }
      ],
      "source": [
        "model1.fit(df_train_x, df_train_y)"
      ]
    },
    {
      "cell_type": "code",
      "source": [
        "modele1_training_analysis = pd.DataFrame(model1.named_steps['model'].cv_results_)\n",
        "modele1_training_analysis.sort_values(by=['mean_test_score'], ascending=False).head()"
      ],
      "metadata": {
        "id": "UFPF-vzfcr-X"
      },
      "execution_count": null,
      "outputs": []
    },
    {
      "cell_type": "code",
      "source": [
        "model1_predictions = model1.predict(df_test_x)"
      ],
      "metadata": {
        "id": "64wX5a_XdYcd"
      },
      "execution_count": null,
      "outputs": []
    },
    {
      "cell_type": "code",
      "source": [
        "model1.evaluate(y_true = df_test_y, y_pred = model1_predictions)"
      ],
      "metadata": {
        "colab": {
          "base_uri": "https://localhost:8080/"
        },
        "id": "HReZ7a97SgQP",
        "outputId": "73c14074-06a6-47f1-9baa-22f460fc1096"
      },
      "execution_count": null,
      "outputs": [
        {
          "output_type": "stream",
          "name": "stdout",
          "text": [
            "Confusion matrix : array([[1538,   47],\n",
            "       [ 233,  182]])\n",
            "Precision : 0.7947598253275109\n",
            "Accuracy : 0.86\n",
            "Recall : 0.43855421686746987\n"
          ]
        }
      ]
    },
    {
      "cell_type": "code",
      "source": [
        "model1.calculate_roc(y_true = df_test_y, y_score = model1.predict_proba(df_test_x)[:,1])"
      ],
      "metadata": {
        "colab": {
          "base_uri": "https://localhost:8080/"
        },
        "id": "IYD4MuESV0pi",
        "outputId": "7ff858f3-9ea2-4243-b48c-2b77dc80ac5e"
      },
      "execution_count": null,
      "outputs": [
        {
          "output_type": "stream",
          "name": "stdout",
          "text": [
            "Roc_auc_score : 0.8692250389570901\n"
          ]
        }
      ]
    },
    {
      "cell_type": "code",
      "source": [
        "list_of_models.append(model1)"
      ],
      "metadata": {
        "id": "WTWIRgkomf1O"
      },
      "execution_count": null,
      "outputs": []
    },
    {
      "cell_type": "markdown",
      "source": [
        "## 4.2.Model 2 : Logistic regression"
      ],
      "metadata": {
        "id": "LqBIai2WL_34"
      }
    },
    {
      "cell_type": "code",
      "source": [
        "# Fit logistic regression\n",
        "from sklearn.linear_model import LogisticRegression\n",
        "\n",
        "param_logistic_grid = {'C': [0.1,0.5,1,10,50,100], 'max_iter': [250], 'fit_intercept':[True],'intercept_scaling':[1],\n",
        "              'penalty':['l2'], 'tol':[0.00001,0.0001,0.000001]}\n",
        "logistic_Grid = GridSearchCV(LogisticRegression(solver='lbfgs'),param_grid = param_logistic_grid, cv = 10, refit=True, verbose=0)\n",
        "\n",
        "model2 = ModelWrapper(base_preprocessor=preprocessor, base_model = logistic_Grid, tag = 'LogisticRegression trained on basic data')"
      ],
      "metadata": {
        "id": "vuaFjdyoMHy-"
      },
      "execution_count": null,
      "outputs": []
    },
    {
      "cell_type": "code",
      "source": [
        "model2.fit(df_train_x, df_train_y)"
      ],
      "metadata": {
        "id": "L3EEzERSPT9s",
        "colab": {
          "base_uri": "https://localhost:8080/"
        },
        "outputId": "1502dce5-835f-4d07-fb8f-bae0707e631b"
      },
      "execution_count": null,
      "outputs": [
        {
          "output_type": "execute_result",
          "data": {
            "text/plain": [
              "Tag : 'LogisticRegression trained on basic data'\n",
              "Model name : GridSearchCV(cv=10, estimator=LogisticRegression(),\n",
              "             param_grid={'C': [0.1, 0.5, 1, 10, 50, 100],\n",
              "                         'fit_intercept': [True], 'intercept_scaling': [1],\n",
              "                         'max_iter': [250], 'penalty': ['l2'],\n",
              "                         'tol': [1e-05, 0.0001, 1e-06]})\n",
              "Best estimator : LogisticRegression(C=0.5, max_iter=250, tol=1e-05)\n",
              "Best score : 0.810125"
            ]
          },
          "metadata": {},
          "execution_count": 35
        }
      ]
    },
    {
      "cell_type": "code",
      "source": [
        "model2_predictions = model2.predict(df_test_x)"
      ],
      "metadata": {
        "id": "H-sk5MzSP_uT"
      },
      "execution_count": null,
      "outputs": []
    },
    {
      "cell_type": "code",
      "source": [
        "model2.evaluate(y_true = df_test_y, y_pred = model2_predictions)"
      ],
      "metadata": {
        "id": "09EQtWZNQIhU",
        "colab": {
          "base_uri": "https://localhost:8080/"
        },
        "outputId": "59e7d104-f67d-4fb4-edc6-aa3fe202b480"
      },
      "execution_count": null,
      "outputs": [
        {
          "output_type": "stream",
          "name": "stdout",
          "text": [
            "Confusion matrix : array([[1536,   49],\n",
            "       [ 339,   76]])\n",
            "Precision : 0.608\n",
            "Accuracy : 0.806\n",
            "Recall : 0.18313253012048192\n"
          ]
        }
      ]
    },
    {
      "cell_type": "code",
      "source": [
        "model2.calculate_roc(y_true = df_test_y, y_score = model2.predict_proba(df_test_x)[:,1])"
      ],
      "metadata": {
        "id": "H64NFlUZQTU8",
        "colab": {
          "base_uri": "https://localhost:8080/"
        },
        "outputId": "33ca2b97-0548-4f37-e0c9-8bb09981225d"
      },
      "execution_count": null,
      "outputs": [
        {
          "output_type": "stream",
          "name": "stdout",
          "text": [
            "Roc_auc_score : 0.7609623351449964\n"
          ]
        }
      ]
    },
    {
      "cell_type": "code",
      "source": [
        "list_of_models.append(model2)"
      ],
      "metadata": {
        "id": "V7CPA8bWwLsG"
      },
      "execution_count": null,
      "outputs": []
    },
    {
      "cell_type": "markdown",
      "source": [
        "## 4.3.Model 3 : SVM with Pol Kernel"
      ],
      "metadata": {
        "id": "3V0Oh7wARRih"
      }
    },
    {
      "cell_type": "code",
      "source": [
        "# Fit SVM\n",
        "from sklearn.svm import SVC\n",
        "\n",
        "param_svm_grid = {'C': [0.5,1,10,50,100], 'gamma': [0.1,0.01,0.001],'probability':[True],'kernel': ['poly'],'degree':[2,3] }\n",
        "svm_Grid = GridSearchCV(SVC(),param_grid = param_svm_grid, cv = 3, refit=True, verbose=0)\n",
        "\n",
        "model3 = ModelWrapper(base_preprocessor=preprocessor, base_model = svm_Grid, tag = 'SVM trained on basic data')"
      ],
      "metadata": {
        "id": "spbOHffVRoQq"
      },
      "execution_count": null,
      "outputs": []
    },
    {
      "cell_type": "code",
      "source": [
        "model3.fit(df_train_x, df_train_y)"
      ],
      "metadata": {
        "id": "OtKqRRJ-SW_2",
        "colab": {
          "base_uri": "https://localhost:8080/"
        },
        "outputId": "b66f8a70-1851-4bb4-9d0c-34d19f14d3f7"
      },
      "execution_count": null,
      "outputs": [
        {
          "output_type": "execute_result",
          "data": {
            "text/plain": [
              "Tag : 'SVM trained on basic data'\n",
              "Model name : GridSearchCV(cv=3, estimator=SVC(),\n",
              "             param_grid={'C': [0.5, 1, 10, 50, 100], 'degree': [2, 3],\n",
              "                         'gamma': [0.1, 0.01, 0.001], 'kernel': ['poly'],\n",
              "                         'probability': [True]})\n",
              "Best estimator : SVC(C=50, gamma=0.1, kernel='poly', probability=True)\n",
              "Best score : 0.8466245732786777"
            ]
          },
          "metadata": {},
          "execution_count": 41
        }
      ]
    },
    {
      "cell_type": "code",
      "source": [
        "model3_predictions = model3.predict(df_test_x)"
      ],
      "metadata": {
        "id": "Hgo07T0eiB89"
      },
      "execution_count": null,
      "outputs": []
    },
    {
      "cell_type": "code",
      "source": [
        "model3.evaluate(y_true = df_test_y, y_pred = model3_predictions)"
      ],
      "metadata": {
        "colab": {
          "base_uri": "https://localhost:8080/"
        },
        "id": "G8z18qj6iG68",
        "outputId": "8e472361-90f8-4c1b-aa82-60ef9abc7c99"
      },
      "execution_count": null,
      "outputs": [
        {
          "output_type": "stream",
          "name": "stdout",
          "text": [
            "Confusion matrix : array([[1567,   18],\n",
            "       [ 274,  141]])\n",
            "Precision : 0.8867924528301887\n",
            "Accuracy : 0.854\n",
            "Recall : 0.3397590361445783\n"
          ]
        }
      ]
    },
    {
      "cell_type": "code",
      "source": [
        "model3.calculate_roc(y_true = df_test_y, y_score = model3.predict_proba(df_test_x)[:,1])"
      ],
      "metadata": {
        "colab": {
          "base_uri": "https://localhost:8080/"
        },
        "id": "ZIY5k2NliT5G",
        "outputId": "830b8974-4b7f-44f7-86a0-507ab1e79b0a"
      },
      "execution_count": null,
      "outputs": [
        {
          "output_type": "stream",
          "name": "stdout",
          "text": [
            "Roc_auc_score : 0.8331678765535326\n"
          ]
        }
      ]
    },
    {
      "cell_type": "code",
      "source": [
        "list_of_models.append(model3)"
      ],
      "metadata": {
        "id": "gBYo88PqwXXW"
      },
      "execution_count": null,
      "outputs": []
    },
    {
      "cell_type": "markdown",
      "source": [
        "## 4.4.Model 4 : Random Forest"
      ],
      "metadata": {
        "id": "uqz7aqSpVkx9"
      }
    },
    {
      "cell_type": "code",
      "source": [
        "from sklearn.ensemble import RandomForestClassifier\n",
        "\n",
        "param_rf_grid = {'max_depth': [3, 5, 6, 7, 8], 'max_features': [2,4,6,7,8,9],'n_estimators':[50,100],'min_samples_split': [3, 5, 6, 7]}\n",
        "rf_grid = GridSearchCV(RandomForestClassifier(), param_grid = param_rf_grid, cv=5, refit=True, verbose=0)\n",
        "\n",
        "model4 = ModelWrapper(base_preprocessor=preprocessor, base_model=rf_grid, tag = 'RandomForest trained on basic data')"
      ],
      "metadata": {
        "id": "BTdre9TGVjw0"
      },
      "execution_count": null,
      "outputs": []
    },
    {
      "cell_type": "code",
      "source": [
        "model4.fit(df_train_x, df_train_y)"
      ],
      "metadata": {
        "colab": {
          "base_uri": "https://localhost:8080/"
        },
        "id": "KPpRTCsVV-0N",
        "outputId": "991a0294-55b0-4f02-b10c-e897a21463c7"
      },
      "execution_count": null,
      "outputs": [
        {
          "output_type": "execute_result",
          "data": {
            "text/plain": [
              "Tag : 'RandomForest trained on basic data'\n",
              "Model name : GridSearchCV(cv=5, estimator=RandomForestClassifier(),\n",
              "             param_grid={'max_depth': [3, 5, 6, 7, 8],\n",
              "                         'max_features': [2, 4, 6, 7, 8, 9],\n",
              "                         'min_samples_split': [3, 5, 6, 7],\n",
              "                         'n_estimators': [50, 100]})\n",
              "Best estimator : RandomForestClassifier(max_depth=8, max_features=7, min_samples_split=6,\n",
              "                       n_estimators=50)\n",
              "Best score : 0.85925"
            ]
          },
          "metadata": {},
          "execution_count": 47
        }
      ]
    },
    {
      "cell_type": "code",
      "source": [
        "model4_predictions = model4.predict(df_test_x)"
      ],
      "metadata": {
        "id": "ImCNhMgmZNyD"
      },
      "execution_count": null,
      "outputs": []
    },
    {
      "cell_type": "code",
      "source": [
        "model4.evaluate(y_true = df_test_y, y_pred = model4_predictions)"
      ],
      "metadata": {
        "colab": {
          "base_uri": "https://localhost:8080/"
        },
        "id": "2SEzd3rUZSfq",
        "outputId": "94d02a34-81d8-46e3-fdc6-abdf9bcd4351"
      },
      "execution_count": null,
      "outputs": [
        {
          "output_type": "stream",
          "name": "stdout",
          "text": [
            "Confusion matrix : array([[1545,   40],\n",
            "       [ 233,  182]])\n",
            "Precision : 0.8198198198198198\n",
            "Accuracy : 0.8635\n",
            "Recall : 0.43855421686746987\n"
          ]
        }
      ]
    },
    {
      "cell_type": "code",
      "source": [
        "model4.calculate_roc(y_true = df_test_y, y_score = model4.predict_proba(df_test_x)[:,1])"
      ],
      "metadata": {
        "colab": {
          "base_uri": "https://localhost:8080/"
        },
        "id": "xdOW2oznmMwu",
        "outputId": "14417782-a903-4a53-b78d-0861a93e53ea"
      },
      "execution_count": null,
      "outputs": [
        {
          "output_type": "stream",
          "name": "stdout",
          "text": [
            "Roc_auc_score : 0.8716780053969821\n"
          ]
        }
      ]
    },
    {
      "cell_type": "code",
      "source": [
        "list_of_models.append(model4)"
      ],
      "metadata": {
        "id": "Cxs60Ui-wl_Q"
      },
      "execution_count": null,
      "outputs": []
    },
    {
      "cell_type": "markdown",
      "source": [
        "## 4.5.Model 5 : Neural network"
      ],
      "metadata": {
        "id": "lH8zH03vZr5i"
      }
    },
    {
      "cell_type": "code",
      "source": [
        "from scikeras.wrappers import KerasClassifier\n",
        "\n",
        "model5 = ModelWrapper(base_preprocessor=preprocessor, base_model=KerasClassifier(model = model_nn, batch_size=100, verbose = 2).set_params(epochs = 200), tag = 'NeuralNetwork trained on basic data')"
      ],
      "metadata": {
        "id": "GBvz2slXZwuC"
      },
      "execution_count": null,
      "outputs": []
    },
    {
      "cell_type": "code",
      "source": [
        "model5.fit(df_train_x, df_train_y)"
      ],
      "metadata": {
        "id": "0-eSylYg9VbR",
        "colab": {
          "base_uri": "https://localhost:8080/"
        },
        "outputId": "e1d5233b-76dd-4db3-bcd5-d42fe284543f"
      },
      "execution_count": null,
      "outputs": [
        {
          "output_type": "stream",
          "name": "stdout",
          "text": [
            "Epoch 1/200\n",
            "80/80 - 1s - loss: 0.6097 - accuracy: 0.7922 - mean_squared_error: 0.2107 - auc: 0.5237 - 916ms/epoch - 11ms/step\n",
            "Epoch 2/200\n",
            "80/80 - 0s - loss: 0.4479 - accuracy: 0.7972 - mean_squared_error: 0.1434 - auc: 0.7382 - 106ms/epoch - 1ms/step\n",
            "Epoch 3/200\n",
            "80/80 - 0s - loss: 0.4333 - accuracy: 0.7972 - mean_squared_error: 0.1381 - auc: 0.7630 - 105ms/epoch - 1ms/step\n",
            "Epoch 4/200\n",
            "80/80 - 0s - loss: 0.4284 - accuracy: 0.7972 - mean_squared_error: 0.1362 - auc: 0.7717 - 96ms/epoch - 1ms/step\n",
            "Epoch 5/200\n",
            "80/80 - 0s - loss: 0.4236 - accuracy: 0.7972 - mean_squared_error: 0.1343 - auc: 0.7803 - 97ms/epoch - 1ms/step\n",
            "Epoch 6/200\n",
            "80/80 - 0s - loss: 0.4183 - accuracy: 0.7972 - mean_squared_error: 0.1324 - auc: 0.7899 - 109ms/epoch - 1ms/step\n",
            "Epoch 7/200\n",
            "80/80 - 0s - loss: 0.4111 - accuracy: 0.7972 - mean_squared_error: 0.1297 - auc: 0.8013 - 100ms/epoch - 1ms/step\n",
            "Epoch 8/200\n",
            "80/80 - 0s - loss: 0.4042 - accuracy: 0.7972 - mean_squared_error: 0.1273 - auc: 0.8112 - 123ms/epoch - 2ms/step\n",
            "Epoch 9/200\n",
            "80/80 - 0s - loss: 0.3972 - accuracy: 0.8075 - mean_squared_error: 0.1249 - auc: 0.8209 - 102ms/epoch - 1ms/step\n",
            "Epoch 10/200\n",
            "80/80 - 0s - loss: 0.3899 - accuracy: 0.8271 - mean_squared_error: 0.1226 - auc: 0.8304 - 103ms/epoch - 1ms/step\n",
            "Epoch 11/200\n",
            "80/80 - 0s - loss: 0.3841 - accuracy: 0.8370 - mean_squared_error: 0.1206 - auc: 0.8382 - 101ms/epoch - 1ms/step\n",
            "Epoch 12/200\n",
            "80/80 - 0s - loss: 0.3789 - accuracy: 0.8446 - mean_squared_error: 0.1188 - auc: 0.8433 - 98ms/epoch - 1ms/step\n",
            "Epoch 13/200\n",
            "80/80 - 0s - loss: 0.3742 - accuracy: 0.8490 - mean_squared_error: 0.1169 - auc: 0.8459 - 99ms/epoch - 1ms/step\n",
            "Epoch 14/200\n",
            "80/80 - 0s - loss: 0.3636 - accuracy: 0.8537 - mean_squared_error: 0.1122 - auc: 0.8484 - 100ms/epoch - 1ms/step\n",
            "Epoch 15/200\n",
            "80/80 - 0s - loss: 0.3576 - accuracy: 0.8551 - mean_squared_error: 0.1101 - auc: 0.8509 - 101ms/epoch - 1ms/step\n",
            "Epoch 16/200\n",
            "80/80 - 0s - loss: 0.3544 - accuracy: 0.8559 - mean_squared_error: 0.1092 - auc: 0.8517 - 97ms/epoch - 1ms/step\n",
            "Epoch 17/200\n",
            "80/80 - 0s - loss: 0.3513 - accuracy: 0.8574 - mean_squared_error: 0.1079 - auc: 0.8532 - 104ms/epoch - 1ms/step\n",
            "Epoch 18/200\n",
            "80/80 - 0s - loss: 0.3489 - accuracy: 0.8584 - mean_squared_error: 0.1072 - auc: 0.8552 - 95ms/epoch - 1ms/step\n",
            "Epoch 19/200\n",
            "80/80 - 0s - loss: 0.3474 - accuracy: 0.8594 - mean_squared_error: 0.1064 - auc: 0.8555 - 109ms/epoch - 1ms/step\n",
            "Epoch 20/200\n",
            "80/80 - 0s - loss: 0.3457 - accuracy: 0.8604 - mean_squared_error: 0.1058 - auc: 0.8567 - 92ms/epoch - 1ms/step\n",
            "Epoch 21/200\n",
            "80/80 - 0s - loss: 0.3440 - accuracy: 0.8614 - mean_squared_error: 0.1052 - auc: 0.8574 - 93ms/epoch - 1ms/step\n",
            "Epoch 22/200\n",
            "80/80 - 0s - loss: 0.3432 - accuracy: 0.8591 - mean_squared_error: 0.1051 - auc: 0.8584 - 98ms/epoch - 1ms/step\n",
            "Epoch 23/200\n",
            "80/80 - 0s - loss: 0.3418 - accuracy: 0.8619 - mean_squared_error: 0.1044 - auc: 0.8591 - 101ms/epoch - 1ms/step\n",
            "Epoch 24/200\n",
            "80/80 - 0s - loss: 0.3411 - accuracy: 0.8615 - mean_squared_error: 0.1041 - auc: 0.8598 - 105ms/epoch - 1ms/step\n",
            "Epoch 25/200\n",
            "80/80 - 0s - loss: 0.3400 - accuracy: 0.8618 - mean_squared_error: 0.1036 - auc: 0.8602 - 97ms/epoch - 1ms/step\n",
            "Epoch 26/200\n",
            "80/80 - 0s - loss: 0.3393 - accuracy: 0.8619 - mean_squared_error: 0.1035 - auc: 0.8605 - 97ms/epoch - 1ms/step\n",
            "Epoch 27/200\n",
            "80/80 - 0s - loss: 0.3378 - accuracy: 0.8626 - mean_squared_error: 0.1031 - auc: 0.8622 - 98ms/epoch - 1ms/step\n",
            "Epoch 28/200\n",
            "80/80 - 0s - loss: 0.3373 - accuracy: 0.8625 - mean_squared_error: 0.1030 - auc: 0.8623 - 98ms/epoch - 1ms/step\n",
            "Epoch 29/200\n",
            "80/80 - 0s - loss: 0.3374 - accuracy: 0.8615 - mean_squared_error: 0.1029 - auc: 0.8618 - 114ms/epoch - 1ms/step\n",
            "Epoch 30/200\n",
            "80/80 - 0s - loss: 0.3358 - accuracy: 0.8616 - mean_squared_error: 0.1023 - auc: 0.8639 - 94ms/epoch - 1ms/step\n",
            "Epoch 31/200\n",
            "80/80 - 0s - loss: 0.3359 - accuracy: 0.8620 - mean_squared_error: 0.1023 - auc: 0.8633 - 100ms/epoch - 1ms/step\n",
            "Epoch 32/200\n",
            "80/80 - 0s - loss: 0.3362 - accuracy: 0.8640 - mean_squared_error: 0.1025 - auc: 0.8629 - 99ms/epoch - 1ms/step\n",
            "Epoch 33/200\n",
            "80/80 - 0s - loss: 0.3347 - accuracy: 0.8629 - mean_squared_error: 0.1020 - auc: 0.8636 - 98ms/epoch - 1ms/step\n",
            "Epoch 34/200\n",
            "80/80 - 0s - loss: 0.3351 - accuracy: 0.8626 - mean_squared_error: 0.1020 - auc: 0.8632 - 100ms/epoch - 1ms/step\n",
            "Epoch 35/200\n",
            "80/80 - 0s - loss: 0.3347 - accuracy: 0.8637 - mean_squared_error: 0.1019 - auc: 0.8637 - 105ms/epoch - 1ms/step\n",
            "Epoch 36/200\n",
            "80/80 - 0s - loss: 0.3338 - accuracy: 0.8604 - mean_squared_error: 0.1019 - auc: 0.8650 - 105ms/epoch - 1ms/step\n",
            "Epoch 37/200\n",
            "80/80 - 0s - loss: 0.3335 - accuracy: 0.8625 - mean_squared_error: 0.1015 - auc: 0.8645 - 99ms/epoch - 1ms/step\n",
            "Epoch 38/200\n",
            "80/80 - 0s - loss: 0.3325 - accuracy: 0.8645 - mean_squared_error: 0.1011 - auc: 0.8657 - 102ms/epoch - 1ms/step\n",
            "Epoch 39/200\n",
            "80/80 - 0s - loss: 0.3319 - accuracy: 0.8635 - mean_squared_error: 0.1011 - auc: 0.8662 - 101ms/epoch - 1ms/step\n",
            "Epoch 40/200\n",
            "80/80 - 0s - loss: 0.3314 - accuracy: 0.8624 - mean_squared_error: 0.1008 - auc: 0.8667 - 94ms/epoch - 1ms/step\n",
            "Epoch 41/200\n",
            "80/80 - 0s - loss: 0.3321 - accuracy: 0.8634 - mean_squared_error: 0.1009 - auc: 0.8654 - 98ms/epoch - 1ms/step\n",
            "Epoch 42/200\n",
            "80/80 - 0s - loss: 0.3317 - accuracy: 0.8649 - mean_squared_error: 0.1007 - auc: 0.8659 - 95ms/epoch - 1ms/step\n",
            "Epoch 43/200\n",
            "80/80 - 0s - loss: 0.3316 - accuracy: 0.8644 - mean_squared_error: 0.1006 - auc: 0.8656 - 95ms/epoch - 1ms/step\n",
            "Epoch 44/200\n",
            "80/80 - 0s - loss: 0.3317 - accuracy: 0.8626 - mean_squared_error: 0.1010 - auc: 0.8659 - 103ms/epoch - 1ms/step\n",
            "Epoch 45/200\n",
            "80/80 - 0s - loss: 0.3297 - accuracy: 0.8641 - mean_squared_error: 0.1001 - auc: 0.8675 - 100ms/epoch - 1ms/step\n",
            "Epoch 46/200\n",
            "80/80 - 0s - loss: 0.3291 - accuracy: 0.8646 - mean_squared_error: 0.1001 - auc: 0.8686 - 96ms/epoch - 1ms/step\n",
            "Epoch 47/200\n",
            "80/80 - 0s - loss: 0.3292 - accuracy: 0.8655 - mean_squared_error: 0.1001 - auc: 0.8682 - 99ms/epoch - 1ms/step\n",
            "Epoch 48/200\n",
            "80/80 - 0s - loss: 0.3297 - accuracy: 0.8644 - mean_squared_error: 0.1001 - auc: 0.8674 - 110ms/epoch - 1ms/step\n",
            "Epoch 49/200\n",
            "80/80 - 0s - loss: 0.3285 - accuracy: 0.8646 - mean_squared_error: 0.0999 - auc: 0.8692 - 98ms/epoch - 1ms/step\n",
            "Epoch 50/200\n",
            "80/80 - 0s - loss: 0.3294 - accuracy: 0.8645 - mean_squared_error: 0.1001 - auc: 0.8676 - 99ms/epoch - 1ms/step\n",
            "Epoch 51/200\n",
            "80/80 - 0s - loss: 0.3290 - accuracy: 0.8652 - mean_squared_error: 0.1001 - auc: 0.8684 - 100ms/epoch - 1ms/step\n",
            "Epoch 52/200\n",
            "80/80 - 0s - loss: 0.3288 - accuracy: 0.8649 - mean_squared_error: 0.1000 - auc: 0.8687 - 102ms/epoch - 1ms/step\n",
            "Epoch 53/200\n",
            "80/80 - 0s - loss: 0.3285 - accuracy: 0.8640 - mean_squared_error: 0.0998 - auc: 0.8687 - 98ms/epoch - 1ms/step\n",
            "Epoch 54/200\n",
            "80/80 - 0s - loss: 0.3274 - accuracy: 0.8659 - mean_squared_error: 0.0995 - auc: 0.8697 - 98ms/epoch - 1ms/step\n",
            "Epoch 55/200\n",
            "80/80 - 0s - loss: 0.3273 - accuracy: 0.8659 - mean_squared_error: 0.0993 - auc: 0.8697 - 94ms/epoch - 1ms/step\n",
            "Epoch 56/200\n",
            "80/80 - 0s - loss: 0.3273 - accuracy: 0.8664 - mean_squared_error: 0.0994 - auc: 0.8697 - 96ms/epoch - 1ms/step\n",
            "Epoch 57/200\n",
            "80/80 - 0s - loss: 0.3274 - accuracy: 0.8670 - mean_squared_error: 0.0994 - auc: 0.8693 - 102ms/epoch - 1ms/step\n",
            "Epoch 58/200\n",
            "80/80 - 0s - loss: 0.3262 - accuracy: 0.8671 - mean_squared_error: 0.0990 - auc: 0.8709 - 100ms/epoch - 1ms/step\n",
            "Epoch 59/200\n",
            "80/80 - 0s - loss: 0.3269 - accuracy: 0.8645 - mean_squared_error: 0.0991 - auc: 0.8702 - 97ms/epoch - 1ms/step\n",
            "Epoch 60/200\n",
            "80/80 - 0s - loss: 0.3270 - accuracy: 0.8650 - mean_squared_error: 0.0992 - auc: 0.8698 - 104ms/epoch - 1ms/step\n",
            "Epoch 61/200\n",
            "80/80 - 0s - loss: 0.3259 - accuracy: 0.8686 - mean_squared_error: 0.0989 - auc: 0.8704 - 106ms/epoch - 1ms/step\n",
            "Epoch 62/200\n",
            "80/80 - 0s - loss: 0.3251 - accuracy: 0.8665 - mean_squared_error: 0.0987 - auc: 0.8717 - 100ms/epoch - 1ms/step\n",
            "Epoch 63/200\n",
            "80/80 - 0s - loss: 0.3264 - accuracy: 0.8661 - mean_squared_error: 0.0990 - auc: 0.8706 - 100ms/epoch - 1ms/step\n",
            "Epoch 64/200\n",
            "80/80 - 0s - loss: 0.3249 - accuracy: 0.8661 - mean_squared_error: 0.0987 - auc: 0.8714 - 98ms/epoch - 1ms/step\n",
            "Epoch 65/200\n",
            "80/80 - 0s - loss: 0.3242 - accuracy: 0.8662 - mean_squared_error: 0.0983 - auc: 0.8724 - 99ms/epoch - 1ms/step\n",
            "Epoch 66/200\n",
            "80/80 - 0s - loss: 0.3248 - accuracy: 0.8665 - mean_squared_error: 0.0985 - auc: 0.8716 - 95ms/epoch - 1ms/step\n",
            "Epoch 67/200\n",
            "80/80 - 0s - loss: 0.3252 - accuracy: 0.8674 - mean_squared_error: 0.0987 - auc: 0.8714 - 97ms/epoch - 1ms/step\n",
            "Epoch 68/200\n",
            "80/80 - 0s - loss: 0.3243 - accuracy: 0.8669 - mean_squared_error: 0.0984 - auc: 0.8720 - 103ms/epoch - 1ms/step\n",
            "Epoch 69/200\n",
            "80/80 - 0s - loss: 0.3237 - accuracy: 0.8683 - mean_squared_error: 0.0984 - auc: 0.8736 - 92ms/epoch - 1ms/step\n",
            "Epoch 70/200\n",
            "80/80 - 0s - loss: 0.3228 - accuracy: 0.8668 - mean_squared_error: 0.0980 - auc: 0.8740 - 101ms/epoch - 1ms/step\n",
            "Epoch 71/200\n",
            "80/80 - 0s - loss: 0.3245 - accuracy: 0.8646 - mean_squared_error: 0.0985 - auc: 0.8722 - 101ms/epoch - 1ms/step\n",
            "Epoch 72/200\n",
            "80/80 - 0s - loss: 0.3233 - accuracy: 0.8671 - mean_squared_error: 0.0980 - auc: 0.8728 - 99ms/epoch - 1ms/step\n",
            "Epoch 73/200\n",
            "80/80 - 0s - loss: 0.3223 - accuracy: 0.8662 - mean_squared_error: 0.0980 - auc: 0.8745 - 107ms/epoch - 1ms/step\n",
            "Epoch 74/200\n",
            "80/80 - 0s - loss: 0.3233 - accuracy: 0.8665 - mean_squared_error: 0.0980 - auc: 0.8733 - 98ms/epoch - 1ms/step\n",
            "Epoch 75/200\n",
            "80/80 - 0s - loss: 0.3228 - accuracy: 0.8666 - mean_squared_error: 0.0979 - auc: 0.8738 - 99ms/epoch - 1ms/step\n",
            "Epoch 76/200\n",
            "80/80 - 0s - loss: 0.3211 - accuracy: 0.8681 - mean_squared_error: 0.0973 - auc: 0.8748 - 97ms/epoch - 1ms/step\n",
            "Epoch 77/200\n",
            "80/80 - 0s - loss: 0.3224 - accuracy: 0.8648 - mean_squared_error: 0.0978 - auc: 0.8740 - 101ms/epoch - 1ms/step\n",
            "Epoch 78/200\n",
            "80/80 - 0s - loss: 0.3215 - accuracy: 0.8702 - mean_squared_error: 0.0974 - auc: 0.8748 - 107ms/epoch - 1ms/step\n",
            "Epoch 79/200\n",
            "80/80 - 0s - loss: 0.3216 - accuracy: 0.8683 - mean_squared_error: 0.0975 - auc: 0.8749 - 101ms/epoch - 1ms/step\n",
            "Epoch 80/200\n",
            "80/80 - 0s - loss: 0.3209 - accuracy: 0.8674 - mean_squared_error: 0.0975 - auc: 0.8758 - 104ms/epoch - 1ms/step\n",
            "Epoch 81/200\n",
            "80/80 - 0s - loss: 0.3214 - accuracy: 0.8691 - mean_squared_error: 0.0975 - auc: 0.8751 - 104ms/epoch - 1ms/step\n",
            "Epoch 82/200\n",
            "80/80 - 0s - loss: 0.3213 - accuracy: 0.8669 - mean_squared_error: 0.0975 - auc: 0.8752 - 102ms/epoch - 1ms/step\n",
            "Epoch 83/200\n",
            "80/80 - 0s - loss: 0.3203 - accuracy: 0.8686 - mean_squared_error: 0.0972 - auc: 0.8765 - 100ms/epoch - 1ms/step\n",
            "Epoch 84/200\n",
            "80/80 - 0s - loss: 0.3214 - accuracy: 0.8674 - mean_squared_error: 0.0974 - auc: 0.8751 - 95ms/epoch - 1ms/step\n",
            "Epoch 85/200\n",
            "80/80 - 0s - loss: 0.3199 - accuracy: 0.8681 - mean_squared_error: 0.0971 - auc: 0.8763 - 93ms/epoch - 1ms/step\n",
            "Epoch 86/200\n",
            "80/80 - 0s - loss: 0.3204 - accuracy: 0.8679 - mean_squared_error: 0.0970 - auc: 0.8758 - 98ms/epoch - 1ms/step\n",
            "Epoch 87/200\n",
            "80/80 - 0s - loss: 0.3199 - accuracy: 0.8675 - mean_squared_error: 0.0970 - auc: 0.8759 - 105ms/epoch - 1ms/step\n",
            "Epoch 88/200\n",
            "80/80 - 0s - loss: 0.3189 - accuracy: 0.8684 - mean_squared_error: 0.0967 - auc: 0.8772 - 92ms/epoch - 1ms/step\n",
            "Epoch 89/200\n",
            "80/80 - 0s - loss: 0.3185 - accuracy: 0.8690 - mean_squared_error: 0.0966 - auc: 0.8776 - 92ms/epoch - 1ms/step\n",
            "Epoch 90/200\n",
            "80/80 - 0s - loss: 0.3183 - accuracy: 0.8696 - mean_squared_error: 0.0964 - auc: 0.8771 - 93ms/epoch - 1ms/step\n",
            "Epoch 91/200\n",
            "80/80 - 0s - loss: 0.3178 - accuracy: 0.8692 - mean_squared_error: 0.0963 - auc: 0.8783 - 93ms/epoch - 1ms/step\n",
            "Epoch 92/200\n",
            "80/80 - 0s - loss: 0.3184 - accuracy: 0.8696 - mean_squared_error: 0.0966 - auc: 0.8773 - 92ms/epoch - 1ms/step\n",
            "Epoch 93/200\n",
            "80/80 - 0s - loss: 0.3178 - accuracy: 0.8702 - mean_squared_error: 0.0963 - auc: 0.8778 - 93ms/epoch - 1ms/step\n",
            "Epoch 94/200\n",
            "80/80 - 0s - loss: 0.3187 - accuracy: 0.8695 - mean_squared_error: 0.0963 - auc: 0.8769 - 100ms/epoch - 1ms/step\n",
            "Epoch 95/200\n",
            "80/80 - 0s - loss: 0.3183 - accuracy: 0.8687 - mean_squared_error: 0.0966 - auc: 0.8782 - 101ms/epoch - 1ms/step\n",
            "Epoch 96/200\n",
            "80/80 - 0s - loss: 0.3189 - accuracy: 0.8702 - mean_squared_error: 0.0966 - auc: 0.8767 - 98ms/epoch - 1ms/step\n",
            "Epoch 97/200\n",
            "80/80 - 0s - loss: 0.3162 - accuracy: 0.8700 - mean_squared_error: 0.0957 - auc: 0.8794 - 103ms/epoch - 1ms/step\n",
            "Epoch 98/200\n",
            "80/80 - 0s - loss: 0.3174 - accuracy: 0.8687 - mean_squared_error: 0.0961 - auc: 0.8789 - 94ms/epoch - 1ms/step\n",
            "Epoch 99/200\n",
            "80/80 - 0s - loss: 0.3180 - accuracy: 0.8695 - mean_squared_error: 0.0962 - auc: 0.8776 - 92ms/epoch - 1ms/step\n",
            "Epoch 100/200\n",
            "80/80 - 0s - loss: 0.3166 - accuracy: 0.8686 - mean_squared_error: 0.0960 - auc: 0.8793 - 101ms/epoch - 1ms/step\n",
            "Epoch 101/200\n",
            "80/80 - 0s - loss: 0.3171 - accuracy: 0.8673 - mean_squared_error: 0.0963 - auc: 0.8795 - 98ms/epoch - 1ms/step\n",
            "Epoch 102/200\n",
            "80/80 - 0s - loss: 0.3157 - accuracy: 0.8710 - mean_squared_error: 0.0956 - auc: 0.8796 - 95ms/epoch - 1ms/step\n",
            "Epoch 103/200\n",
            "80/80 - 0s - loss: 0.3169 - accuracy: 0.8696 - mean_squared_error: 0.0960 - auc: 0.8788 - 98ms/epoch - 1ms/step\n",
            "Epoch 104/200\n",
            "80/80 - 0s - loss: 0.3161 - accuracy: 0.8723 - mean_squared_error: 0.0954 - auc: 0.8791 - 102ms/epoch - 1ms/step\n",
            "Epoch 105/200\n",
            "80/80 - 0s - loss: 0.3163 - accuracy: 0.8692 - mean_squared_error: 0.0959 - auc: 0.8797 - 95ms/epoch - 1ms/step\n",
            "Epoch 106/200\n",
            "80/80 - 0s - loss: 0.3158 - accuracy: 0.8695 - mean_squared_error: 0.0957 - auc: 0.8796 - 95ms/epoch - 1ms/step\n",
            "Epoch 107/200\n",
            "80/80 - 0s - loss: 0.3164 - accuracy: 0.8701 - mean_squared_error: 0.0958 - auc: 0.8796 - 108ms/epoch - 1ms/step\n",
            "Epoch 108/200\n",
            "80/80 - 0s - loss: 0.3160 - accuracy: 0.8711 - mean_squared_error: 0.0956 - auc: 0.8794 - 93ms/epoch - 1ms/step\n",
            "Epoch 109/200\n",
            "80/80 - 0s - loss: 0.3155 - accuracy: 0.8702 - mean_squared_error: 0.0956 - auc: 0.8802 - 94ms/epoch - 1ms/step\n",
            "Epoch 110/200\n",
            "80/80 - 0s - loss: 0.3151 - accuracy: 0.8698 - mean_squared_error: 0.0955 - auc: 0.8807 - 93ms/epoch - 1ms/step\n",
            "Epoch 111/200\n",
            "80/80 - 0s - loss: 0.3151 - accuracy: 0.8712 - mean_squared_error: 0.0954 - auc: 0.8809 - 95ms/epoch - 1ms/step\n",
            "Epoch 112/200\n",
            "80/80 - 0s - loss: 0.3143 - accuracy: 0.8704 - mean_squared_error: 0.0951 - auc: 0.8812 - 109ms/epoch - 1ms/step\n",
            "Epoch 113/200\n",
            "80/80 - 0s - loss: 0.3155 - accuracy: 0.8698 - mean_squared_error: 0.0953 - auc: 0.8797 - 94ms/epoch - 1ms/step\n",
            "Epoch 114/200\n",
            "80/80 - 0s - loss: 0.3155 - accuracy: 0.8714 - mean_squared_error: 0.0957 - auc: 0.8808 - 93ms/epoch - 1ms/step\n",
            "Epoch 115/200\n",
            "80/80 - 0s - loss: 0.3143 - accuracy: 0.8700 - mean_squared_error: 0.0952 - auc: 0.8810 - 96ms/epoch - 1ms/step\n",
            "Epoch 116/200\n",
            "80/80 - 0s - loss: 0.3159 - accuracy: 0.8689 - mean_squared_error: 0.0958 - auc: 0.8803 - 94ms/epoch - 1ms/step\n",
            "Epoch 117/200\n",
            "80/80 - 0s - loss: 0.3148 - accuracy: 0.8705 - mean_squared_error: 0.0953 - auc: 0.8805 - 102ms/epoch - 1ms/step\n",
            "Epoch 118/200\n",
            "80/80 - 0s - loss: 0.3147 - accuracy: 0.8705 - mean_squared_error: 0.0955 - auc: 0.8819 - 97ms/epoch - 1ms/step\n",
            "Epoch 119/200\n",
            "80/80 - 0s - loss: 0.3142 - accuracy: 0.8696 - mean_squared_error: 0.0952 - auc: 0.8815 - 104ms/epoch - 1ms/step\n",
            "Epoch 120/200\n",
            "80/80 - 0s - loss: 0.3139 - accuracy: 0.8689 - mean_squared_error: 0.0952 - auc: 0.8818 - 96ms/epoch - 1ms/step\n",
            "Epoch 121/200\n",
            "80/80 - 0s - loss: 0.3134 - accuracy: 0.8704 - mean_squared_error: 0.0949 - auc: 0.8819 - 99ms/epoch - 1ms/step\n",
            "Epoch 122/200\n",
            "80/80 - 0s - loss: 0.3130 - accuracy: 0.8721 - mean_squared_error: 0.0947 - auc: 0.8819 - 94ms/epoch - 1ms/step\n",
            "Epoch 123/200\n",
            "80/80 - 0s - loss: 0.3149 - accuracy: 0.8712 - mean_squared_error: 0.0953 - auc: 0.8811 - 94ms/epoch - 1ms/step\n",
            "Epoch 124/200\n",
            "80/80 - 0s - loss: 0.3144 - accuracy: 0.8701 - mean_squared_error: 0.0952 - auc: 0.8807 - 98ms/epoch - 1ms/step\n",
            "Epoch 125/200\n",
            "80/80 - 0s - loss: 0.3131 - accuracy: 0.8719 - mean_squared_error: 0.0947 - auc: 0.8822 - 98ms/epoch - 1ms/step\n",
            "Epoch 126/200\n",
            "80/80 - 0s - loss: 0.3134 - accuracy: 0.8709 - mean_squared_error: 0.0950 - auc: 0.8824 - 95ms/epoch - 1ms/step\n",
            "Epoch 127/200\n",
            "80/80 - 0s - loss: 0.3131 - accuracy: 0.8726 - mean_squared_error: 0.0949 - auc: 0.8819 - 103ms/epoch - 1ms/step\n",
            "Epoch 128/200\n",
            "80/80 - 0s - loss: 0.3135 - accuracy: 0.8708 - mean_squared_error: 0.0948 - auc: 0.8822 - 99ms/epoch - 1ms/step\n",
            "Epoch 129/200\n",
            "80/80 - 0s - loss: 0.3127 - accuracy: 0.8711 - mean_squared_error: 0.0948 - auc: 0.8828 - 95ms/epoch - 1ms/step\n",
            "Epoch 130/200\n",
            "80/80 - 0s - loss: 0.3125 - accuracy: 0.8715 - mean_squared_error: 0.0946 - auc: 0.8822 - 93ms/epoch - 1ms/step\n",
            "Epoch 131/200\n",
            "80/80 - 0s - loss: 0.3129 - accuracy: 0.8720 - mean_squared_error: 0.0948 - auc: 0.8823 - 99ms/epoch - 1ms/step\n",
            "Epoch 132/200\n",
            "80/80 - 0s - loss: 0.3145 - accuracy: 0.8715 - mean_squared_error: 0.0952 - auc: 0.8809 - 97ms/epoch - 1ms/step\n",
            "Epoch 133/200\n",
            "80/80 - 0s - loss: 0.3130 - accuracy: 0.8702 - mean_squared_error: 0.0947 - auc: 0.8823 - 94ms/epoch - 1ms/step\n",
            "Epoch 134/200\n",
            "80/80 - 0s - loss: 0.3107 - accuracy: 0.8723 - mean_squared_error: 0.0940 - auc: 0.8840 - 95ms/epoch - 1ms/step\n",
            "Epoch 135/200\n",
            "80/80 - 0s - loss: 0.3119 - accuracy: 0.8736 - mean_squared_error: 0.0944 - auc: 0.8835 - 98ms/epoch - 1ms/step\n",
            "Epoch 136/200\n",
            "80/80 - 0s - loss: 0.3108 - accuracy: 0.8715 - mean_squared_error: 0.0942 - auc: 0.8848 - 100ms/epoch - 1ms/step\n",
            "Epoch 137/200\n",
            "80/80 - 0s - loss: 0.3132 - accuracy: 0.8687 - mean_squared_error: 0.0949 - auc: 0.8827 - 106ms/epoch - 1ms/step\n",
            "Epoch 138/200\n",
            "80/80 - 0s - loss: 0.3110 - accuracy: 0.8745 - mean_squared_error: 0.0940 - auc: 0.8836 - 101ms/epoch - 1ms/step\n",
            "Epoch 139/200\n",
            "80/80 - 0s - loss: 0.3118 - accuracy: 0.8716 - mean_squared_error: 0.0944 - auc: 0.8834 - 98ms/epoch - 1ms/step\n",
            "Epoch 140/200\n",
            "80/80 - 0s - loss: 0.3110 - accuracy: 0.8696 - mean_squared_error: 0.0945 - auc: 0.8846 - 96ms/epoch - 1ms/step\n",
            "Epoch 141/200\n",
            "80/80 - 0s - loss: 0.3111 - accuracy: 0.8716 - mean_squared_error: 0.0942 - auc: 0.8844 - 97ms/epoch - 1ms/step\n",
            "Epoch 142/200\n",
            "80/80 - 0s - loss: 0.3106 - accuracy: 0.8704 - mean_squared_error: 0.0941 - auc: 0.8848 - 92ms/epoch - 1ms/step\n",
            "Epoch 143/200\n",
            "80/80 - 0s - loss: 0.3108 - accuracy: 0.8700 - mean_squared_error: 0.0943 - auc: 0.8850 - 98ms/epoch - 1ms/step\n",
            "Epoch 144/200\n",
            "80/80 - 0s - loss: 0.3106 - accuracy: 0.8729 - mean_squared_error: 0.0939 - auc: 0.8841 - 94ms/epoch - 1ms/step\n",
            "Epoch 145/200\n",
            "80/80 - 0s - loss: 0.3106 - accuracy: 0.8708 - mean_squared_error: 0.0941 - auc: 0.8847 - 101ms/epoch - 1ms/step\n",
            "Epoch 146/200\n",
            "80/80 - 0s - loss: 0.3097 - accuracy: 0.8717 - mean_squared_error: 0.0937 - auc: 0.8851 - 98ms/epoch - 1ms/step\n",
            "Epoch 147/200\n",
            "80/80 - 0s - loss: 0.3097 - accuracy: 0.8704 - mean_squared_error: 0.0939 - auc: 0.8857 - 105ms/epoch - 1ms/step\n",
            "Epoch 148/200\n",
            "80/80 - 0s - loss: 0.3116 - accuracy: 0.8692 - mean_squared_error: 0.0944 - auc: 0.8838 - 100ms/epoch - 1ms/step\n",
            "Epoch 149/200\n",
            "80/80 - 0s - loss: 0.3099 - accuracy: 0.8701 - mean_squared_error: 0.0939 - auc: 0.8858 - 96ms/epoch - 1ms/step\n",
            "Epoch 150/200\n",
            "80/80 - 0s - loss: 0.3117 - accuracy: 0.8730 - mean_squared_error: 0.0945 - auc: 0.8841 - 94ms/epoch - 1ms/step\n",
            "Epoch 151/200\n",
            "80/80 - 0s - loss: 0.3106 - accuracy: 0.8711 - mean_squared_error: 0.0939 - auc: 0.8841 - 97ms/epoch - 1ms/step\n",
            "Epoch 152/200\n",
            "80/80 - 0s - loss: 0.3093 - accuracy: 0.8723 - mean_squared_error: 0.0935 - auc: 0.8856 - 96ms/epoch - 1ms/step\n",
            "Epoch 153/200\n",
            "80/80 - 0s - loss: 0.3104 - accuracy: 0.8736 - mean_squared_error: 0.0938 - auc: 0.8845 - 97ms/epoch - 1ms/step\n",
            "Epoch 154/200\n",
            "80/80 - 0s - loss: 0.3107 - accuracy: 0.8716 - mean_squared_error: 0.0943 - auc: 0.8850 - 94ms/epoch - 1ms/step\n",
            "Epoch 155/200\n",
            "80/80 - 0s - loss: 0.3093 - accuracy: 0.8733 - mean_squared_error: 0.0936 - auc: 0.8862 - 97ms/epoch - 1ms/step\n",
            "Epoch 156/200\n",
            "80/80 - 0s - loss: 0.3096 - accuracy: 0.8730 - mean_squared_error: 0.0938 - auc: 0.8859 - 96ms/epoch - 1ms/step\n",
            "Epoch 157/200\n",
            "80/80 - 0s - loss: 0.3090 - accuracy: 0.8737 - mean_squared_error: 0.0934 - auc: 0.8858 - 102ms/epoch - 1ms/step\n",
            "Epoch 158/200\n",
            "80/80 - 0s - loss: 0.3094 - accuracy: 0.8737 - mean_squared_error: 0.0936 - auc: 0.8853 - 102ms/epoch - 1ms/step\n",
            "Epoch 159/200\n",
            "80/80 - 0s - loss: 0.3087 - accuracy: 0.8736 - mean_squared_error: 0.0934 - auc: 0.8867 - 95ms/epoch - 1ms/step\n",
            "Epoch 160/200\n",
            "80/80 - 0s - loss: 0.3089 - accuracy: 0.8726 - mean_squared_error: 0.0935 - auc: 0.8861 - 97ms/epoch - 1ms/step\n",
            "Epoch 161/200\n",
            "80/80 - 0s - loss: 0.3090 - accuracy: 0.8737 - mean_squared_error: 0.0936 - auc: 0.8862 - 103ms/epoch - 1ms/step\n",
            "Epoch 162/200\n",
            "80/80 - 0s - loss: 0.3097 - accuracy: 0.8725 - mean_squared_error: 0.0936 - auc: 0.8854 - 96ms/epoch - 1ms/step\n",
            "Epoch 163/200\n",
            "80/80 - 0s - loss: 0.3082 - accuracy: 0.8735 - mean_squared_error: 0.0933 - auc: 0.8868 - 94ms/epoch - 1ms/step\n",
            "Epoch 164/200\n",
            "80/80 - 0s - loss: 0.3079 - accuracy: 0.8730 - mean_squared_error: 0.0932 - auc: 0.8873 - 98ms/epoch - 1ms/step\n",
            "Epoch 165/200\n",
            "80/80 - 0s - loss: 0.3091 - accuracy: 0.8705 - mean_squared_error: 0.0936 - auc: 0.8863 - 94ms/epoch - 1ms/step\n",
            "Epoch 166/200\n",
            "80/80 - 0s - loss: 0.3083 - accuracy: 0.8733 - mean_squared_error: 0.0933 - auc: 0.8869 - 93ms/epoch - 1ms/step\n",
            "Epoch 167/200\n",
            "80/80 - 0s - loss: 0.3086 - accuracy: 0.8737 - mean_squared_error: 0.0934 - auc: 0.8863 - 107ms/epoch - 1ms/step\n",
            "Epoch 168/200\n",
            "80/80 - 0s - loss: 0.3081 - accuracy: 0.8734 - mean_squared_error: 0.0933 - auc: 0.8871 - 99ms/epoch - 1ms/step\n",
            "Epoch 169/200\n",
            "80/80 - 0s - loss: 0.3089 - accuracy: 0.8727 - mean_squared_error: 0.0935 - auc: 0.8865 - 101ms/epoch - 1ms/step\n",
            "Epoch 170/200\n",
            "80/80 - 0s - loss: 0.3081 - accuracy: 0.8721 - mean_squared_error: 0.0932 - auc: 0.8872 - 95ms/epoch - 1ms/step\n",
            "Epoch 171/200\n",
            "80/80 - 0s - loss: 0.3078 - accuracy: 0.8739 - mean_squared_error: 0.0931 - auc: 0.8867 - 92ms/epoch - 1ms/step\n",
            "Epoch 172/200\n",
            "80/80 - 0s - loss: 0.3079 - accuracy: 0.8733 - mean_squared_error: 0.0929 - auc: 0.8867 - 96ms/epoch - 1ms/step\n",
            "Epoch 173/200\n",
            "80/80 - 0s - loss: 0.3085 - accuracy: 0.8735 - mean_squared_error: 0.0933 - auc: 0.8865 - 96ms/epoch - 1ms/step\n",
            "Epoch 174/200\n",
            "80/80 - 0s - loss: 0.3066 - accuracy: 0.8737 - mean_squared_error: 0.0928 - auc: 0.8880 - 102ms/epoch - 1ms/step\n",
            "Epoch 175/200\n",
            "80/80 - 0s - loss: 0.3062 - accuracy: 0.8737 - mean_squared_error: 0.0927 - auc: 0.8887 - 110ms/epoch - 1ms/step\n",
            "Epoch 176/200\n",
            "80/80 - 0s - loss: 0.3061 - accuracy: 0.8731 - mean_squared_error: 0.0927 - auc: 0.8887 - 114ms/epoch - 1ms/step\n",
            "Epoch 177/200\n",
            "80/80 - 0s - loss: 0.3076 - accuracy: 0.8726 - mean_squared_error: 0.0930 - auc: 0.8879 - 99ms/epoch - 1ms/step\n",
            "Epoch 178/200\n",
            "80/80 - 0s - loss: 0.3057 - accuracy: 0.8740 - mean_squared_error: 0.0925 - auc: 0.8891 - 97ms/epoch - 1ms/step\n",
            "Epoch 179/200\n",
            "80/80 - 0s - loss: 0.3059 - accuracy: 0.8752 - mean_squared_error: 0.0924 - auc: 0.8887 - 94ms/epoch - 1ms/step\n",
            "Epoch 180/200\n",
            "80/80 - 0s - loss: 0.3073 - accuracy: 0.8721 - mean_squared_error: 0.0930 - auc: 0.8875 - 96ms/epoch - 1ms/step\n",
            "Epoch 181/200\n",
            "80/80 - 0s - loss: 0.3057 - accuracy: 0.8756 - mean_squared_error: 0.0922 - auc: 0.8885 - 96ms/epoch - 1ms/step\n",
            "Epoch 182/200\n",
            "80/80 - 0s - loss: 0.3047 - accuracy: 0.8740 - mean_squared_error: 0.0920 - auc: 0.8893 - 96ms/epoch - 1ms/step\n",
            "Epoch 183/200\n",
            "80/80 - 0s - loss: 0.3060 - accuracy: 0.8731 - mean_squared_error: 0.0926 - auc: 0.8891 - 102ms/epoch - 1ms/step\n",
            "Epoch 184/200\n",
            "80/80 - 0s - loss: 0.3066 - accuracy: 0.8745 - mean_squared_error: 0.0928 - auc: 0.8886 - 95ms/epoch - 1ms/step\n",
            "Epoch 185/200\n",
            "80/80 - 0s - loss: 0.3054 - accuracy: 0.8739 - mean_squared_error: 0.0923 - auc: 0.8890 - 98ms/epoch - 1ms/step\n",
            "Epoch 186/200\n",
            "80/80 - 0s - loss: 0.3053 - accuracy: 0.8750 - mean_squared_error: 0.0925 - auc: 0.8899 - 118ms/epoch - 1ms/step\n",
            "Epoch 187/200\n",
            "80/80 - 0s - loss: 0.3052 - accuracy: 0.8751 - mean_squared_error: 0.0921 - auc: 0.8892 - 97ms/epoch - 1ms/step\n",
            "Epoch 188/200\n",
            "80/80 - 0s - loss: 0.3059 - accuracy: 0.8739 - mean_squared_error: 0.0924 - auc: 0.8891 - 100ms/epoch - 1ms/step\n",
            "Epoch 189/200\n",
            "80/80 - 0s - loss: 0.3058 - accuracy: 0.8754 - mean_squared_error: 0.0922 - auc: 0.8884 - 103ms/epoch - 1ms/step\n",
            "Epoch 190/200\n",
            "80/80 - 0s - loss: 0.3047 - accuracy: 0.8755 - mean_squared_error: 0.0923 - auc: 0.8897 - 99ms/epoch - 1ms/step\n",
            "Epoch 191/200\n",
            "80/80 - 0s - loss: 0.3053 - accuracy: 0.8754 - mean_squared_error: 0.0924 - auc: 0.8892 - 97ms/epoch - 1ms/step\n",
            "Epoch 192/200\n",
            "80/80 - 0s - loss: 0.3053 - accuracy: 0.8754 - mean_squared_error: 0.0922 - auc: 0.8893 - 91ms/epoch - 1ms/step\n",
            "Epoch 193/200\n",
            "80/80 - 0s - loss: 0.3077 - accuracy: 0.8730 - mean_squared_error: 0.0932 - auc: 0.8875 - 104ms/epoch - 1ms/step\n",
            "Epoch 194/200\n",
            "80/80 - 0s - loss: 0.3070 - accuracy: 0.8758 - mean_squared_error: 0.0925 - auc: 0.8876 - 92ms/epoch - 1ms/step\n",
            "Epoch 195/200\n",
            "80/80 - 0s - loss: 0.3039 - accuracy: 0.8733 - mean_squared_error: 0.0919 - auc: 0.8908 - 91ms/epoch - 1ms/step\n",
            "Epoch 196/200\n",
            "80/80 - 0s - loss: 0.3037 - accuracy: 0.8763 - mean_squared_error: 0.0919 - auc: 0.8908 - 109ms/epoch - 1ms/step\n",
            "Epoch 197/200\n",
            "80/80 - 0s - loss: 0.3044 - accuracy: 0.8745 - mean_squared_error: 0.0920 - auc: 0.8899 - 97ms/epoch - 1ms/step\n",
            "Epoch 198/200\n",
            "80/80 - 0s - loss: 0.3045 - accuracy: 0.8748 - mean_squared_error: 0.0921 - auc: 0.8901 - 97ms/epoch - 1ms/step\n",
            "Epoch 199/200\n",
            "80/80 - 0s - loss: 0.3042 - accuracy: 0.8763 - mean_squared_error: 0.0919 - auc: 0.8899 - 98ms/epoch - 1ms/step\n",
            "Epoch 200/200\n",
            "80/80 - 0s - loss: 0.3038 - accuracy: 0.8730 - mean_squared_error: 0.0918 - auc: 0.8908 - 109ms/epoch - 1ms/step\n"
          ]
        },
        {
          "output_type": "execute_result",
          "data": {
            "text/plain": [
              "Tag : 'NeuralNetwork trained on basic data'\n",
              "Model name : KerasClassifier(\n",
              "\tmodel=<function model_nn at 0x7fc81f513a70>\n",
              "\tbuild_fn=None\n",
              "\twarm_start=False\n",
              "\trandom_state=None\n",
              "\toptimizer=rmsprop\n",
              "\tloss=None\n",
              "\tmetrics=None\n",
              "\tbatch_size=100\n",
              "\tvalidation_batch_size=None\n",
              "\tverbose=2\n",
              "\tcallbacks=None\n",
              "\tvalidation_split=0.0\n",
              "\tshuffle=True\n",
              "\trun_eagerly=False\n",
              "\tepochs=200\n",
              "\tclass_weight=None\n",
              ")\n",
              "ModelWrapper(base_model=KerasClassifier(batch_size=100, epochs=200, model=<function model_nn at 0x7fc81f513a70>, verbose=2), base_preprocessor=ColumnTransformer(transformers=[('pipeline-1', Pipeline(steps=[('simpleimputer', SimpleImputer()), ('standardscaler', StandardScaler())]), ['CreditScore', 'Age', 'Tenure', 'Balance', 'NumOfProducts', 'EstimatedSalary']), ('pi...cts', 'EstimatedSalary']), ('pipeline-2', Pipeline(steps=[('simpleimputer', SimpleImputer(strategy='most_frequent')), ('ordinalencoder', OrdinalEncoder())]), ['HasCrCard', 'IsActiveMember', 'Geography', 'Gender'])])), ('model', KerasClassifier(batch_size=100, epochs=200, model=<function model_nn at 0x7fc81f513a70>, verbose=2))], tag='NeuralNetwork trained on basic data')"
            ]
          },
          "metadata": {},
          "execution_count": 53
        }
      ]
    },
    {
      "cell_type": "code",
      "source": [
        "model5_predictions = model5.predict(df_test_x)"
      ],
      "metadata": {
        "colab": {
          "base_uri": "https://localhost:8080/"
        },
        "id": "vuflk3qk_AsV",
        "outputId": "6aba973b-b5dd-4b1d-c094-340d7317a986"
      },
      "execution_count": null,
      "outputs": [
        {
          "output_type": "stream",
          "name": "stdout",
          "text": [
            "20/20 - 0s - 76ms/epoch - 4ms/step\n"
          ]
        }
      ]
    },
    {
      "cell_type": "code",
      "source": [
        "model5.evaluate(y_true = df_test_y, y_pred = model5_predictions)"
      ],
      "metadata": {
        "colab": {
          "base_uri": "https://localhost:8080/"
        },
        "id": "-CxY1r39_RJg",
        "outputId": "bc085f00-eec9-4d20-884b-adcb7138b3b1"
      },
      "execution_count": null,
      "outputs": [
        {
          "output_type": "stream",
          "name": "stdout",
          "text": [
            "Confusion matrix : array([[1523,   62],\n",
            "       [ 216,  199]])\n",
            "Precision : 0.7624521072796935\n",
            "Accuracy : 0.861\n",
            "Recall : 0.4795180722891566\n"
          ]
        }
      ]
    },
    {
      "cell_type": "code",
      "source": [
        "model5.calculate_roc(y_true = df_test_y, y_score = model5.predict_proba(df_test_x)[:,1])"
      ],
      "metadata": {
        "colab": {
          "base_uri": "https://localhost:8080/"
        },
        "id": "rGhdHpMEeA30",
        "outputId": "ec0634d7-e7b6-4211-f1ca-f4deb6e1cdcc"
      },
      "execution_count": null,
      "outputs": [
        {
          "output_type": "stream",
          "name": "stdout",
          "text": [
            "20/20 - 0s - 24ms/epoch - 1ms/step\n",
            "Roc_auc_score : 0.8674866025616661\n"
          ]
        }
      ]
    },
    {
      "cell_type": "code",
      "source": [
        "list_of_models.append(model5)"
      ],
      "metadata": {
        "id": "_JxB39Vcwoyo"
      },
      "execution_count": null,
      "outputs": []
    },
    {
      "cell_type": "markdown",
      "source": [
        "# 5.Summary of all models"
      ],
      "metadata": {
        "id": "ay398ne5Lm5m"
      }
    },
    {
      "cell_type": "code",
      "source": [
        "global_report = pd.DataFrame(columns = ['Tag', 'Description' , 'Confusion matrix', 'Accuracy', 'Precision', 'Recall', 'ROC'])\n",
        "\n",
        "plt.figure(figsize = (12,6), linewidth= 1)\n",
        "plt.plot([0,1], [0,1], 'k--', label = 'Random: 0.5')\n",
        "plt.xlabel('False positive rate')\n",
        "plt.ylabel('True positive rate')\n",
        "plt.title('ROC Curve')\n",
        "\n",
        "for model in list_of_models:\n",
        "  global_report = global_report.append(model.get_performances(),ignore_index = True)\n",
        "  plt.plot(model.fpr, model.tpr, label=str(model.tag) + \", AUC=\" + str(model.roc_auc_score))\n",
        "\n",
        "plt.legend(loc='best')"
      ],
      "metadata": {
        "colab": {
          "base_uri": "https://localhost:8080/",
          "height": 427
        },
        "id": "3PRDJ6Q71p9e",
        "outputId": "5c1079c8-797e-4ce0-c944-bbf3ae2775b5"
      },
      "execution_count": null,
      "outputs": [
        {
          "output_type": "execute_result",
          "data": {
            "text/plain": [
              "<matplotlib.legend.Legend at 0x7fc7ba9c9b90>"
            ]
          },
          "metadata": {},
          "execution_count": 58
        },
        {
          "output_type": "display_data",
          "data": {
            "text/plain": [
              "<Figure size 864x432 with 1 Axes>"
            ],
            "image/png": "[encoded data removed]"
          },
          "metadata": {}
        }
      ]
    },
    {
      "cell_type": "code",
      "source": [
        "global_report"
      ],
      "metadata": {
        "colab": {
          "base_uri": "https://localhost:8080/",
          "height": 206
        },
        "id": "nLJJwq1ivv2b",
        "outputId": "c9bef865-33a4-46d5-e613-cec1c847e918"
      },
      "execution_count": null,
      "outputs": [
        {
          "output_type": "execute_result",
          "data": {
            "text/plain": [
              "                                        Tag  \\\n",
              "0       XGBClassifier trained on basic data   \n",
              "1  LogisticRegression trained on basic data   \n",
              "2                 SVM trained on basic data   \n",
              "3        RandomForest trained on basic data   \n",
              "4       NeuralNetwork trained on basic data   \n",
              "\n",
              "                                         Description  \\\n",
              "0  GridSearchCV(cv=5, estimator=XGBClassifier(),\\...   \n",
              "1  GridSearchCV(cv=10, estimator=LogisticRegressi...   \n",
              "2  GridSearchCV(cv=3, estimator=SVC(),\\n         ...   \n",
              "3  GridSearchCV(cv=5, estimator=RandomForestClass...   \n",
              "4  KerasClassifier(\\n\\tmodel=<function model_nn a...   \n",
              "\n",
              "           Confusion matrix  Accuracy  Precision    Recall       ROC  \n",
              "0  [[1538, 47], [233, 182]]    0.8600   0.794760  0.438554  0.869225  \n",
              "1   [[1536, 49], [339, 76]]    0.8060   0.608000  0.183133  0.760962  \n",
              "2  [[1567, 18], [274, 141]]    0.8540   0.886792  0.339759  0.833168  \n",
              "3  [[1545, 40], [233, 182]]    0.8635   0.819820  0.438554  0.871678  \n",
              "4  [[1523, 62], [216, 199]]    0.8610   0.762452  0.479518  0.867487  "
            ],
            "text/html": [
              "\n",
              "  <div id=\"df-96f786a9-abe1-4e4b-9e5b-4df067ec9383\">\n",
              "    <div class=\"colab-df-container\">\n",
              "      <div>\n",
              "<style scoped>\n",
              "    .dataframe tbody tr th:only-of-type {\n",
              "        vertical-align: middle;\n",
              "    }\n",
              "\n",
              "    .dataframe tbody tr th {\n",
              "        vertical-align: top;\n",
              "    }\n",
              "\n",
              "    .dataframe thead th {\n",
              "        text-align: right;\n",
              "    }\n",
              "</style>\n",
              "<table border=\"1\" class=\"dataframe\">\n",
              "  <thead>\n",
              "    <tr style=\"text-align: right;\">\n",
              "      <th></th>\n",
              "      <th>Tag</th>\n",
              "      <th>Description</th>\n",
              "      <th>Confusion matrix</th>\n",
              "      <th>Accuracy</th>\n",
              "      <th>Precision</th>\n",
              "      <th>Recall</th>\n",
              "      <th>ROC</th>\n",
              "    </tr>\n",
              "  </thead>\n",
              "  <tbody>\n",
              "    <tr>\n",
              "      <th>0</th>\n",
              "      <td>XGBClassifier trained on basic data</td>\n",
              "      <td>GridSearchCV(cv=5, estimator=XGBClassifier(),\\...</td>\n",
              "      <td>[[1538, 47], [233, 182]]</td>\n",
              "      <td>0.8600</td>\n",
              "      <td>0.794760</td>\n",
              "      <td>0.438554</td>\n",
              "      <td>0.869225</td>\n",
              "    </tr>\n",
              "    <tr>\n",
              "      <th>1</th>\n",
              "      <td>LogisticRegression trained on basic data</td>\n",
              "      <td>GridSearchCV(cv=10, estimator=LogisticRegressi...</td>\n",
              "      <td>[[1536, 49], [339, 76]]</td>\n",
              "      <td>0.8060</td>\n",
              "      <td>0.608000</td>\n",
              "      <td>0.183133</td>\n",
              "      <td>0.760962</td>\n",
              "    </tr>\n",
              "    <tr>\n",
              "      <th>2</th>\n",
              "      <td>SVM trained on basic data</td>\n",
              "      <td>GridSearchCV(cv=3, estimator=SVC(),\\n         ...</td>\n",
              "      <td>[[1567, 18], [274, 141]]</td>\n",
              "      <td>0.8540</td>\n",
              "      <td>0.886792</td>\n",
              "      <td>0.339759</td>\n",
              "      <td>0.833168</td>\n",
              "    </tr>\n",
              "    <tr>\n",
              "      <th>3</th>\n",
              "      <td>RandomForest trained on basic data</td>\n",
              "      <td>GridSearchCV(cv=5, estimator=RandomForestClass...</td>\n",
              "      <td>[[1545, 40], [233, 182]]</td>\n",
              "      <td>0.8635</td>\n",
              "      <td>0.819820</td>\n",
              "      <td>0.438554</td>\n",
              "      <td>0.871678</td>\n",
              "    </tr>\n",
              "    <tr>\n",
              "      <th>4</th>\n",
              "      <td>NeuralNetwork trained on basic data</td>\n",
              "      <td>KerasClassifier(\\n\\tmodel=&lt;function model_nn a...</td>\n",
              "      <td>[[1523, 62], [216, 199]]</td>\n",
              "      <td>0.8610</td>\n",
              "      <td>0.762452</td>\n",
              "      <td>0.479518</td>\n",
              "      <td>0.867487</td>\n",
              "    </tr>\n",
              "  </tbody>\n",
              "</table>\n",
              "</div>\n",
              "      <button class=\"colab-df-convert\" onclick=\"convertToInteractive('df-96f786a9-abe1-4e4b-9e5b-4df067ec9383')\"\n",
              "              title=\"Convert this dataframe to an interactive table.\"\n",
              "              style=\"display:none;\">\n",
              "        \n",
              "  <svg xmlns=\"http://www.w3.org/2000/svg\" height=\"24px\"viewBox=\"0 0 24 24\"\n",
              "       width=\"24px\">\n",
              "    <path d=\"M0 0h24v24H0V0z\" fill=\"none\"/>\n",
              "    <path d=\"M18.56 5.44l.94 2.06.94-2.06 2.06-.94-2.06-.94-.94-2.06-.94 2.06-2.06.94zm-11 1L8.5 8.5l.94-2.06 2.06-.94-2.06-.94L8.5 2.5l-.94 2.06-2.06.94zm10 10l.94 2.06.94-2.06 2.06-.94-2.06-.94-.94-2.06-.94 2.06-2.06.94z\"/><path d=\"M17.41 7.96l-1.37-1.37c-.4-.4-.92-.59-1.43-.59-.52 0-1.04.2-1.43.59L10.3 9.45l-7.72 7.72c-.78.78-.78 2.05 0 2.83L4 21.41c.39.39.9.59 1.41.59.51 0 1.02-.2 1.41-.59l7.78-7.78 2.81-2.81c.8-.78.8-2.07 0-2.86zM5.41 20L4 18.59l7.72-7.72 1.47 1.35L5.41 20z\"/>\n",
              "  </svg>\n",
              "      </button>\n",
              "      \n",
              "  <style>\n",
              "    .colab-df-container {\n",
              "      display:flex;\n",
              "      flex-wrap:wrap;\n",
              "      gap: 12px;\n",
              "    }\n",
              "\n",
              "    .colab-df-convert {\n",
              "      background-color: #E8F0FE;\n",
              "      border: none;\n",
              "      border-radius: 50%;\n",
              "      cursor: pointer;\n",
              "      display: none;\n",
              "      fill: #1967D2;\n",
              "      height: 32px;\n",
              "      padding: 0 0 0 0;\n",
              "      width: 32px;\n",
              "    }\n",
              "\n",
              "    .colab-df-convert:hover {\n",
              "      background-color: #E2EBFA;\n",
              "      box-shadow: 0px 1px 2px rgba(60, 64, 67, 0.3), 0px 1px 3px 1px rgba(60, 64, 67, 0.15);\n",
              "      fill: #174EA6;\n",
              "    }\n",
              "\n",
              "    [theme=dark] .colab-df-convert {\n",
              "      background-color: #3B4455;\n",
              "      fill: #D2E3FC;\n",
              "    }\n",
              "\n",
              "    [theme=dark] .colab-df-convert:hover {\n",
              "      background-color: #434B5C;\n",
              "      box-shadow: 0px 1px 3px 1px rgba(0, 0, 0, 0.15);\n",
              "      filter: drop-shadow(0px 1px 2px rgba(0, 0, 0, 0.3));\n",
              "      fill: #FFFFFF;\n",
              "    }\n",
              "  </style>\n",
              "\n",
              "      <script>\n",
              "        const buttonEl =\n",
              "          document.querySelector('#df-96f786a9-abe1-4e4b-9e5b-4df067ec9383 button.colab-df-convert');\n",
              "        buttonEl.style.display =\n",
              "          google.colab.kernel.accessAllowed ? 'block' : 'none';\n",
              "\n",
              "        async function convertToInteractive(key) {\n",
              "          const element = document.querySelector('#df-96f786a9-abe1-4e4b-9e5b-4df067ec9383');\n",
              "          const dataTable =\n",
              "            await google.colab.kernel.invokeFunction('convertToInteractive',\n",
              "                                                     [key], {});\n",
              "          if (!dataTable) return;\n",
              "\n",
              "          const docLinkHtml = 'Like what you see? Visit the ' +\n",
              "            '<a target=\"_blank\" href=https://colab.research.google.com/notebooks/data_table.ipynb>data table notebook</a>'\n",
              "            + ' to learn more about interactive tables.';\n",
              "          element.innerHTML = '';\n",
              "          dataTable['output_type'] = 'display_data';\n",
              "          await google.colab.output.renderOutput(dataTable, element);\n",
              "          const docLink = document.createElement('div');\n",
              "          docLink.innerHTML = docLinkHtml;\n",
              "          element.appendChild(docLink);\n",
              "        }\n",
              "      </script>\n",
              "    </div>\n",
              "  </div>\n",
              "  "
            ]
          },
          "metadata": {},
          "execution_count": 59
        }
      ]
    },
    {
      "cell_type": "markdown",
      "source": [
        "# 6.Saving the models"
      ],
      "metadata": {
        "id": "f3U8DKRk1jZX"
      }
    },
    {
      "cell_type": "code",
      "source": [
        "import os\n",
        "import pickle\n",
        "\n",
        "path_for_models_trained_on_basic_data = '/content/drive/MyDrive/Colab Notebooks/projet/trained models basic/'\n",
        "\n",
        "for model in list_of_models:\n",
        "  \n",
        "  try:\n",
        "    os.remove(path_for_models_trained_on_basic_data + model.tag + '.sav')\n",
        "    print(path_for_models_trained_on_basic_data + model.tag + '.sav has been deleted')\n",
        "  except:\n",
        "    print(model.tag + ' does not exist')\n",
        "\n",
        "  with open(path_for_models_trained_on_basic_data + model.tag + '.sav', 'wb') as f:\n",
        "\n",
        "    pickle.dump(model, f)\n",
        "    f.close()\n",
        "\n",
        "    print(path_for_models_trained_on_basic_data + model.tag + '.sav has been saved')"
      ],
      "metadata": {
        "id": "Sncny7TdgelM",
        "colab": {
          "base_uri": "https://localhost:8080/"
        },
        "outputId": "258ad9ed-adff-4d82-e55b-30ab7bd78999"
      },
      "execution_count": null,
      "outputs": [
        {
          "output_type": "stream",
          "name": "stdout",
          "text": [
            "/content/drive/MyDrive/Colab Notebooks/projet/trained models basic/XGBClassifier trained on basic data.sav has been deleted\n",
            "/content/drive/MyDrive/Colab Notebooks/projet/trained models basic/XGBClassifier trained on basic data.sav has been saved\n",
            "LogisticRegression trained on basic data does not exist\n",
            "/content/drive/MyDrive/Colab Notebooks/projet/trained models basic/LogisticRegression trained on basic data.sav has been saved\n",
            "/content/drive/MyDrive/Colab Notebooks/projet/trained models basic/SVM trained on basic data.sav has been deleted\n",
            "/content/drive/MyDrive/Colab Notebooks/projet/trained models basic/SVM trained on basic data.sav has been saved\n",
            "/content/drive/MyDrive/Colab Notebooks/projet/trained models basic/RandomForest trained on basic data.sav has been deleted\n",
            "/content/drive/MyDrive/Colab Notebooks/projet/trained models basic/RandomForest trained on basic data.sav has been saved\n",
            "/content/drive/MyDrive/Colab Notebooks/projet/trained models basic/NeuralNetwork trained on basic data.sav has been deleted\n",
            "/content/drive/MyDrive/Colab Notebooks/projet/trained models basic/NeuralNetwork trained on basic data.sav has been saved\n"
          ]
        }
      ]
    }
  ],
  "metadata": {
    "colab": {
      "collapsed_sections": [],
      "provenance": [],
      "toc_visible": true,
      "authorship_tag": "ABX9TyNb3c/YKxXm0fnA25KDnIC8",
      "include_colab_link": true
    },
    "kernelspec": {
      "display_name": "Python 3",
      "name": "python3"
    },
    "language_info": {
      "name": "python"
    }
  },
  "nbformat": 4,
  "nbformat_minor": 0
}