{
  "nbformat": 4,
  "nbformat_minor": 0,
  "metadata": {
    "colab": {
      "provenance": [],
      "collapsed_sections": [],
      "authorship_tag": "ABX9TyP8PIlWFC5vxVM8tTdVx8WR",
      "include_colab_link": true
    },
    "kernelspec": {
      "name": "python3",
      "display_name": "Python 3"
    },
    "language_info": {
      "name": "python"
    }
  },
  "cells": [
    {
      "cell_type": "markdown",
      "metadata": {
        "id": "view-in-github",
        "colab_type": "text"
      },
      "source": [
        "<a href=\"https://colab.research.google.com/github/fulup2022/formationpublic/blob/main/Step4_ML_python.ipynb\" target=\"_parent\"><img src=\"https://colab.research.google.com/assets/colab-badge.svg\" alt=\"Open In Colab\"/></a>"
      ]
    },
    {
      "cell_type": "code",
      "execution_count": 2,
      "metadata": {
        "colab": {
          "base_uri": "https://localhost:8080/"
        },
        "id": "JtUekJvOvxpf",
        "outputId": "1f1a3c36-1e1e-42a9-dfb3-5ac73f50eefc"
      },
      "outputs": [
        {
          "output_type": "stream",
          "name": "stdout",
          "text": [
            "Mounted at /content/drive\n"
          ]
        }
      ],
      "source": [
        "from google.colab import drive\n",
        "drive.mount('/content/drive')"
      ]
    },
    {
      "cell_type": "code",
      "source": [
        "!ls \"/content/\""
      ],
      "metadata": {
        "colab": {
          "base_uri": "https://localhost:8080/"
        },
        "id": "dN-K-BeyxvSJ",
        "outputId": "a98f0a21-d8fe-4b86-c764-c72bc70485ce"
      },
      "execution_count": 7,
      "outputs": [
        {
          "output_type": "stream",
          "name": "stdout",
          "text": [
            " drive\t file.csv  'Météo GAR - Détails.csv'   sample_data\n"
          ]
        }
      ]
    },
    {
      "cell_type": "code",
      "source": [
        "from openpyxl import Workbook\n",
        "\n",
        "def title(p_Title):\n",
        "  if(p_Title == ' '):\n",
        "    return 'NO NAME';\n",
        "  else:\n",
        "    return p_Title;\n",
        "\n",
        "def loadData(p_Path, p_Output_File_Name = \"test.xlsx\"):\n",
        "\n",
        "  try:\n",
        "    with open(p_Path, 'r') as f:\n",
        "\n",
        "      indicators = dict()\n",
        "\n",
        "      for l in f.readlines():\n",
        "\n",
        "        current_line = l.strip().split(\";\");\n",
        "        current_line_indicator = current_line[0];\n",
        "\n",
        "        if (current_line_indicator not in indicators):\n",
        "          indicators[current_line_indicator] = [];\n",
        "\n",
        "        indicators[current_line_indicator].append(current_line);        \n",
        "        \n",
        "      generated_File = Workbook();\n",
        "\n",
        "      first_sheet = generated_File.active;\n",
        "\n",
        "      first_sheet.title = \"Synthese\";\n",
        "\n",
        "      first_sheet[\"A1\"] = \"Volume par indicateur\";\n",
        "\n",
        "      increment_indicator = 5;\n",
        "\n",
        "      for indicator in indicators:\n",
        "        \n",
        "        print(indicator + \":\" + str(len(indicators[indicator])));\n",
        "\n",
        "        first_sheet[\"A\"+str(increment_indicator)] = indicator;\n",
        "        first_sheet[\"B\"+str(increment_indicator)] = str(len(indicators[indicator]));\n",
        "\n",
        "        indicator_sheet = generated_File.create_sheet(indicator);\n",
        "\n",
        "        increment_ligne = 2;\n",
        "\n",
        "        for details in indicators[indicator]:\n",
        "\n",
        "          # premiere ligne, on met les titres\n",
        "          if (increment_ligne == 2):\n",
        "            indicator_sheet[\"A1\"] = 'REQUEST_ID';\n",
        "            indicator_sheet[\"B1\"] = 'DESCR254';\n",
        "            indicator_sheet[\"C1\"] = 'MODULE';\n",
        "            indicator_sheet[\"D1\"] = 'BUSINESS_UNIT';\n",
        "            indicator_sheet[\"E1\"] = 'TRANS_TYPE';\n",
        "            indicator_sheet[\"F1\"] = 'STATUS';\n",
        "            indicator_sheet[\"G1\"] = 'SEVERITY';\n",
        "            indicator_sheet[\"H1\"] = 'ACTOR';\n",
        "            indicator_sheet[\"I1\"] = 'APPARITION_DT';\n",
        "            indicator_sheet[\"J1\"] = title(details[9]);\n",
        "            indicator_sheet[\"K1\"] = title(details[11]);\n",
        "            indicator_sheet[\"L1\"] = title(details[13]);            \n",
        "            indicator_sheet[\"M1\"] = title(details[15]);\n",
        "            indicator_sheet[\"N1\"] = title(details[17]);\n",
        "            indicator_sheet[\"O1\"] = title(details[19]);\n",
        "            indicator_sheet[\"P1\"] = title(details[21]);\n",
        "            indicator_sheet[\"Q1\"] = title(details[23]);\n",
        "            indicator_sheet[\"R1\"] = title(details[25]);\n",
        "            indicator_sheet[\"S1\"] = title(details[27]);\n",
        "            indicator_sheet[\"T1\"] = title(details[29]);\n",
        "            indicator_sheet[\"U1\"] = title(details[31]);\n",
        "            indicator_sheet[\"V1\"] = title(details[33]);\n",
        "            indicator_sheet[\"W1\"] = title(details[35]);\n",
        "            indicator_sheet[\"X1\"] = title(details[37]);\n",
        "            indicator_sheet[\"Y1\"] = title(details[39]);\n",
        "            indicator_sheet[\"Z1\"] = title(details[41]);            \n",
        "            indicator_sheet[\"AA1\"] = 'BRANCHE';\n",
        "            indicator_sheet[\"AB1\"] = 'BRANCHE_DESCR';\n",
        "            indicator_sheet[\"AC1\"] = 'CODE_DIR';\n",
        "            indicator_sheet[\"AD1\"] = 'E1_DIR';\n",
        "            indicator_sheet[\"AE1\"] = 'SOCIETE';\n",
        "            indicator_sheet[\"AF1\"] = 'SOCIETE PALIER';\n",
        "            indicator_sheet[\"AG1\"] = 'ENTITE';\n",
        "            indicator_sheet[\"AH1\"] = 'E1_SITE_EGS';\n",
        "            indicator_sheet[\"AI1\"] = 'E1_POLE';\n",
        "            indicator_sheet[\"AJ1\"] = 'E1_PERIM_GEST_EGS';\n",
        "\n",
        "          # contenu des lignes\n",
        "          indicator_sheet[\"A\"+str(increment_ligne)] = details[0];\n",
        "          indicator_sheet[\"B\"+str(increment_ligne)] = details[1];\n",
        "          indicator_sheet[\"C\"+str(increment_ligne)] = details[2];\n",
        "          indicator_sheet[\"D\"+str(increment_ligne)] = details[3];\n",
        "          indicator_sheet[\"E\"+str(increment_ligne)] = details[4];\n",
        "          indicator_sheet[\"F\"+str(increment_ligne)] = details[5];\n",
        "          indicator_sheet[\"G\"+str(increment_ligne)] = details[6];\n",
        "          indicator_sheet[\"H\"+str(increment_ligne)] = details[7];\n",
        "          indicator_sheet[\"I\"+str(increment_ligne)] = details[8];\n",
        "          indicator_sheet[\"J\"+str(increment_ligne)] = details[10];\n",
        "          indicator_sheet[\"K\"+str(increment_ligne)] = details[12];\n",
        "          indicator_sheet[\"L\"+str(increment_ligne)] = details[14];\n",
        "          indicator_sheet[\"M\"+str(increment_ligne)] = details[16];\n",
        "          indicator_sheet[\"N\"+str(increment_ligne)] = details[18];\n",
        "          indicator_sheet[\"O\"+str(increment_ligne)] = details[20];\n",
        "          indicator_sheet[\"P\"+str(increment_ligne)] = details[22];\n",
        "          indicator_sheet[\"Q\"+str(increment_ligne)] = details[24];\n",
        "          indicator_sheet[\"R\"+str(increment_ligne)] = details[26];\n",
        "          indicator_sheet[\"S\"+str(increment_ligne)] = details[28];\n",
        "          indicator_sheet[\"T\"+str(increment_ligne)] = details[30];\n",
        "          indicator_sheet[\"U\"+str(increment_ligne)] = details[32];\n",
        "          indicator_sheet[\"V\"+str(increment_ligne)] = details[34];\n",
        "          indicator_sheet[\"W\"+str(increment_ligne)] = details[36];\n",
        "          indicator_sheet[\"X\"+str(increment_ligne)] = details[38];\n",
        "          indicator_sheet[\"Y\"+str(increment_ligne)] = details[40];\n",
        "          indicator_sheet[\"Z\"+str(increment_ligne)] = details[42];\n",
        "          indicator_sheet[\"AA\"+str(increment_ligne)] = details[43];\n",
        "          indicator_sheet[\"AB\"+str(increment_ligne)] = details[44];\n",
        "          indicator_sheet[\"AC\"+str(increment_ligne)] = details[45];\n",
        "          indicator_sheet[\"AD\"+str(increment_ligne)] = details[46];\n",
        "          indicator_sheet[\"AE\"+str(increment_ligne)] = details[47];\n",
        "          indicator_sheet[\"AF\"+str(increment_ligne)] = details[48];\n",
        "          indicator_sheet[\"AG\"+str(increment_ligne)] = details[49];\n",
        "          indicator_sheet[\"AH\"+str(increment_ligne)] = details[50];\n",
        "          indicator_sheet[\"AI\"+str(increment_ligne)] = details[51];\n",
        "          indicator_sheet[\"AJ\"+str(increment_ligne)] = details[52];\n",
        "          \n",
        "          increment_ligne += 1;\n",
        "          \n",
        "        increment_indicator += 1;\n",
        "      \n",
        "      generated_File.save(filename = p_Output_File_Name);\n",
        "   \n",
        "      return indicators;\n",
        "\n",
        "  except FileNotFoundError:\n",
        "    print(\"No file\");\n",
        "\n",
        "t = loadData(\"/content/file.txt\")"
      ],
      "metadata": {
        "colab": {
          "base_uri": "https://localhost:8080/"
        },
        "id": "cA_ZkGUfwWM7",
        "outputId": "c1949152-b120-4fbe-c484-e70f96d5bd99"
      },
      "execution_count": 51,
      "outputs": [
        {
          "output_type": "stream",
          "name": "stdout",
          "text": [
            "No file\n"
          ]
        }
      ]
    }
  ]
}