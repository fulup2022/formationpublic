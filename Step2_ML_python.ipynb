{
  "nbformat": 4,
  "nbformat_minor": 0,
  "metadata": {
    "colab": {
      "provenance": [],
      "collapsed_sections": [],
      "authorship_tag": "ABX9TyPfVz1qs4tJ6YbC+5nHIYZ2",
      "include_colab_link": true
    },
    "kernelspec": {
      "name": "python3",
      "display_name": "Python 3"
    },
    "language_info": {
      "name": "python"
    }
  },
  "cells": [
    {
      "cell_type": "markdown",
      "metadata": {
        "id": "view-in-github",
        "colab_type": "text"
      },
      "source": [
        "<a href=\"https://colab.research.google.com/github/fulup2022/formationpublic/blob/main/Step2_ML_python.ipynb\" target=\"_parent\"><img src=\"https://colab.research.google.com/assets/colab-badge.svg\" alt=\"Open In Colab\"/></a>"
      ]
    },
    {
      "cell_type": "markdown",
      "source": [
        "## Variables and functions"
      ],
      "metadata": {
        "id": "emzStZYcB1Bk"
      }
    },
    {
      "cell_type": "code",
      "source": [
        "# To find the type\n",
        "type(1+1.5)\n"
      ],
      "metadata": {
        "colab": {
          "base_uri": "https://localhost:8080/"
        },
        "id": "3akjKsm2B-FA",
        "outputId": "0b8d3981-7476-4df9-faf3-b2ef7d4d1da4"
      },
      "execution_count": null,
      "outputs": [
        {
          "output_type": "execute_result",
          "data": {
            "text/plain": [
              "float"
            ]
          },
          "metadata": {},
          "execution_count": 1
        }
      ]
    },
    {
      "cell_type": "code",
      "source": [
        "# Concatenate strings can be done using quotation marks\n",
        "print('Hello' + ' world')"
      ],
      "metadata": {
        "colab": {
          "base_uri": "https://localhost:8080/"
        },
        "id": "mNrXACxqCF6c",
        "outputId": "d3fa910c-74ae-4de0-fb44-96b2933d13d3"
      },
      "execution_count": null,
      "outputs": [
        {
          "output_type": "stream",
          "name": "stdout",
          "text": [
            "Hello world\n"
          ]
        }
      ]
    },
    {
      "cell_type": "code",
      "source": [
        "# Varation\n",
        "name = \"Philippe\"\n",
        "age = 10\n",
        "print(\"Hello, {}. You are {}\".format(name, age))"
      ],
      "metadata": {
        "colab": {
          "base_uri": "https://localhost:8080/"
        },
        "id": "tfNmqjP4CTz0",
        "outputId": "08320376-c81d-4539-8001-7606f0b5633f"
      },
      "execution_count": null,
      "outputs": [
        {
          "output_type": "stream",
          "name": "stdout",
          "text": [
            "Hello, Philippe. You are 10\n"
          ]
        }
      ]
    },
    {
      "cell_type": "code",
      "source": [
        "# Varation using a fstring\n",
        "print(f\"Hello, {name}. You are {age}.\")"
      ],
      "metadata": {
        "colab": {
          "base_uri": "https://localhost:8080/"
        },
        "id": "iVaO6HGQDhrI",
        "outputId": "88e2c791-d7ee-45e4-87c2-4a285082c9c6"
      },
      "execution_count": null,
      "outputs": [
        {
          "output_type": "stream",
          "name": "stdout",
          "text": [
            "Hello, Philippe. You are 10.\n"
          ]
        }
      ]
    },
    {
      "cell_type": "code",
      "source": [
        "# Multiply strings by number\n",
        "10 * 'Hello'"
      ],
      "metadata": {
        "colab": {
          "base_uri": "https://localhost:8080/",
          "height": 35
        },
        "id": "0NOJ0CT4EA9B",
        "outputId": "22f16f17-c095-4acc-f2e4-effd8ebcb785"
      },
      "execution_count": null,
      "outputs": [
        {
          "output_type": "execute_result",
          "data": {
            "text/plain": [
              "'HelloHelloHelloHelloHelloHelloHelloHelloHelloHello'"
            ],
            "application/vnd.google.colaboratory.intrinsic+json": {
              "type": "string"
            }
          },
          "metadata": {},
          "execution_count": 13
        }
      ]
    },
    {
      "cell_type": "code",
      "source": [
        "def concatenate(a, b):\n",
        "  return str(a) + str(b);"
      ],
      "metadata": {
        "id": "rcu4ilOhEQiv"
      },
      "execution_count": null,
      "outputs": []
    },
    {
      "cell_type": "code",
      "source": [
        "concatenate(1, 'a')"
      ],
      "metadata": {
        "colab": {
          "base_uri": "https://localhost:8080/",
          "height": 35
        },
        "id": "LXoy6OnREnkh",
        "outputId": "5fe54f07-ba4e-49ea-cd4e-00976e69776e"
      },
      "execution_count": null,
      "outputs": [
        {
          "output_type": "execute_result",
          "data": {
            "text/plain": [
              "'1a'"
            ],
            "application/vnd.google.colaboratory.intrinsic+json": {
              "type": "string"
            }
          },
          "metadata": {},
          "execution_count": 16
        }
      ]
    },
    {
      "cell_type": "code",
      "source": [
        "# The strings are immutable\n",
        "def testParametre(a):\n",
        "  a = '12';\n",
        "  print(a);\n",
        "\n",
        "toto = '11'\n",
        "print(toto)\n",
        "testParametre(toto)\n",
        "print(toto)"
      ],
      "metadata": {
        "colab": {
          "base_uri": "https://localhost:8080/"
        },
        "id": "b2OzThtvFk00",
        "outputId": "a817b435-5bd5-4780-f68d-3643c6c83bb3"
      },
      "execution_count": null,
      "outputs": [
        {
          "output_type": "stream",
          "name": "stdout",
          "text": [
            "11\n",
            "12\n",
            "11\n"
          ]
        }
      ]
    },
    {
      "cell_type": "code",
      "source": [
        "# Function concatenate_str_nb\n",
        "def concatenate_str_nb(pNumber, pString):\n",
        "  try:\n",
        "    result = str(pNumber) + pString\n",
        "  except:\n",
        "    if( (isinstance(pString, str) == False)  or (isinstance(pNumber, float) == False)):\n",
        "      result = str(pNumber) + str(pString)\n",
        "  return result\n",
        "\n",
        "concatenate_str_nb(2, 3)"
      ],
      "metadata": {
        "colab": {
          "base_uri": "https://localhost:8080/",
          "height": 35
        },
        "id": "9KsQt2usHHDF",
        "outputId": "1726f0f5-f775-4a1e-e369-33b759f050d0"
      },
      "execution_count": null,
      "outputs": [
        {
          "output_type": "execute_result",
          "data": {
            "text/plain": [
              "'23'"
            ],
            "application/vnd.google.colaboratory.intrinsic+json": {
              "type": "string"
            }
          },
          "metadata": {},
          "execution_count": 30
        }
      ]
    },
    {
      "cell_type": "code",
      "source": [
        "# Third\n",
        "def concat_number(a, b):\n",
        "  return '{}{}'.format(a,b);\n",
        "\n",
        "concat_number(1, 3)"
      ],
      "metadata": {
        "colab": {
          "base_uri": "https://localhost:8080/",
          "height": 35
        },
        "id": "bkBL_JycL7LK",
        "outputId": "3d8a79fd-17f1-439b-c5bd-ee4766222c9d"
      },
      "execution_count": null,
      "outputs": [
        {
          "output_type": "execute_result",
          "data": {
            "text/plain": [
              "'13'"
            ],
            "application/vnd.google.colaboratory.intrinsic+json": {
              "type": "string"
            }
          },
          "metadata": {},
          "execution_count": 32
        }
      ]
    }
  ]
}