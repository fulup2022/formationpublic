{
  "nbformat": 4,
  "nbformat_minor": 0,
  "metadata": {
    "colab": {
      "provenance": [],
      "collapsed_sections": [],
      "authorship_tag": "ABX9TyNXPVD2iE8bELHsTmuQtdmK",
      "include_colab_link": true
    },
    "kernelspec": {
      "name": "python3",
      "display_name": "Python 3"
    },
    "language_info": {
      "name": "python"
    }
  },
  "cells": [
    {
      "cell_type": "markdown",
      "metadata": {
        "id": "view-in-github",
        "colab_type": "text"
      },
      "source": [
        "<a href=\"https://colab.research.google.com/github/fulup2022/formationpublic/blob/main/Step3_ML_python.ipynb\" target=\"_parent\"><img src=\"https://colab.research.google.com/assets/colab-badge.svg\" alt=\"Open In Colab\"/></a>"
      ]
    },
    {
      "cell_type": "code",
      "execution_count": null,
      "metadata": {
        "colab": {
          "base_uri": "https://localhost:8080/"
        },
        "id": "KlLAU7nte1PJ",
        "outputId": "64f0547e-71ca-420d-b3e8-585924fafe40"
      },
      "outputs": [
        {
          "output_type": "stream",
          "name": "stdout",
          "text": [
            "/content\n"
          ]
        }
      ],
      "source": [
        "!pwd"
      ]
    },
    {
      "cell_type": "code",
      "source": [
        "from google.colab import drive\n",
        "\n",
        "drive.mount('/content/drive/')\n"
      ],
      "metadata": {
        "colab": {
          "base_uri": "https://localhost:8080/"
        },
        "id": "NZWXozXDfbSh",
        "outputId": "ba43b219-ed1c-4a5d-d091-4a73adeb3ddb"
      },
      "execution_count": 2,
      "outputs": [
        {
          "output_type": "stream",
          "name": "stdout",
          "text": [
            "Mounted at /content/drive/\n"
          ]
        }
      ]
    },
    {
      "cell_type": "code",
      "source": [
        "# Write a funciont to list elements in a folder\n",
        "import os\n",
        "  \n",
        "def list_a_folder(pPath, pTree):\n",
        "  \"\"\"\n",
        "    Always put the comment to describe the purpose of the function \n",
        "    Parameters : - pPath to pass the folder used to detect the tree beside\n",
        "                 - pTree to store the strucure of files\n",
        "  \"\"\"\n",
        "  currentPath = pPath;\n",
        "\n",
        "  try:\n",
        "    listeElements = os.listdir(currentPath);\n",
        "    \n",
        "    for l in listeElements:\n",
        "      currentPathChild = currentPath + '/' + str(l);\n",
        "      pTree.append(currentPathChild)\n",
        "      print(currentPathChild)\n",
        "      list_a_folder(currentPathChild, pTree)\n",
        "  \n",
        "  except:\n",
        "    print(currentPath + ' : No child')\n",
        "\n",
        "tree = []\n",
        "\n",
        "list_a_folder('/content', tree)\n",
        "\n",
        "print(tree)"
      ],
      "metadata": {
        "colab": {
          "base_uri": "https://localhost:8080/"
        },
        "id": "VYq8P2r-e_Go",
        "outputId": "f9231bf8-fdff-4b2f-9143-fbd6205dee7e"
      },
      "execution_count": 8,
      "outputs": [
        {
          "output_type": "stream",
          "name": "stdout",
          "text": [
            "/content/.config\n",
            "/content/.config/.last_update_check.json\n",
            "/content/.config/.last_update_check.json : No child\n",
            "/content/.config/active_config\n",
            "/content/.config/active_config : No child\n",
            "/content/.config/.last_survey_prompt.yaml\n",
            "/content/.config/.last_survey_prompt.yaml : No child\n",
            "/content/.config/logs\n",
            "/content/.config/logs/2022.08.31\n",
            "/content/.config/logs/2022.08.31/13.47.33.413502.log\n",
            "/content/.config/logs/2022.08.31/13.47.33.413502.log : No child\n",
            "/content/.config/logs/2022.08.31/13.47.03.944288.log\n",
            "/content/.config/logs/2022.08.31/13.47.03.944288.log : No child\n",
            "/content/.config/logs/2022.08.31/13.46.43.989608.log\n",
            "/content/.config/logs/2022.08.31/13.46.43.989608.log : No child\n",
            "/content/.config/logs/2022.08.31/13.46.22.077074.log\n",
            "/content/.config/logs/2022.08.31/13.46.22.077074.log : No child\n",
            "/content/.config/logs/2022.08.31/13.47.11.927057.log\n",
            "/content/.config/logs/2022.08.31/13.47.11.927057.log : No child\n",
            "/content/.config/logs/2022.08.31/13.47.32.611835.log\n",
            "/content/.config/logs/2022.08.31/13.47.32.611835.log : No child\n",
            "/content/.config/config_sentinel\n",
            "/content/.config/config_sentinel : No child\n",
            "/content/.config/configurations\n",
            "/content/.config/configurations/config_default\n",
            "/content/.config/configurations/config_default : No child\n",
            "/content/.config/gce\n",
            "/content/.config/gce : No child\n",
            "/content/.config/.last_opt_in_prompt.yaml\n",
            "/content/.config/.last_opt_in_prompt.yaml : No child\n",
            "/content/drive\n",
            "/content/drive/.shortcut-targets-by-id\n",
            "/content/drive/.file-revisions-by-id\n",
            "/content/drive/MyDrive\n",
            "/content/drive/MyDrive/How to get started with Drive.pdf\n",
            "/content/drive/MyDrive/How to get started with Drive.pdf : No child\n",
            "/content/drive/MyDrive/Colab Notebooks\n",
            "/content/drive/MyDrive/Colab Notebooks/first_steps (1).ipynb\n",
            "/content/drive/MyDrive/Colab Notebooks/first_steps (1).ipynb : No child\n",
            "/content/drive/MyDrive/Colab Notebooks/first_steps.ipynb\n",
            "/content/drive/MyDrive/Colab Notebooks/first_steps.ipynb : No child\n",
            "/content/drive/MyDrive/Colab Notebooks/Binary_Classification_Bank.ipynb\n",
            "/content/drive/MyDrive/Colab Notebooks/Binary_Classification_Bank.ipynb : No child\n",
            "/content/drive/MyDrive/Colab Notebooks/ANN_TensorFlow_MNIST.ipynb\n",
            "/content/drive/MyDrive/Colab Notebooks/ANN_TensorFlow_MNIST.ipynb : No child\n",
            "/content/drive/MyDrive/Colab Notebooks/Step2_ML_python.ipynb\n",
            "/content/drive/MyDrive/Colab Notebooks/Step2_ML_python.ipynb : No child\n",
            "/content/drive/MyDrive/Colab Notebooks/Step1_ML_python.ipynb\n",
            "/content/drive/MyDrive/Colab Notebooks/Step1_ML_python.ipynb : No child\n",
            "/content/drive/MyDrive/Colab Notebooks/excel.ipynb\n",
            "/content/drive/MyDrive/Colab Notebooks/excel.ipynb : No child\n",
            "/content/drive/MyDrive/Colab Notebooks/Step3_ML_python.ipynb\n",
            "/content/drive/MyDrive/Colab Notebooks/Step3_ML_python.ipynb : No child\n",
            "/content/drive/MyDrive/test\n",
            "/content/drive/MyDrive/test/Churn_Modelling.csv\n",
            "/content/drive/MyDrive/test/Churn_Modelling.csv : No child\n",
            "/content/drive/MyDrive/.ipynb_checkpoints\n",
            "/content/drive/MyDrive/vatIAtech\n",
            "/content/drive/MyDrive/vatIAtech/.ipynb_checkpoints\n",
            "/content/drive/MyDrive/DSTI\n",
            "/content/drive/MyDrive/DSTI/ANN\n",
            "/content/drive/MyDrive/DSTI/ANN/practical\n",
            "/content/drive/MyDrive/DSTI/ANN/practical/churn_model.h5\n",
            "/content/drive/MyDrive/DSTI/ANN/practical/churn_model.h5 : No child\n",
            "/content/drive/MyDrive/DSTI/.ipynb_checkpoints\n",
            "/content/drive/MyDrive/DSTI/iris.data\n",
            "/content/drive/MyDrive/DSTI/iris.data : No child\n",
            "/content/drive/MyDrive/DSTI/Untitled\n",
            "/content/drive/MyDrive/DSTI/Untitled : No child\n",
            "/content/drive/MyDrive/DSTI/iris.names\n",
            "/content/drive/MyDrive/DSTI/iris.names : No child\n",
            "/content/drive/MyDrive/DSTI/irisb.data\n",
            "/content/drive/MyDrive/DSTI/irisb.data : No child\n",
            "/content/drive/.Trash-0\n",
            "/content/drive/.Trash-0/files\n",
            "/content/drive/.Trash-0/info\n",
            "/content/sample_data\n",
            "/content/sample_data/README.md\n",
            "/content/sample_data/README.md : No child\n",
            "/content/sample_data/anscombe.json\n",
            "/content/sample_data/anscombe.json : No child\n",
            "/content/sample_data/california_housing_train.csv\n",
            "/content/sample_data/california_housing_train.csv : No child\n",
            "/content/sample_data/mnist_test.csv\n",
            "/content/sample_data/mnist_test.csv : No child\n",
            "/content/sample_data/mnist_train_small.csv\n",
            "/content/sample_data/mnist_train_small.csv : No child\n",
            "/content/sample_data/california_housing_test.csv\n",
            "/content/sample_data/california_housing_test.csv : No child\n",
            "['/content/.config', '/content/.config/.last_update_check.json', '/content/.config/active_config', '/content/.config/.last_survey_prompt.yaml', '/content/.config/logs', '/content/.config/logs/2022.08.31', '/content/.config/logs/2022.08.31/13.47.33.413502.log', '/content/.config/logs/2022.08.31/13.47.03.944288.log', '/content/.config/logs/2022.08.31/13.46.43.989608.log', '/content/.config/logs/2022.08.31/13.46.22.077074.log', '/content/.config/logs/2022.08.31/13.47.11.927057.log', '/content/.config/logs/2022.08.31/13.47.32.611835.log', '/content/.config/config_sentinel', '/content/.config/configurations', '/content/.config/configurations/config_default', '/content/.config/gce', '/content/.config/.last_opt_in_prompt.yaml', '/content/drive', '/content/drive/.shortcut-targets-by-id', '/content/drive/.file-revisions-by-id', '/content/drive/MyDrive', '/content/drive/MyDrive/How to get started with Drive.pdf', '/content/drive/MyDrive/Colab Notebooks', '/content/drive/MyDrive/Colab Notebooks/first_steps (1).ipynb', '/content/drive/MyDrive/Colab Notebooks/first_steps.ipynb', '/content/drive/MyDrive/Colab Notebooks/Binary_Classification_Bank.ipynb', '/content/drive/MyDrive/Colab Notebooks/ANN_TensorFlow_MNIST.ipynb', '/content/drive/MyDrive/Colab Notebooks/Step2_ML_python.ipynb', '/content/drive/MyDrive/Colab Notebooks/Step1_ML_python.ipynb', '/content/drive/MyDrive/Colab Notebooks/excel.ipynb', '/content/drive/MyDrive/Colab Notebooks/Step3_ML_python.ipynb', '/content/drive/MyDrive/test', '/content/drive/MyDrive/test/Churn_Modelling.csv', '/content/drive/MyDrive/.ipynb_checkpoints', '/content/drive/MyDrive/vatIAtech', '/content/drive/MyDrive/vatIAtech/.ipynb_checkpoints', '/content/drive/MyDrive/DSTI', '/content/drive/MyDrive/DSTI/ANN', '/content/drive/MyDrive/DSTI/ANN/practical', '/content/drive/MyDrive/DSTI/ANN/practical/churn_model.h5', '/content/drive/MyDrive/DSTI/.ipynb_checkpoints', '/content/drive/MyDrive/DSTI/iris.data', '/content/drive/MyDrive/DSTI/Untitled', '/content/drive/MyDrive/DSTI/iris.names', '/content/drive/MyDrive/DSTI/irisb.data', '/content/drive/.Trash-0', '/content/drive/.Trash-0/files', '/content/drive/.Trash-0/info', '/content/sample_data', '/content/sample_data/README.md', '/content/sample_data/anscombe.json', '/content/sample_data/california_housing_train.csv', '/content/sample_data/mnist_test.csv', '/content/sample_data/mnist_train_small.csv', '/content/sample_data/california_housing_test.csv']\n"
          ]
        }
      ]
    },
    {
      "cell_type": "code",
      "source": [
        "from os.path import isfile, join\n",
        "def list_a_folder2(pPath):\n",
        "  \"\"\"\n",
        "  This function returns the list of elements and the number of elements and the list of files and the numbe of files\n",
        "  \"\"\"\n",
        "  list_of_my_path = os.listdir(pPath);\n",
        "  list_files = [l for l in list_of_my_path if (isfile(join(pPath, l)))]\n",
        "  number_of_elements = len(list_of_my_path);\n",
        "  number_of_files = len(list_files);\n",
        "  return (list_of_my_path, number_of_elements, list_files, number_of_files);\n",
        "\n",
        "print(list_a_folder2('/content/drive/MyDrive/DSTI/'));"
      ],
      "metadata": {
        "id": "dxELv2qe_qXl",
        "colab": {
          "base_uri": "https://localhost:8080/"
        },
        "outputId": "2177198e-be52-49d5-cf35-7fbdedf45b10"
      },
      "execution_count": 7,
      "outputs": [
        {
          "output_type": "stream",
          "name": "stdout",
          "text": [
            "(['ANN', '.ipynb_checkpoints', 'iris.data', 'Untitled', 'iris.names', 'irisb.data'], 6, ['iris.data', 'Untitled', 'iris.names', 'irisb.data'], 4)\n"
          ]
        }
      ]
    },
    {
      "cell_type": "code",
      "source": [
        "import os\n",
        "def list_a_folder_by_format(pPath, pExtension):\n",
        "  \"\"\"\n",
        "  This function returns the list of files corresponding to a certain extension\n",
        "  \"\"\"\n",
        "  list_of_my_path = os.listdir(pPath);\n",
        "  list_files_format = [l for l in list_of_my_path if (isfile(join(pPath, l)) and l.lower().endswith(pExtension.lower()))]\n",
        "  number_of_elements = len(list_of_my_path);\n",
        "  number_of_files = len(list_files_format);\n",
        "  return (list_of_my_path, number_of_elements, list_files_format, number_of_files);\n",
        "\n",
        "print(list_a_folder_by_format('/content/drive/MyDrive/DSTI/', '.data'));"
      ],
      "metadata": {
        "colab": {
          "base_uri": "https://localhost:8080/"
        },
        "id": "gsOmJDFvyFpd",
        "outputId": "966ea1eb-3025-4571-d93e-6a15a3e5a1fd"
      },
      "execution_count": 9,
      "outputs": [
        {
          "output_type": "stream",
          "name": "stdout",
          "text": [
            "(['ANN', '.ipynb_checkpoints', 'iris.data', 'Untitled', 'iris.names', 'irisb.data'], 6, ['iris.data', 'irisb.data'], 2)\n"
          ]
        }
      ]
    },
    {
      "cell_type": "code",
      "source": [
        "def check_extension(pFilename, pListOfExtensions) :\n",
        "  for element in pListOfExtensions:\n",
        "    if(pFilename.lower().endswith(element.lower())):\n",
        "      return True;\n",
        "  return False;"
      ],
      "metadata": {
        "id": "2mlhNSG57Hl2"
      },
      "execution_count": 16,
      "outputs": []
    },
    {
      "cell_type": "code",
      "source": [
        "check_extension('toto.data', ['.dat', '.jpg'])"
      ],
      "metadata": {
        "colab": {
          "base_uri": "https://localhost:8080/"
        },
        "id": "_uhz0Tb58a8V",
        "outputId": "98a3ac5b-2ee9-46ce-a751-952c5a581190"
      },
      "execution_count": 17,
      "outputs": [
        {
          "output_type": "execute_result",
          "data": {
            "text/plain": [
              "False"
            ]
          },
          "metadata": {},
          "execution_count": 17
        }
      ]
    },
    {
      "cell_type": "code",
      "source": [
        "import os\n",
        "def list_a_folder_by_formats(pPath, pListOfExtensions):\n",
        "  \"\"\"\n",
        "  This function returns the list of files corresponding to a certain extension\n",
        "  \"\"\"\n",
        "  list_of_my_path = os.listdir(pPath);\n",
        "  list_files_format = [l for l in list_of_my_path if (isfile(join(pPath, l)) and check_extension(l, pListOfExtensions))]\n",
        "  number_of_elements = len(list_of_my_path);\n",
        "  number_of_files = len(list_files_format);\n",
        "  return (list_of_my_path, number_of_elements, list_files_format, number_of_files);\n",
        "\n",
        "print(list_a_folder_by_formats('/content/drive/MyDrive/DSTI/', ['.data', '.names']));"
      ],
      "metadata": {
        "colab": {
          "base_uri": "https://localhost:8080/"
        },
        "id": "vq5rDvOQ71uI",
        "outputId": "ecf87bfb-f2df-46c8-9373-b3a5c06cf427"
      },
      "execution_count": 25,
      "outputs": [
        {
          "output_type": "stream",
          "name": "stdout",
          "text": [
            "(['ANN', '.ipynb_checkpoints', 'iris.data', 'Untitled', 'iris.names', 'irisb.data'], 6, ['iris.data', 'iris.names', 'irisb.data'], 3)\n"
          ]
        }
      ]
    },
    {
      "cell_type": "code",
      "source": [
        "'toto.data'.endswith(('.data', '.jpg'))"
      ],
      "metadata": {
        "colab": {
          "base_uri": "https://localhost:8080/"
        },
        "id": "lWWFPvyR9j6q",
        "outputId": "087479d8-3ada-4ad9-ffb3-a57765650f1e"
      },
      "execution_count": 23,
      "outputs": [
        {
          "output_type": "execute_result",
          "data": {
            "text/plain": [
              "True"
            ]
          },
          "metadata": {},
          "execution_count": 23
        }
      ]
    },
    {
      "cell_type": "code",
      "source": [
        "import glob2\n",
        "\n",
        "glob2.glob('/content/drive/MyDrive/Colab Notebooks/*.ipynb')"
      ],
      "metadata": {
        "id": "ngVVxIOzta1i",
        "colab": {
          "base_uri": "https://localhost:8080/"
        },
        "outputId": "416deec9-c28a-48c8-8376-12cff128f7eb"
      },
      "execution_count": 38,
      "outputs": [
        {
          "output_type": "execute_result",
          "data": {
            "text/plain": [
              "['/content/drive/MyDrive/Colab Notebooks/first_steps (1).ipynb',\n",
              " '/content/drive/MyDrive/Colab Notebooks/first_steps.ipynb',\n",
              " '/content/drive/MyDrive/Colab Notebooks/Binary_Classification_Bank.ipynb',\n",
              " '/content/drive/MyDrive/Colab Notebooks/ANN_TensorFlow_MNIST.ipynb',\n",
              " '/content/drive/MyDrive/Colab Notebooks/Step2_ML_python.ipynb',\n",
              " '/content/drive/MyDrive/Colab Notebooks/Step1_ML_python.ipynb',\n",
              " '/content/drive/MyDrive/Colab Notebooks/excel.ipynb',\n",
              " '/content/drive/MyDrive/Colab Notebooks/Step3_ML_python.ipynb']"
            ]
          },
          "metadata": {},
          "execution_count": 38
        }
      ]
    },
    {
      "cell_type": "code",
      "source": [
        "my_files = []\n",
        "my_extensions = ['*.data', '*.names']\n",
        "\n",
        "for element in my_extensions:\n",
        "  extension_files = glob2.glob(os.path.join('/content/drive/MyDrive/DSTI/', element));\n",
        "  my_files = my_files + extension_files;\n",
        "\n",
        "print(my_files);"
      ],
      "metadata": {
        "colab": {
          "base_uri": "https://localhost:8080/"
        },
        "id": "bz1NQCvxEG1d",
        "outputId": "60017519-b557-42f7-cf92-a8f0d65683c3"
      },
      "execution_count": 43,
      "outputs": [
        {
          "output_type": "stream",
          "name": "stdout",
          "text": [
            "['/content/drive/MyDrive/DSTI/iris.data', '/content/drive/MyDrive/DSTI/irisb.data', '/content/drive/MyDrive/DSTI/iris.names']\n"
          ]
        }
      ]
    },
    {
      "cell_type": "code",
      "source": [
        "import itertools\n",
        "\n",
        "def list_from_glob(pPath, pListOfExtensions):\n",
        "  all_files = [glob2.glob(os.path.join(pPath, element)) for element in pListOfExtensions]\n",
        "  return list(itertools.chain(*all_files));\n",
        "\n",
        "print(list_from_glob('/content/drive/MyDrive/DSTI/', ['*.data', '*.names']));"
      ],
      "metadata": {
        "colab": {
          "base_uri": "https://localhost:8080/"
        },
        "id": "qkjBVngRGxmw",
        "outputId": "4b678b01-d891-4807-8d6a-3b8f6548a00e"
      },
      "execution_count": 47,
      "outputs": [
        {
          "output_type": "stream",
          "name": "stdout",
          "text": [
            "['/content/drive/MyDrive/DSTI/iris.data', '/content/drive/MyDrive/DSTI/irisb.data', '/content/drive/MyDrive/DSTI/iris.names']\n"
          ]
        }
      ]
    }
  ]
}
