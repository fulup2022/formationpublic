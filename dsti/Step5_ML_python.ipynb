{
  "nbformat": 4,
  "nbformat_minor": 0,
  "metadata": {
    "colab": {
      "provenance": [],
      "collapsed_sections": [],
      "authorship_tag": "ABX9TyNz4VT0KvWG+uBl/z7XES1I",
      "include_colab_link": true
    },
    "kernelspec": {
      "name": "python3",
      "display_name": "Python 3"
    },
    "language_info": {
      "name": "python"
    }
  },
  "cells": [
    {
      "cell_type": "markdown",
      "metadata": {
        "id": "view-in-github",
        "colab_type": "text"
      },
      "source": [
        "<a href=\"https://colab.research.google.com/github/fulup2022/formationpublic/blob/main/Step5_ML_python.ipynb\" target=\"_parent\"><img src=\"https://colab.research.google.com/assets/colab-badge.svg\" alt=\"Open In Colab\"/></a>"
      ]
    },
    {
      "cell_type": "code",
      "execution_count": null,
      "metadata": {
        "colab": {
          "base_uri": "https://localhost:8080/"
        },
        "id": "sMJJhnchRGZP",
        "outputId": "f405c36d-390f-4c7f-97c8-dc90d54ced67"
      },
      "outputs": [
        {
          "output_type": "stream",
          "name": "stdout",
          "text": [
            "Looking in indexes: https://pypi.org/simple, https://us-python.pkg.dev/colab-wheels/public/simple/\n",
            "Requirement already satisfied: beautifulsoup4 in /usr/local/lib/python3.7/dist-packages (4.6.3)\n"
          ]
        }
      ],
      "source": [
        "!pip install beautifulsoup4"
      ]
    },
    {
      "cell_type": "code",
      "source": [
        "from bs4 import BeautifulSoup"
      ],
      "metadata": {
        "id": "BbK9QgZcRTbx"
      },
      "execution_count": null,
      "outputs": []
    },
    {
      "cell_type": "markdown",
      "source": [
        "BeautifulSoup documentation : [BeautifulSoup](https://beautiful-soup-4.readthedocs.io)"
      ],
      "metadata": {
        "id": "sD1aW76hRhk7"
      }
    },
    {
      "cell_type": "code",
      "source": [
        "import requests\n",
        "\n",
        "url = 'https://realpython.github.io/fake-jobs/';\n",
        "\n",
        "response = requests.get(url);\n",
        "\n",
        "soup = BeautifulSoup(response.content);\n",
        "\n",
        "type(soup)"
      ],
      "metadata": {
        "colab": {
          "base_uri": "https://localhost:8080/"
        },
        "id": "0f0qdFHoVNTd",
        "outputId": "48f9544a-03a8-45d1-e259-a0e1ed7f98fb"
      },
      "execution_count": null,
      "outputs": [
        {
          "output_type": "execute_result",
          "data": {
            "text/plain": [
              "bs4.BeautifulSoup"
            ]
          },
          "metadata": {},
          "execution_count": 35
        }
      ]
    },
    {
      "cell_type": "code",
      "source": [
        "# search all h2\n",
        "list_of_h2 = soup.find_all('h2')"
      ],
      "metadata": {
        "id": "V7w6-e3FXjPo"
      },
      "execution_count": null,
      "outputs": []
    },
    {
      "cell_type": "code",
      "source": [
        "list_of_h2[0]"
      ],
      "metadata": {
        "colab": {
          "base_uri": "https://localhost:8080/"
        },
        "id": "pAhV267tjIXW",
        "outputId": "5749e7b8-22f2-497e-9d52-672f46f47c85"
      },
      "execution_count": null,
      "outputs": [
        {
          "output_type": "execute_result",
          "data": {
            "text/plain": [
              "<h2 class=\"title is-5\">Senior Python Developer</h2>"
            ]
          },
          "metadata": {},
          "execution_count": 37
        }
      ]
    },
    {
      "cell_type": "code",
      "source": [
        "type(list_of_h2[0])"
      ],
      "metadata": {
        "colab": {
          "base_uri": "https://localhost:8080/"
        },
        "id": "wWuihGuXjUGs",
        "outputId": "6b2c6ed4-4278-4b35-fbfe-056feb22c396"
      },
      "execution_count": null,
      "outputs": [
        {
          "output_type": "execute_result",
          "data": {
            "text/plain": [
              "bs4.element.Tag"
            ]
          },
          "metadata": {},
          "execution_count": 39
        }
      ]
    },
    {
      "cell_type": "code",
      "source": [
        "list_of_h2[0].string"
      ],
      "metadata": {
        "colab": {
          "base_uri": "https://localhost:8080/",
          "height": 35
        },
        "id": "3MVqvv92jNOc",
        "outputId": "204cd3f4-17dd-4eab-8ce2-7e213837d9b3"
      },
      "execution_count": null,
      "outputs": [
        {
          "output_type": "execute_result",
          "data": {
            "text/plain": [
              "'Senior Python Developer'"
            ],
            "application/vnd.google.colaboratory.intrinsic+json": {
              "type": "string"
            }
          },
          "metadata": {},
          "execution_count": 38
        }
      ]
    },
    {
      "cell_type": "code",
      "source": [
        "soup.findChild('h2').find_next_sibling()"
      ],
      "metadata": {
        "colab": {
          "base_uri": "https://localhost:8080/"
        },
        "id": "kgBwNzFciDjz",
        "outputId": "c92f0312-c857-4616-f7a6-704a7c14a660"
      },
      "execution_count": null,
      "outputs": [
        {
          "output_type": "execute_result",
          "data": {
            "text/plain": [
              "<h3 class=\"subtitle is-6 company\">Payne, Roberts and Davis</h3>"
            ]
          },
          "metadata": {},
          "execution_count": 96
        }
      ]
    },
    {
      "cell_type": "code",
      "source": [
        "soup.findChild('h2').findChild()"
      ],
      "metadata": {
        "id": "-0bQtiFLEWGN"
      },
      "execution_count": null,
      "outputs": []
    },
    {
      "cell_type": "code",
      "source": [
        "import requests\n",
        "\n",
        "def read_in_website(url):\n",
        "  response = requests.get(url, headers = {'User-Agent':'Mozilla/5.0 (Windows NT 6.3; Win64; x64) AppleWebKit/537.36 (KHTML, like Gecko) Chrome/54.0.2840.71 Safari/537.36'});\n",
        "  return BeautifulSoup(response.text);"
      ],
      "metadata": {
        "id": "pK9XNoQQjChs"
      },
      "execution_count": null,
      "outputs": []
    },
    {
      "cell_type": "code",
      "source": [
        "website_content = read_in_website(url);\n",
        "\n",
        "all_tags = website_content.find_all();\n",
        "\n",
        "my_dict = {};\n",
        "\n",
        "for element in all_tags:\n",
        "  if(element.name not in my_dict):\n",
        "    my_dict[element.name] = [];\n",
        "  my_dict[element.name].append(element.string);\n",
        "\n",
        "for tag in my_dict:\n",
        "  print(tag + ' - ' + str(len(my_dict[tag])))"
      ],
      "metadata": {
        "colab": {
          "base_uri": "https://localhost:8080/"
        },
        "id": "DU3lPiuIl_ec",
        "outputId": "d1a45a7e-7874-40df-b23b-054aec6ace9c"
      },
      "execution_count": null,
      "outputs": [
        {
          "output_type": "stream",
          "name": "stdout",
          "text": [
            "html - 1\n",
            "head - 1\n",
            "meta - 2\n",
            "title - 1\n",
            "link - 1\n",
            "body - 1\n",
            "section - 1\n",
            "div - 703\n",
            "h1 - 1\n",
            "p - 201\n",
            "figure - 100\n",
            "img - 100\n",
            "h2 - 100\n",
            "h3 - 100\n",
            "time - 100\n",
            "footer - 100\n",
            "a - 200\n"
          ]
        }
      ]
    },
    {
      "cell_type": "code",
      "source": [
        "all_h2_string = [element.string for element in website_content.find_all('h2')];\n",
        "all_h3_string = [element.string for element in website_content.find_all('h3')];\n",
        "\n",
        "my_dict_bis = {};\n",
        "\n",
        "for i in range(len(all_h2_string)):\n",
        "  my_dict_bis[all_h2_string[i] + '_' + str(i)] = all_h3_string[i];\n",
        "\n",
        "print(my_dict_bis);"
      ],
      "metadata": {
        "colab": {
          "base_uri": "https://localhost:8080/"
        },
        "id": "66ErldK_PKWh",
        "outputId": "9edb9597-9fed-4222-8e0c-98db3fae6817"
      },
      "execution_count": null,
      "outputs": [
        {
          "output_type": "stream",
          "name": "stdout",
          "text": [
            "{'Senior Python Developer_0': 'Payne, Roberts and Davis', 'Energy engineer_1': 'Vasquez-Davidson', 'Legal executive_2': 'Jackson, Chambers and Levy', 'Fitness centre manager_3': 'Savage-Bradley', 'Product manager_4': 'Ramirez Inc', 'Medical technical officer_5': 'Rogers-Yates', 'Physiological scientist_6': 'Kramer-Klein', 'Textile designer_7': 'Meyers-Johnson', 'Television floor manager_8': 'Hughes-Williams', 'Waste management officer_9': 'Jones, Williams and Villa', 'Software Engineer (Python)_10': 'Garcia PLC', 'Interpreter_11': 'Gregory and Sons', 'Architect_12': 'Clark, Garcia and Sosa', 'Meteorologist_13': 'Bush PLC', 'Audiological scientist_14': 'Salazar-Meyers', 'English as a second language teacher_15': 'Parker, Murphy and Brooks', 'Surgeon_16': 'Cruz-Brown', 'Equities trader_17': 'Macdonald-Ferguson', 'Newspaper journalist_18': 'Williams, Peterson and Rojas', 'Materials engineer_19': 'Smith and Sons', 'Python Programmer (Entry-Level)_20': 'Moss, Duncan and Allen', 'Product/process development scientist_21': 'Gomez-Carroll', 'Scientist, research (maths)_22': 'Manning, Welch and Herring', 'Ecologist_23': 'Lee, Gutierrez and Brown', 'Materials engineer_24': 'Davis, Serrano and Cook', 'Historic buildings inspector/conservation officer_25': 'Smith LLC', 'Data scientist_26': 'Thomas Group', 'Psychiatrist_27': 'Silva-King', 'Structural engineer_28': 'Pierce-Long', 'Immigration officer_29': 'Walker-Simpson', 'Python Programmer (Entry-Level)_30': 'Cooper and Sons', 'Neurosurgeon_31': 'Donovan, Gonzalez and Figueroa', 'Broadcast engineer_32': 'Morgan, Butler and Bennett', 'Make_33': 'Snyder-Lee', 'Nurse, adult_34': 'Harris PLC', 'Air broker_35': 'Washington PLC', 'Editor, film/video_36': 'Brown, Price and Campbell', 'Production assistant, radio_37': 'Mcgee PLC', 'Engineer, communications_38': 'Dixon Inc', 'Sales executive_39': 'Thompson, Sheppard and Ward', 'Software Developer (Python)_40': 'Adams-Brewer', 'Futures trader_41': 'Schneider-Brady', 'Tour manager_42': 'Gonzales-Frank', 'Cytogeneticist_43': 'Smith-Wong', 'Designer, multimedia_44': 'Pierce-Herrera', 'Trade union research officer_45': 'Aguilar, Rivera and Quinn', 'Chemist, analytical_46': 'Lowe, Barnes and Thomas', 'Programmer, multimedia_47': 'Lewis, Gonzalez and Vasquez', 'Engineer, broadcasting (operations)_48': 'Taylor PLC', 'Teacher, primary school_49': 'Oliver, Jones and Ramirez', 'Python Developer_50': 'Rivera and Sons', 'Manufacturing systems engineer_51': 'Garcia PLC', 'Producer, television/film/video_52': 'Johnson, Wells and Kramer', 'Scientist, forensic_53': 'Gonzalez LLC', 'Bonds trader_54': 'Morgan, White and Macdonald', 'Editorial assistant_55': 'Robinson-Fitzpatrick', 'Photographer_56': 'Waters, Wilson and Hoover', 'Retail banker_57': 'Hill LLC', 'Jewellery designer_58': 'Li-Gregory', 'Ophthalmologist_59': 'Fisher, Ryan and Coleman', 'Back-End Web Developer (Python, Django)_60': 'Stewart-Alexander', 'Licensed conveyancer_61': 'Abbott and Sons', 'Futures trader_62': 'Bryant, Santana and Davenport', 'Counselling psychologist_63': 'Smith PLC', 'Insurance underwriter_64': 'Patterson-Singh', 'Engineer, automotive_65': 'Martinez-Berry', 'Producer, radio_66': 'May, Taylor and Fisher', 'Dispensing optician_67': 'Bailey, Owen and Thompson', 'Designer, fashion/clothing_68': 'Vasquez Ltd', 'Chartered loss adjuster_69': 'Leblanc LLC', 'Back-End Web Developer (Python, Django)_70': 'Jackson, Ali and Mckee', 'Forest/woodland manager_71': 'Blankenship, Knight and Powell', 'Clinical cytogeneticist_72': 'Patton, Haynes and Jones', 'Print production planner_73': 'Wood Inc', 'Systems developer_74': 'Collins Group', 'Graphic designer_75': 'Flores-Nelson', 'Writer_76': 'Mitchell, Jones and Olson', 'Field seismologist_77': 'Howard Group', 'Chief Strategy Officer_78': 'Kramer-Edwards', 'Air cabin crew_79': 'Berry-Houston', 'Python Programmer (Entry-Level)_80': 'Mathews Inc', 'Warden/ranger_81': 'Riley-Johnson', 'Sports therapist_82': 'Spencer and Sons', 'Arts development officer_83': 'Camacho-Sanchez', 'Printmaker_84': 'Oliver and Sons', 'Health and safety adviser_85': 'Eaton PLC', 'Manufacturing systems engineer_86': 'Stanley-Frederick', 'Programmer, applications_87': 'Bradley LLC', 'Medical physicist_88': 'Parker, Goodwin and Zavala', 'Media planner_89': 'Kim-Miles', 'Software Developer (Python)_90': 'Moreno-Rodriguez', 'Surveyor, land/geomatics_91': 'Brown-Ortiz', 'Legal executive_92': 'Hartman PLC', 'Librarian, academic_93': 'Brooks Inc', 'Barrister_94': 'Washington-Castillo', 'Museum/gallery exhibitions officer_95': 'Nguyen, Yoder and Petty', 'Radiographer, diagnostic_96': 'Holder LLC', 'Database administrator_97': 'Yates-Ferguson', 'Furniture designer_98': 'Ortega-Lawrence', 'Ship broker_99': 'Fuentes, Walls and Castro'}\n"
          ]
        }
      ]
    },
    {
      "cell_type": "code",
      "source": [
        "[key.split('_')[0] for key in my_dict_bis.keys()]"
      ],
      "metadata": {
        "colab": {
          "base_uri": "https://localhost:8080/"
        },
        "id": "ldPaTM-_RKla",
        "outputId": "50d0a4f6-6dbf-472f-ff72-8d312c558d19"
      },
      "execution_count": null,
      "outputs": [
        {
          "output_type": "execute_result",
          "data": {
            "text/plain": [
              "['Senior Python Developer',\n",
              " 'Energy engineer',\n",
              " 'Legal executive',\n",
              " 'Fitness centre manager',\n",
              " 'Product manager',\n",
              " 'Medical technical officer',\n",
              " 'Physiological scientist',\n",
              " 'Textile designer',\n",
              " 'Television floor manager',\n",
              " 'Waste management officer',\n",
              " 'Software Engineer (Python)',\n",
              " 'Interpreter',\n",
              " 'Architect',\n",
              " 'Meteorologist',\n",
              " 'Audiological scientist',\n",
              " 'English as a second language teacher',\n",
              " 'Surgeon',\n",
              " 'Equities trader',\n",
              " 'Newspaper journalist',\n",
              " 'Materials engineer',\n",
              " 'Python Programmer (Entry-Level)',\n",
              " 'Product/process development scientist',\n",
              " 'Scientist, research (maths)',\n",
              " 'Ecologist',\n",
              " 'Materials engineer',\n",
              " 'Historic buildings inspector/conservation officer',\n",
              " 'Data scientist',\n",
              " 'Psychiatrist',\n",
              " 'Structural engineer',\n",
              " 'Immigration officer',\n",
              " 'Python Programmer (Entry-Level)',\n",
              " 'Neurosurgeon',\n",
              " 'Broadcast engineer',\n",
              " 'Make',\n",
              " 'Nurse, adult',\n",
              " 'Air broker',\n",
              " 'Editor, film/video',\n",
              " 'Production assistant, radio',\n",
              " 'Engineer, communications',\n",
              " 'Sales executive',\n",
              " 'Software Developer (Python)',\n",
              " 'Futures trader',\n",
              " 'Tour manager',\n",
              " 'Cytogeneticist',\n",
              " 'Designer, multimedia',\n",
              " 'Trade union research officer',\n",
              " 'Chemist, analytical',\n",
              " 'Programmer, multimedia',\n",
              " 'Engineer, broadcasting (operations)',\n",
              " 'Teacher, primary school',\n",
              " 'Python Developer',\n",
              " 'Manufacturing systems engineer',\n",
              " 'Producer, television/film/video',\n",
              " 'Scientist, forensic',\n",
              " 'Bonds trader',\n",
              " 'Editorial assistant',\n",
              " 'Photographer',\n",
              " 'Retail banker',\n",
              " 'Jewellery designer',\n",
              " 'Ophthalmologist',\n",
              " 'Back-End Web Developer (Python, Django)',\n",
              " 'Licensed conveyancer',\n",
              " 'Futures trader',\n",
              " 'Counselling psychologist',\n",
              " 'Insurance underwriter',\n",
              " 'Engineer, automotive',\n",
              " 'Producer, radio',\n",
              " 'Dispensing optician',\n",
              " 'Designer, fashion/clothing',\n",
              " 'Chartered loss adjuster',\n",
              " 'Back-End Web Developer (Python, Django)',\n",
              " 'Forest/woodland manager',\n",
              " 'Clinical cytogeneticist',\n",
              " 'Print production planner',\n",
              " 'Systems developer',\n",
              " 'Graphic designer',\n",
              " 'Writer',\n",
              " 'Field seismologist',\n",
              " 'Chief Strategy Officer',\n",
              " 'Air cabin crew',\n",
              " 'Python Programmer (Entry-Level)',\n",
              " 'Warden/ranger',\n",
              " 'Sports therapist',\n",
              " 'Arts development officer',\n",
              " 'Printmaker',\n",
              " 'Health and safety adviser',\n",
              " 'Manufacturing systems engineer',\n",
              " 'Programmer, applications',\n",
              " 'Medical physicist',\n",
              " 'Media planner',\n",
              " 'Software Developer (Python)',\n",
              " 'Surveyor, land/geomatics',\n",
              " 'Legal executive',\n",
              " 'Librarian, academic',\n",
              " 'Barrister',\n",
              " 'Museum/gallery exhibitions officer',\n",
              " 'Radiographer, diagnostic',\n",
              " 'Database administrator',\n",
              " 'Furniture designer',\n",
              " 'Ship broker']"
            ]
          },
          "metadata": {},
          "execution_count": 133
        }
      ]
    },
    {
      "cell_type": "code",
      "source": [
        "all_img_tags = website_content.find_all('img');\n",
        "all_img_sources = [tag['src'] for tag in all_img_tags]\n",
        "all_img_sources_bis = [tag.get('src') for tag in all_img_tags]\n",
        "all_img_alt = [tag['alt'] for tag in all_img_tags]\n",
        "print(all_img_alt)"
      ],
      "metadata": {
        "colab": {
          "base_uri": "https://localhost:8080/"
        },
        "id": "RylaXjaqXjsL",
        "outputId": "0ad9f484-097c-4bc3-ada1-d5a35c0aa07c"
      },
      "execution_count": null,
      "outputs": [
        {
          "output_type": "stream",
          "name": "stdout",
          "text": [
            "['Real Python Logo', 'Real Python Logo', 'Real Python Logo', 'Real Python Logo', 'Real Python Logo', 'Real Python Logo', 'Real Python Logo', 'Real Python Logo', 'Real Python Logo', 'Real Python Logo', 'Real Python Logo', 'Real Python Logo', 'Real Python Logo', 'Real Python Logo', 'Real Python Logo', 'Real Python Logo', 'Real Python Logo', 'Real Python Logo', 'Real Python Logo', 'Real Python Logo', 'Real Python Logo', 'Real Python Logo', 'Real Python Logo', 'Real Python Logo', 'Real Python Logo', 'Real Python Logo', 'Real Python Logo', 'Real Python Logo', 'Real Python Logo', 'Real Python Logo', 'Real Python Logo', 'Real Python Logo', 'Real Python Logo', 'Real Python Logo', 'Real Python Logo', 'Real Python Logo', 'Real Python Logo', 'Real Python Logo', 'Real Python Logo', 'Real Python Logo', 'Real Python Logo', 'Real Python Logo', 'Real Python Logo', 'Real Python Logo', 'Real Python Logo', 'Real Python Logo', 'Real Python Logo', 'Real Python Logo', 'Real Python Logo', 'Real Python Logo', 'Real Python Logo', 'Real Python Logo', 'Real Python Logo', 'Real Python Logo', 'Real Python Logo', 'Real Python Logo', 'Real Python Logo', 'Real Python Logo', 'Real Python Logo', 'Real Python Logo', 'Real Python Logo', 'Real Python Logo', 'Real Python Logo', 'Real Python Logo', 'Real Python Logo', 'Real Python Logo', 'Real Python Logo', 'Real Python Logo', 'Real Python Logo', 'Real Python Logo', 'Real Python Logo', 'Real Python Logo', 'Real Python Logo', 'Real Python Logo', 'Real Python Logo', 'Real Python Logo', 'Real Python Logo', 'Real Python Logo', 'Real Python Logo', 'Real Python Logo', 'Real Python Logo', 'Real Python Logo', 'Real Python Logo', 'Real Python Logo', 'Real Python Logo', 'Real Python Logo', 'Real Python Logo', 'Real Python Logo', 'Real Python Logo', 'Real Python Logo', 'Real Python Logo', 'Real Python Logo', 'Real Python Logo', 'Real Python Logo', 'Real Python Logo', 'Real Python Logo', 'Real Python Logo', 'Real Python Logo', 'Real Python Logo', 'Real Python Logo']\n"
          ]
        }
      ]
    },
    {
      "cell_type": "code",
      "source": [
        "import pandas as pd\n",
        "\n",
        "my_images = {};\n",
        "\n",
        "for i in range(len(all_img_tags)):\n",
        "  my_images['Image ' + str(i)] = [all_img_tags[i].get('alt'), all_img_tags[i].get('src')];\n",
        "\n",
        "dataFrameWithImages = pd.DataFrame(my_images);\n",
        "dataFrameWithImages\n"
      ],
      "metadata": {
        "colab": {
          "base_uri": "https://localhost:8080/",
          "height": 223
        },
        "id": "l6vZlWvKaZcr",
        "outputId": "7eb541df-d2b2-44fb-e194-07ad7dc9f864"
      },
      "execution_count": null,
      "outputs": [
        {
          "output_type": "execute_result",
          "data": {
            "text/plain": [
              "                                             Image 0  \\\n",
              "0                                   Real Python Logo   \n",
              "1  https://files.realpython.com/media/real-python...   \n",
              "\n",
              "                                             Image 1  \\\n",
              "0                                   Real Python Logo   \n",
              "1  https://files.realpython.com/media/real-python...   \n",
              "\n",
              "                                             Image 2  \\\n",
              "0                                   Real Python Logo   \n",
              "1  https://files.realpython.com/media/real-python...   \n",
              "\n",
              "                                             Image 3  \\\n",
              "0                                   Real Python Logo   \n",
              "1  https://files.realpython.com/media/real-python...   \n",
              "\n",
              "                                             Image 4  \\\n",
              "0                                   Real Python Logo   \n",
              "1  https://files.realpython.com/media/real-python...   \n",
              "\n",
              "                                             Image 5  \\\n",
              "0                                   Real Python Logo   \n",
              "1  https://files.realpython.com/media/real-python...   \n",
              "\n",
              "                                             Image 6  \\\n",
              "0                                   Real Python Logo   \n",
              "1  https://files.realpython.com/media/real-python...   \n",
              "\n",
              "                                             Image 7  \\\n",
              "0                                   Real Python Logo   \n",
              "1  https://files.realpython.com/media/real-python...   \n",
              "\n",
              "                                             Image 8  \\\n",
              "0                                   Real Python Logo   \n",
              "1  https://files.realpython.com/media/real-python...   \n",
              "\n",
              "                                             Image 9  ...  \\\n",
              "0                                   Real Python Logo  ...   \n",
              "1  https://files.realpython.com/media/real-python...  ...   \n",
              "\n",
              "                                            Image 90  \\\n",
              "0                                   Real Python Logo   \n",
              "1  https://files.realpython.com/media/real-python...   \n",
              "\n",
              "                                            Image 91  \\\n",
              "0                                   Real Python Logo   \n",
              "1  https://files.realpython.com/media/real-python...   \n",
              "\n",
              "                                            Image 92  \\\n",
              "0                                   Real Python Logo   \n",
              "1  https://files.realpython.com/media/real-python...   \n",
              "\n",
              "                                            Image 93  \\\n",
              "0                                   Real Python Logo   \n",
              "1  https://files.realpython.com/media/real-python...   \n",
              "\n",
              "                                            Image 94  \\\n",
              "0                                   Real Python Logo   \n",
              "1  https://files.realpython.com/media/real-python...   \n",
              "\n",
              "                                            Image 95  \\\n",
              "0                                   Real Python Logo   \n",
              "1  https://files.realpython.com/media/real-python...   \n",
              "\n",
              "                                            Image 96  \\\n",
              "0                                   Real Python Logo   \n",
              "1  https://files.realpython.com/media/real-python...   \n",
              "\n",
              "                                            Image 97  \\\n",
              "0                                   Real Python Logo   \n",
              "1  https://files.realpython.com/media/real-python...   \n",
              "\n",
              "                                            Image 98  \\\n",
              "0                                   Real Python Logo   \n",
              "1  https://files.realpython.com/media/real-python...   \n",
              "\n",
              "                                            Image 99  \n",
              "0                                   Real Python Logo  \n",
              "1  https://files.realpython.com/media/real-python...  \n",
              "\n",
              "[2 rows x 100 columns]"
            ],
            "text/html": [
              "\n",
              "  <div id=\"df-317ce1bf-6d25-4c79-af47-00419089ace6\">\n",
              "    <div class=\"colab-df-container\">\n",
              "      <div>\n",
              "<style scoped>\n",
              "    .dataframe tbody tr th:only-of-type {\n",
              "        vertical-align: middle;\n",
              "    }\n",
              "\n",
              "    .dataframe tbody tr th {\n",
              "        vertical-align: top;\n",
              "    }\n",
              "\n",
              "    .dataframe thead th {\n",
              "        text-align: right;\n",
              "    }\n",
              "</style>\n",
              "<table border=\"1\" class=\"dataframe\">\n",
              "  <thead>\n",
              "    <tr style=\"text-align: right;\">\n",
              "      <th></th>\n",
              "      <th>Image 0</th>\n",
              "      <th>Image 1</th>\n",
              "      <th>Image 2</th>\n",
              "      <th>Image 3</th>\n",
              "      <th>Image 4</th>\n",
              "      <th>Image 5</th>\n",
              "      <th>Image 6</th>\n",
              "      <th>Image 7</th>\n",
              "      <th>Image 8</th>\n",
              "      <th>Image 9</th>\n",
              "      <th>...</th>\n",
              "      <th>Image 90</th>\n",
              "      <th>Image 91</th>\n",
              "      <th>Image 92</th>\n",
              "      <th>Image 93</th>\n",
              "      <th>Image 94</th>\n",
              "      <th>Image 95</th>\n",
              "      <th>Image 96</th>\n",
              "      <th>Image 97</th>\n",
              "      <th>Image 98</th>\n",
              "      <th>Image 99</th>\n",
              "    </tr>\n",
              "  </thead>\n",
              "  <tbody>\n",
              "    <tr>\n",
              "      <th>0</th>\n",
              "      <td>Real Python Logo</td>\n",
              "      <td>Real Python Logo</td>\n",
              "      <td>Real Python Logo</td>\n",
              "      <td>Real Python Logo</td>\n",
              "      <td>Real Python Logo</td>\n",
              "      <td>Real Python Logo</td>\n",
              "      <td>Real Python Logo</td>\n",
              "      <td>Real Python Logo</td>\n",
              "      <td>Real Python Logo</td>\n",
              "      <td>Real Python Logo</td>\n",
              "      <td>...</td>\n",
              "      <td>Real Python Logo</td>\n",
              "      <td>Real Python Logo</td>\n",
              "      <td>Real Python Logo</td>\n",
              "      <td>Real Python Logo</td>\n",
              "      <td>Real Python Logo</td>\n",
              "      <td>Real Python Logo</td>\n",
              "      <td>Real Python Logo</td>\n",
              "      <td>Real Python Logo</td>\n",
              "      <td>Real Python Logo</td>\n",
              "      <td>Real Python Logo</td>\n",
              "    </tr>\n",
              "    <tr>\n",
              "      <th>1</th>\n",
              "      <td>https://files.realpython.com/media/real-python...</td>\n",
              "      <td>https://files.realpython.com/media/real-python...</td>\n",
              "      <td>https://files.realpython.com/media/real-python...</td>\n",
              "      <td>https://files.realpython.com/media/real-python...</td>\n",
              "      <td>https://files.realpython.com/media/real-python...</td>\n",
              "      <td>https://files.realpython.com/media/real-python...</td>\n",
              "      <td>https://files.realpython.com/media/real-python...</td>\n",
              "      <td>https://files.realpython.com/media/real-python...</td>\n",
              "      <td>https://files.realpython.com/media/real-python...</td>\n",
              "      <td>https://files.realpython.com/media/real-python...</td>\n",
              "      <td>...</td>\n",
              "      <td>https://files.realpython.com/media/real-python...</td>\n",
              "      <td>https://files.realpython.com/media/real-python...</td>\n",
              "      <td>https://files.realpython.com/media/real-python...</td>\n",
              "      <td>https://files.realpython.com/media/real-python...</td>\n",
              "      <td>https://files.realpython.com/media/real-python...</td>\n",
              "      <td>https://files.realpython.com/media/real-python...</td>\n",
              "      <td>https://files.realpython.com/media/real-python...</td>\n",
              "      <td>https://files.realpython.com/media/real-python...</td>\n",
              "      <td>https://files.realpython.com/media/real-python...</td>\n",
              "      <td>https://files.realpython.com/media/real-python...</td>\n",
              "    </tr>\n",
              "  </tbody>\n",
              "</table>\n",
              "<p>2 rows × 100 columns</p>\n",
              "</div>\n",
              "      <button class=\"colab-df-convert\" onclick=\"convertToInteractive('df-317ce1bf-6d25-4c79-af47-00419089ace6')\"\n",
              "              title=\"Convert this dataframe to an interactive table.\"\n",
              "              style=\"display:none;\">\n",
              "        \n",
              "  <svg xmlns=\"http://www.w3.org/2000/svg\" height=\"24px\"viewBox=\"0 0 24 24\"\n",
              "       width=\"24px\">\n",
              "    <path d=\"M0 0h24v24H0V0z\" fill=\"none\"/>\n",
              "    <path d=\"M18.56 5.44l.94 2.06.94-2.06 2.06-.94-2.06-.94-.94-2.06-.94 2.06-2.06.94zm-11 1L8.5 8.5l.94-2.06 2.06-.94-2.06-.94L8.5 2.5l-.94 2.06-2.06.94zm10 10l.94 2.06.94-2.06 2.06-.94-2.06-.94-.94-2.06-.94 2.06-2.06.94z\"/><path d=\"M17.41 7.96l-1.37-1.37c-.4-.4-.92-.59-1.43-.59-.52 0-1.04.2-1.43.59L10.3 9.45l-7.72 7.72c-.78.78-.78 2.05 0 2.83L4 21.41c.39.39.9.59 1.41.59.51 0 1.02-.2 1.41-.59l7.78-7.78 2.81-2.81c.8-.78.8-2.07 0-2.86zM5.41 20L4 18.59l7.72-7.72 1.47 1.35L5.41 20z\"/>\n",
              "  </svg>\n",
              "      </button>\n",
              "      \n",
              "  <style>\n",
              "    .colab-df-container {\n",
              "      display:flex;\n",
              "      flex-wrap:wrap;\n",
              "      gap: 12px;\n",
              "    }\n",
              "\n",
              "    .colab-df-convert {\n",
              "      background-color: #E8F0FE;\n",
              "      border: none;\n",
              "      border-radius: 50%;\n",
              "      cursor: pointer;\n",
              "      display: none;\n",
              "      fill: #1967D2;\n",
              "      height: 32px;\n",
              "      padding: 0 0 0 0;\n",
              "      width: 32px;\n",
              "    }\n",
              "\n",
              "    .colab-df-convert:hover {\n",
              "      background-color: #E2EBFA;\n",
              "      box-shadow: 0px 1px 2px rgba(60, 64, 67, 0.3), 0px 1px 3px 1px rgba(60, 64, 67, 0.15);\n",
              "      fill: #174EA6;\n",
              "    }\n",
              "\n",
              "    [theme=dark] .colab-df-convert {\n",
              "      background-color: #3B4455;\n",
              "      fill: #D2E3FC;\n",
              "    }\n",
              "\n",
              "    [theme=dark] .colab-df-convert:hover {\n",
              "      background-color: #434B5C;\n",
              "      box-shadow: 0px 1px 3px 1px rgba(0, 0, 0, 0.15);\n",
              "      filter: drop-shadow(0px 1px 2px rgba(0, 0, 0, 0.3));\n",
              "      fill: #FFFFFF;\n",
              "    }\n",
              "  </style>\n",
              "\n",
              "      <script>\n",
              "        const buttonEl =\n",
              "          document.querySelector('#df-317ce1bf-6d25-4c79-af47-00419089ace6 button.colab-df-convert');\n",
              "        buttonEl.style.display =\n",
              "          google.colab.kernel.accessAllowed ? 'block' : 'none';\n",
              "\n",
              "        async function convertToInteractive(key) {\n",
              "          const element = document.querySelector('#df-317ce1bf-6d25-4c79-af47-00419089ace6');\n",
              "          const dataTable =\n",
              "            await google.colab.kernel.invokeFunction('convertToInteractive',\n",
              "                                                     [key], {});\n",
              "          if (!dataTable) return;\n",
              "\n",
              "          const docLinkHtml = 'Like what you see? Visit the ' +\n",
              "            '<a target=\"_blank\" href=https://colab.research.google.com/notebooks/data_table.ipynb>data table notebook</a>'\n",
              "            + ' to learn more about interactive tables.';\n",
              "          element.innerHTML = '';\n",
              "          dataTable['output_type'] = 'display_data';\n",
              "          await google.colab.output.renderOutput(dataTable, element);\n",
              "          const docLink = document.createElement('div');\n",
              "          docLink.innerHTML = docLinkHtml;\n",
              "          element.appendChild(docLink);\n",
              "        }\n",
              "      </script>\n",
              "    </div>\n",
              "  </div>\n",
              "  "
            ]
          },
          "metadata": {},
          "execution_count": 162
        }
      ]
    },
    {
      "cell_type": "code",
      "source": [
        "# Create a dictionnary with the keys as columns for the future DataFrame\n",
        "my_images2 = {'link image src' : all_img_sources, 'link image alt' : all_img_alt};\n",
        "\n",
        "dataFrameWithImages2 = pd.DataFrame(my_images2);\n",
        "dataFrameWithImages2\n"
      ],
      "metadata": {
        "colab": {
          "base_uri": "https://localhost:8080/",
          "height": 424
        },
        "id": "g1R36KOxdeI_",
        "outputId": "898c47ab-95cd-41df-9dce-9abaa9c33f62"
      },
      "execution_count": null,
      "outputs": [
        {
          "output_type": "execute_result",
          "data": {
            "text/plain": [
              "                                       link image src    link image alt\n",
              "0   https://files.realpython.com/media/real-python...  Real Python Logo\n",
              "1   https://files.realpython.com/media/real-python...  Real Python Logo\n",
              "2   https://files.realpython.com/media/real-python...  Real Python Logo\n",
              "3   https://files.realpython.com/media/real-python...  Real Python Logo\n",
              "4   https://files.realpython.com/media/real-python...  Real Python Logo\n",
              "..                                                ...               ...\n",
              "95  https://files.realpython.com/media/real-python...  Real Python Logo\n",
              "96  https://files.realpython.com/media/real-python...  Real Python Logo\n",
              "97  https://files.realpython.com/media/real-python...  Real Python Logo\n",
              "98  https://files.realpython.com/media/real-python...  Real Python Logo\n",
              "99  https://files.realpython.com/media/real-python...  Real Python Logo\n",
              "\n",
              "[100 rows x 2 columns]"
            ],
            "text/html": [
              "\n",
              "  <div id=\"df-ed1b1cf6-7455-4dfe-b08c-900c77c885e2\">\n",
              "    <div class=\"colab-df-container\">\n",
              "      <div>\n",
              "<style scoped>\n",
              "    .dataframe tbody tr th:only-of-type {\n",
              "        vertical-align: middle;\n",
              "    }\n",
              "\n",
              "    .dataframe tbody tr th {\n",
              "        vertical-align: top;\n",
              "    }\n",
              "\n",
              "    .dataframe thead th {\n",
              "        text-align: right;\n",
              "    }\n",
              "</style>\n",
              "<table border=\"1\" class=\"dataframe\">\n",
              "  <thead>\n",
              "    <tr style=\"text-align: right;\">\n",
              "      <th></th>\n",
              "      <th>link image src</th>\n",
              "      <th>link image alt</th>\n",
              "    </tr>\n",
              "  </thead>\n",
              "  <tbody>\n",
              "    <tr>\n",
              "      <th>0</th>\n",
              "      <td>https://files.realpython.com/media/real-python...</td>\n",
              "      <td>Real Python Logo</td>\n",
              "    </tr>\n",
              "    <tr>\n",
              "      <th>1</th>\n",
              "      <td>https://files.realpython.com/media/real-python...</td>\n",
              "      <td>Real Python Logo</td>\n",
              "    </tr>\n",
              "    <tr>\n",
              "      <th>2</th>\n",
              "      <td>https://files.realpython.com/media/real-python...</td>\n",
              "      <td>Real Python Logo</td>\n",
              "    </tr>\n",
              "    <tr>\n",
              "      <th>3</th>\n",
              "      <td>https://files.realpython.com/media/real-python...</td>\n",
              "      <td>Real Python Logo</td>\n",
              "    </tr>\n",
              "    <tr>\n",
              "      <th>4</th>\n",
              "      <td>https://files.realpython.com/media/real-python...</td>\n",
              "      <td>Real Python Logo</td>\n",
              "    </tr>\n",
              "    <tr>\n",
              "      <th>...</th>\n",
              "      <td>...</td>\n",
              "      <td>...</td>\n",
              "    </tr>\n",
              "    <tr>\n",
              "      <th>95</th>\n",
              "      <td>https://files.realpython.com/media/real-python...</td>\n",
              "      <td>Real Python Logo</td>\n",
              "    </tr>\n",
              "    <tr>\n",
              "      <th>96</th>\n",
              "      <td>https://files.realpython.com/media/real-python...</td>\n",
              "      <td>Real Python Logo</td>\n",
              "    </tr>\n",
              "    <tr>\n",
              "      <th>97</th>\n",
              "      <td>https://files.realpython.com/media/real-python...</td>\n",
              "      <td>Real Python Logo</td>\n",
              "    </tr>\n",
              "    <tr>\n",
              "      <th>98</th>\n",
              "      <td>https://files.realpython.com/media/real-python...</td>\n",
              "      <td>Real Python Logo</td>\n",
              "    </tr>\n",
              "    <tr>\n",
              "      <th>99</th>\n",
              "      <td>https://files.realpython.com/media/real-python...</td>\n",
              "      <td>Real Python Logo</td>\n",
              "    </tr>\n",
              "  </tbody>\n",
              "</table>\n",
              "<p>100 rows × 2 columns</p>\n",
              "</div>\n",
              "      <button class=\"colab-df-convert\" onclick=\"convertToInteractive('df-ed1b1cf6-7455-4dfe-b08c-900c77c885e2')\"\n",
              "              title=\"Convert this dataframe to an interactive table.\"\n",
              "              style=\"display:none;\">\n",
              "        \n",
              "  <svg xmlns=\"http://www.w3.org/2000/svg\" height=\"24px\"viewBox=\"0 0 24 24\"\n",
              "       width=\"24px\">\n",
              "    <path d=\"M0 0h24v24H0V0z\" fill=\"none\"/>\n",
              "    <path d=\"M18.56 5.44l.94 2.06.94-2.06 2.06-.94-2.06-.94-.94-2.06-.94 2.06-2.06.94zm-11 1L8.5 8.5l.94-2.06 2.06-.94-2.06-.94L8.5 2.5l-.94 2.06-2.06.94zm10 10l.94 2.06.94-2.06 2.06-.94-2.06-.94-.94-2.06-.94 2.06-2.06.94z\"/><path d=\"M17.41 7.96l-1.37-1.37c-.4-.4-.92-.59-1.43-.59-.52 0-1.04.2-1.43.59L10.3 9.45l-7.72 7.72c-.78.78-.78 2.05 0 2.83L4 21.41c.39.39.9.59 1.41.59.51 0 1.02-.2 1.41-.59l7.78-7.78 2.81-2.81c.8-.78.8-2.07 0-2.86zM5.41 20L4 18.59l7.72-7.72 1.47 1.35L5.41 20z\"/>\n",
              "  </svg>\n",
              "      </button>\n",
              "      \n",
              "  <style>\n",
              "    .colab-df-container {\n",
              "      display:flex;\n",
              "      flex-wrap:wrap;\n",
              "      gap: 12px;\n",
              "    }\n",
              "\n",
              "    .colab-df-convert {\n",
              "      background-color: #E8F0FE;\n",
              "      border: none;\n",
              "      border-radius: 50%;\n",
              "      cursor: pointer;\n",
              "      display: none;\n",
              "      fill: #1967D2;\n",
              "      height: 32px;\n",
              "      padding: 0 0 0 0;\n",
              "      width: 32px;\n",
              "    }\n",
              "\n",
              "    .colab-df-convert:hover {\n",
              "      background-color: #E2EBFA;\n",
              "      box-shadow: 0px 1px 2px rgba(60, 64, 67, 0.3), 0px 1px 3px 1px rgba(60, 64, 67, 0.15);\n",
              "      fill: #174EA6;\n",
              "    }\n",
              "\n",
              "    [theme=dark] .colab-df-convert {\n",
              "      background-color: #3B4455;\n",
              "      fill: #D2E3FC;\n",
              "    }\n",
              "\n",
              "    [theme=dark] .colab-df-convert:hover {\n",
              "      background-color: #434B5C;\n",
              "      box-shadow: 0px 1px 3px 1px rgba(0, 0, 0, 0.15);\n",
              "      filter: drop-shadow(0px 1px 2px rgba(0, 0, 0, 0.3));\n",
              "      fill: #FFFFFF;\n",
              "    }\n",
              "  </style>\n",
              "\n",
              "      <script>\n",
              "        const buttonEl =\n",
              "          document.querySelector('#df-ed1b1cf6-7455-4dfe-b08c-900c77c885e2 button.colab-df-convert');\n",
              "        buttonEl.style.display =\n",
              "          google.colab.kernel.accessAllowed ? 'block' : 'none';\n",
              "\n",
              "        async function convertToInteractive(key) {\n",
              "          const element = document.querySelector('#df-ed1b1cf6-7455-4dfe-b08c-900c77c885e2');\n",
              "          const dataTable =\n",
              "            await google.colab.kernel.invokeFunction('convertToInteractive',\n",
              "                                                     [key], {});\n",
              "          if (!dataTable) return;\n",
              "\n",
              "          const docLinkHtml = 'Like what you see? Visit the ' +\n",
              "            '<a target=\"_blank\" href=https://colab.research.google.com/notebooks/data_table.ipynb>data table notebook</a>'\n",
              "            + ' to learn more about interactive tables.';\n",
              "          element.innerHTML = '';\n",
              "          dataTable['output_type'] = 'display_data';\n",
              "          await google.colab.output.renderOutput(dataTable, element);\n",
              "          const docLink = document.createElement('div');\n",
              "          docLink.innerHTML = docLinkHtml;\n",
              "          element.appendChild(docLink);\n",
              "        }\n",
              "      </script>\n",
              "    </div>\n",
              "  </div>\n",
              "  "
            ]
          },
          "metadata": {},
          "execution_count": 165
        }
      ]
    },
    {
      "cell_type": "code",
      "source": [
        "dataFrameWithImages.to_csv(\"test.csv\");\n",
        "dataFrameWithImages2.to_csv(\"test2.csv\");"
      ],
      "metadata": {
        "id": "vhigYiSneoji"
      },
      "execution_count": null,
      "outputs": []
    },
    {
      "cell_type": "code",
      "source": [
        "url_apec = 'https://www.apec.fr/candidat/recherche-emploi.html/emploi?motsCles=datascientist&salaireMinimum=20&salaireMaximum=200';\n",
        "\n",
        "apec_content = read_in_website(url_apec);\n",
        "\n",
        "apec_content.find_all('a', href = True)"
      ],
      "metadata": {
        "colab": {
          "base_uri": "https://localhost:8080/"
        },
        "id": "Z-fwAtG9LRzH",
        "outputId": "a0039d0c-28f3-476c-cd07-203cf4e87a8e"
      },
      "execution_count": null,
      "outputs": [
        {
          "output_type": "execute_result",
          "data": {
            "text/plain": [
              "[<a class=\"small-link\" href=\"/infos-legales.html\" target=\"_blank\">informations légales</a>,\n",
              " <a class=\"small-link\" href=\"/infos-legales/infos-cgu.html\" target=\"_blank\">conditions générales d'utilisation</a>,\n",
              " <a class=\"small-link\" href=\"/infos-legales/infos-donnees-personnelles.html\" target=\"_blank\">Politique de protection de données à\n",
              " caractère personnel</a>,\n",
              " <a class=\"small-link\" href=\"/infos-legales/infos-cookies.html\" target=\"_blank\">gestion des cookies</a>,\n",
              " <a aria-label=\"Association Pour l'Emploi des Cadres - Donner de l'élan à votre avenir\" href=\"/\" title=\"Association Pour l'Emploi des Cadres - Donner de l'élan à votre avenir\">\n",
              " <img alt=\"Logo Apec\" data-pagespeed-lazy-src=\"/modules/apec-jahia-module/assets/img/edito/nav/logo-apec.svg\" onerror=\"this.onerror=null;pagespeed.lazyLoadImages.loadIfVisibleAndMaybeBeacon(this);\" onload=\"pagespeed.lazyLoadImages.loadIfVisibleAndMaybeBeacon(this);\" src=\"/pagespeed_static/1.JiBnMqyl6S.gif\" width=\"60\"/>\n",
              " </a>,\n",
              " <a class=\"nav-link nav-link-acceo\" href=\"https://www.acce-o.fr/client/apec\" onclick=\"return (!!xitiTagWrapper.tag &amp;&amp; xitiTagWrapper.tag.click.send({elem:this, name:'accessibilite::acceo', level2: xitiTagWrapper.xtn2, type:'navigation'})) || !xitiTagWrapper.tag;\" target=\"_blank\"></a>,\n",
              " <a aria-label=\"Mon centre\" class=\"nav-link nav-link-centre\" href=\"/mon-centre.html\"><span>Mon centre</span></a>,\n",
              " <a href=\"/candidat.html\">\n",
              " Candidat\n",
              " </a>,\n",
              " <a href=\"/candidat/recherche-emploi.html/emploi\">Rechercher une offre</a>,\n",
              " <a href=\"/candidat/optimiser-votre-candidature.html\">Optimiser votre candidature</a>,\n",
              " <a href=\"/candidat/etre-accompagne-dans-votre-recherche-demploi.html\">Être accompagné dans votre recherche d'emploi</a>,\n",
              " <a href=\"/candidat/faire-le-point--changer-de-voie.html\">Faire le point &amp; Changer de voie</a>,\n",
              " <a href=\"/recruteur.html\">\n",
              " Recruteur\n",
              " </a>,\n",
              " <a href=\"/recruteur/mon-espace/candidapec.html\">Rechercher un profil</a>,\n",
              " <a href=\"/recruteur/recruter.html\">Recruter</a>,\n",
              " <a href=\"/recruteur/attirer-les-candidats.html\">Attirer les candidats</a>,\n",
              " <a href=\"/recruteur/accompagner-levolution-professionnelle.html\">Accompagner l'évolution professionnelle</a>,\n",
              " <a href=\"/candidat/jeunes-diplomes.html\"><span style=\"display: block;\">Objectif 1<sup style=\"text-transform: none;\">er</sup> Emploi</span></a>,\n",
              " <a href=\"/mon-centre.html\">Centres Apec</a>,\n",
              " <a href=\"/nos-evenements.html\">Évènements</a>,\n",
              " <a href=\"/tous-nos-outils.html\">Outils Apec en ligne</a>,\n",
              " <a href=\"/tous-nos-metiers.html\">Fiches métiers cadre</a>,\n",
              " <a href=\"/tendances-emploi-cadre.html\">Tendances emploi cadre</a>,\n",
              " <a href=\"/parcourir-les-emplois.html\">Parcourir les emplois</a>,\n",
              " <a href=\"/parcourir-les-pages-entreprises.html\">Parcourir les pages entreprises</a>,\n",
              " <a class=\"side-nav__button\" href=\"/tous-nos-services/rencontrer-nous.html\" onclick=\"return (!!xitiTagWrapper.tag &amp;&amp; xitiTagWrapper.tag.click.send({elem:this, name:'nous_rencontrer::nous_rencontrer_burger', level2: xitiTagWrapper.xtn2, type:'navigation'})) || !xitiTagWrapper.tag;\">Prenez Rendez-vous</a>,\n",
              " <a href=\"/\" title=\"Association Pour l'Emploi des Cadres - Donner de l'élan à votre avenir\">\n",
              " <img alt=\"Logo Apec\" data-pagespeed-lazy-src=\"/modules/apec-jahia-module/assets/img/edito/nav/logo-apec-footer.svg\" onerror=\"this.onerror=null;pagespeed.lazyLoadImages.loadIfVisibleAndMaybeBeacon(this);\" onload=\"pagespeed.lazyLoadImages.loadIfVisibleAndMaybeBeacon(this);\" src=\"/pagespeed_static/1.JiBnMqyl6S.gif\" width=\"76\"/>\n",
              " </a>,\n",
              " <a aria-label=\"FAQ\" href=\"/toutes-nos-faq.html\" title=\"FAQ\">\n",
              " FAQ</a>,\n",
              " <a aria-label=\"Services de conseil\" href=\"/tous-nos-services.html\" title=\"Services de conseil\">\n",
              " Services de conseil</a>,\n",
              " <a aria-label=\"Conditions générales\" href=\"/infos-legales.html\" title=\"Conditions générales\">\n",
              " Conditions générales</a>,\n",
              " <a aria-label=\"Qui sommes nous ?\" href=\"/qui-sommes-nous.html\" title=\"Qui sommes nous ?\">\n",
              " Qui sommes nous ?</a>,\n",
              " <a aria-label=\"Accessibilité\" href=\"/accessibilite.html\" title=\"Accessibilité\">\n",
              " Accessibilité</a>,\n",
              " <a aria-label=\"Partenariats offres\" href=\"/partenariats-offres-demploi-cadres.html\" title=\"Partenariats offres\">\n",
              " Partenariats offres</a>,\n",
              " <a aria-label=\"Nous rejoindre\" href=\"https://nousrejoindre.apec.fr/\" rel=\"nofollow\" target=\"_blank\" title=\"Nous rejoindre\">\n",
              " Nous rejoindre</a>,\n",
              " <a aria-label=\"Site corporate\" href=\"https://corporate.apec.fr\" rel=\"nofollow\" target=\"_blank\" title=\"Site corporate\">\n",
              " Site corporate</a>,\n",
              " <a aria-label=\"Salons Apec\" href=\"https://salons.apec.fr\" rel=\"nofollow\" target=\"_blank\" title=\"Salons Apec\">\n",
              " Salons Apec</a>,\n",
              " <a class=\"btn btn-primary btn-negative footer__button mb-0\" href=\"/toutes-nos-faq/posez-votre-question.html\" onclick=\"return (!!xitiTagWrapper.tag &amp;&amp; xitiTagWrapper.tag.click.send({elem:this, name:'footer::contactez_nous_faq', level2: '1', type:'navigation'})) || !xitiTagWrapper.tag;\">Contactez-nous</a>,\n",
              " <a href=\"https://fr.linkedin.com/company/apec\" rel=\"noreferrer noopener\" target=\"_blank\" title=\"Linkedin\">\n",
              " <img alt=\"Linkedin\" data-pagespeed-lazy-src=\"/modules/apec-jahia-module/assets/img/edito/social/linkedin-footer.svg\" onerror=\"this.onerror=null;pagespeed.lazyLoadImages.loadIfVisibleAndMaybeBeacon(this);\" onload=\"pagespeed.lazyLoadImages.loadIfVisibleAndMaybeBeacon(this);\" src=\"/pagespeed_static/1.JiBnMqyl6S.gif\"/>\n",
              " </a>,\n",
              " <a href=\"https://twitter.com/Apecfr\" rel=\"noreferrer noopener\" target=\"_blank\" title=\"Twitter\">\n",
              " <img alt=\"Twitter\" data-pagespeed-lazy-src=\"/modules/apec-jahia-module/assets/img/edito/social/twitter-footer.svg\" onerror=\"this.onerror=null;pagespeed.lazyLoadImages.loadIfVisibleAndMaybeBeacon(this);\" onload=\"pagespeed.lazyLoadImages.loadIfVisibleAndMaybeBeacon(this);\" src=\"/pagespeed_static/1.JiBnMqyl6S.gif\"/>\n",
              " </a>,\n",
              " <a href=\"https://fr-fr.facebook.com/apec/\" rel=\"noreferrer noopener\" target=\"_blank\" title=\"Facebook\">\n",
              " <img alt=\"Facebook\" data-pagespeed-lazy-src=\"/modules/apec-jahia-module/assets/img/edito/social/facebook-footer.svg\" onerror=\"this.onerror=null;pagespeed.lazyLoadImages.loadIfVisibleAndMaybeBeacon(this);\" onload=\"pagespeed.lazyLoadImages.loadIfVisibleAndMaybeBeacon(this);\" src=\"/pagespeed_static/1.JiBnMqyl6S.gif\"/>\n",
              " </a>,\n",
              " <a href=\"https://www.instagram.com/apec_officiel/?hl=fr\" target=\"_blank\" title=\"Instagram\">\n",
              " <img alt=\"Instagram\" data-pagespeed-lazy-src=\"/modules/apec-jahia-module/assets/img/edito/social/instagram-footer.svg\" onerror=\"this.onerror=null;pagespeed.lazyLoadImages.loadIfVisibleAndMaybeBeacon(this);\" onload=\"pagespeed.lazyLoadImages.loadIfVisibleAndMaybeBeacon(this);\" src=\"/pagespeed_static/1.JiBnMqyl6S.gif\"/>\n",
              " </a>,\n",
              " <a href=\"https://itunes.apple.com/fr/app/apec-offres-demploi-cadres/id387689033?mt=8\" onclick=\"return (!!xitiTagWrapper.tag &amp;&amp; xitiTagWrapper.tag.click.send({elem:this, name:'applications::redirection_apple_store', level2: '1', type:'navigation'})) || !xitiTagWrapper.tag;\" rel=\"noreferrer noopener\" target=\"_blank\" title=\"Télécharger dans l'App Store\">\n",
              " <img alt=\"Télécharger dans l'App Store\" data-pagespeed-lazy-src=\"/modules/apec-jahia-module/assets/img/edito/appli/xbadge-app-store.png.pagespeed.ic.z-g_Me7lOT.png\" onerror=\"this.onerror=null;pagespeed.lazyLoadImages.loadIfVisibleAndMaybeBeacon(this);\" onload=\"pagespeed.lazyLoadImages.loadIfVisibleAndMaybeBeacon(this);\" src=\"/pagespeed_static/1.JiBnMqyl6S.gif\"/>\n",
              " </a>,\n",
              " <a href=\"https://play.google.com/store/apps/details?id=com.apec.jobboard&amp;hl=fr\" onclick=\"return (!!xitiTagWrapper.tag &amp;&amp; xitiTagWrapper.tag.click.send({elem:this, name:'applications::redirection_google_store', level2: '1', type:'navigation'})) || !xitiTagWrapper.tag;\" rel=\"noreferrer noopener\" target=\"_blank\" title=\"Télécharger dans Google Play\">\n",
              " <img alt=\"Disponible sur Google Play\" data-pagespeed-lazy-src=\"/modules/apec-jahia-module/assets/img/edito/appli/xbadge-google-play.png.pagespeed.ic.cj1DFmnjm3.png\" onerror=\"this.onerror=null;pagespeed.lazyLoadImages.loadIfVisibleAndMaybeBeacon(this);\" onload=\"pagespeed.lazyLoadImages.loadIfVisibleAndMaybeBeacon(this);\" src=\"/pagespeed_static/1.JiBnMqyl6S.gif\"/>\n",
              " </a>]"
            ]
          },
          "metadata": {},
          "execution_count": 47
        }
      ]
    },
    {
      "cell_type": "code",
      "source": [
        "list_of_keywords = ['data', 'engineer', 'scientist'];\n",
        "keywords_parameter = '%20'.join(list_of_keywords);\n",
        "print(keywords_parameter);"
      ],
      "metadata": {
        "colab": {
          "base_uri": "https://localhost:8080/"
        },
        "id": "fdTyEaaAgXi4",
        "outputId": "91a2935d-df93-468e-9a34-09ed37597564"
      },
      "execution_count": null,
      "outputs": [
        {
          "output_type": "stream",
          "name": "stdout",
          "text": [
            "data%20engineer%20scientist\n"
          ]
        }
      ]
    },
    {
      "cell_type": "markdown",
      "source": [
        "###Probleme des sites dynamiques, la page affichée est générée avec du javascript, on doit simuler la navigation avec un navigateur"
      ],
      "metadata": {
        "id": "a8qT-1HcRoNF"
      }
    },
    {
      "cell_type": "code",
      "source": [
        "!pip install selenium"
      ],
      "metadata": {
        "colab": {
          "base_uri": "https://localhost:8080/"
        },
        "id": "CBhkSTRSKyqW",
        "outputId": "1c4ca6b8-7e90-416e-d6fe-113c825221cb"
      },
      "execution_count": 4,
      "outputs": [
        {
          "output_type": "stream",
          "name": "stdout",
          "text": [
            "Looking in indexes: https://pypi.org/simple, https://us-python.pkg.dev/colab-wheels/public/simple/\n",
            "Collecting selenium\n",
            "  Downloading selenium-4.4.3-py3-none-any.whl (985 kB)\n",
            "\u001b[K     |████████████████████████████████| 985 kB 3.9 MB/s \n",
            "\u001b[?25hCollecting trio~=0.17\n",
            "  Downloading trio-0.21.0-py3-none-any.whl (358 kB)\n",
            "\u001b[K     |████████████████████████████████| 358 kB 57.7 MB/s \n",
            "\u001b[?25hRequirement already satisfied: certifi>=2021.10.8 in /usr/local/lib/python3.7/dist-packages (from selenium) (2022.6.15)\n",
            "Collecting trio-websocket~=0.9\n",
            "  Downloading trio_websocket-0.9.2-py3-none-any.whl (16 kB)\n",
            "Collecting urllib3[socks]~=1.26\n",
            "  Downloading urllib3-1.26.12-py2.py3-none-any.whl (140 kB)\n",
            "\u001b[K     |████████████████████████████████| 140 kB 27.3 MB/s \n",
            "\u001b[?25hRequirement already satisfied: attrs>=19.2.0 in /usr/local/lib/python3.7/dist-packages (from trio~=0.17->selenium) (22.1.0)\n",
            "Requirement already satisfied: sortedcontainers in /usr/local/lib/python3.7/dist-packages (from trio~=0.17->selenium) (2.4.0)\n",
            "Collecting outcome\n",
            "  Downloading outcome-1.2.0-py2.py3-none-any.whl (9.7 kB)\n",
            "Collecting async-generator>=1.9\n",
            "  Downloading async_generator-1.10-py3-none-any.whl (18 kB)\n",
            "Collecting sniffio\n",
            "  Downloading sniffio-1.3.0-py3-none-any.whl (10 kB)\n",
            "Requirement already satisfied: idna in /usr/local/lib/python3.7/dist-packages (from trio~=0.17->selenium) (2.10)\n",
            "Collecting wsproto>=0.14\n",
            "  Downloading wsproto-1.2.0-py3-none-any.whl (24 kB)\n",
            "Requirement already satisfied: PySocks!=1.5.7,<2.0,>=1.5.6 in /usr/local/lib/python3.7/dist-packages (from urllib3[socks]~=1.26->selenium) (1.7.1)\n",
            "Collecting h11<1,>=0.9.0\n",
            "  Downloading h11-0.13.0-py3-none-any.whl (58 kB)\n",
            "\u001b[K     |████████████████████████████████| 58 kB 5.4 MB/s \n",
            "\u001b[?25hRequirement already satisfied: typing-extensions in /usr/local/lib/python3.7/dist-packages (from h11<1,>=0.9.0->wsproto>=0.14->trio-websocket~=0.9->selenium) (4.1.1)\n",
            "Installing collected packages: sniffio, outcome, h11, async-generator, wsproto, urllib3, trio, trio-websocket, selenium\n",
            "  Attempting uninstall: urllib3\n",
            "    Found existing installation: urllib3 1.24.3\n",
            "    Uninstalling urllib3-1.24.3:\n",
            "      Successfully uninstalled urllib3-1.24.3\n",
            "\u001b[31mERROR: pip's dependency resolver does not currently take into account all the packages that are installed. This behaviour is the source of the following dependency conflicts.\n",
            "requests 2.23.0 requires urllib3!=1.25.0,!=1.25.1,<1.26,>=1.21.1, but you have urllib3 1.26.12 which is incompatible.\u001b[0m\n",
            "Successfully installed async-generator-1.10 h11-0.13.0 outcome-1.2.0 selenium-4.4.3 sniffio-1.3.0 trio-0.21.0 trio-websocket-0.9.2 urllib3-1.26.12 wsproto-1.2.0\n"
          ]
        }
      ]
    },
    {
      "cell_type": "code",
      "source": [
        "from selenium import webdriver"
      ],
      "metadata": {
        "id": "-cVgI9dwK8dD"
      },
      "execution_count": 5,
      "outputs": []
    },
    {
      "cell_type": "code",
      "source": [
        "!apt-get update"
      ],
      "metadata": {
        "colab": {
          "base_uri": "https://localhost:8080/"
        },
        "id": "CAzPfVLdLeKP",
        "outputId": "a784d0fd-4fb7-45c4-8e76-5e8e05302be5"
      },
      "execution_count": 6,
      "outputs": [
        {
          "output_type": "stream",
          "name": "stdout",
          "text": [
            "\r0% [Working]\r            \rGet:1 https://cloud.r-project.org/bin/linux/ubuntu bionic-cran40/ InRelease [3,626 B]\n",
            "\r0% [Connecting to archive.ubuntu.com] [Connecting to security.ubuntu.com (185.1\r0% [Connecting to archive.ubuntu.com] [Connecting to security.ubuntu.com (185.1\r0% [1 InRelease gpgv 3,626 B] [Connecting to archive.ubuntu.com] [Connecting to\r                                                                               \rIgn:2 https://developer.download.nvidia.com/compute/machine-learning/repos/ubuntu1804/x86_64  InRelease\n",
            "\r0% [1 InRelease gpgv 3,626 B] [Waiting for headers] [Waiting for headers] [Wait\r                                                                               \rHit:3 http://archive.ubuntu.com/ubuntu bionic InRelease\n",
            "Hit:4 https://developer.download.nvidia.com/compute/cuda/repos/ubuntu1804/x86_64  InRelease\n",
            "Hit:5 https://developer.download.nvidia.com/compute/machine-learning/repos/ubuntu1804/x86_64  Release\n",
            "Get:6 http://archive.ubuntu.com/ubuntu bionic-updates InRelease [88.7 kB]\n",
            "Get:7 http://ppa.launchpad.net/c2d4u.team/c2d4u4.0+/ubuntu bionic InRelease [15.9 kB]\n",
            "Get:8 http://security.ubuntu.com/ubuntu bionic-security InRelease [88.7 kB]\n",
            "Get:9 http://archive.ubuntu.com/ubuntu bionic-backports InRelease [74.6 kB]\n",
            "Get:10 https://cloud.r-project.org/bin/linux/ubuntu bionic-cran40/ Packages [91.7 kB]\n",
            "Hit:11 http://ppa.launchpad.net/cran/libgit2/ubuntu bionic InRelease\n",
            "Get:12 http://ppa.launchpad.net/deadsnakes/ppa/ubuntu bionic InRelease [15.9 kB]\n",
            "Hit:13 http://ppa.launchpad.net/graphics-drivers/ppa/ubuntu bionic InRelease\n",
            "Get:15 http://archive.ubuntu.com/ubuntu bionic-updates/restricted amd64 Packages [1,172 kB]\n",
            "Get:16 http://archive.ubuntu.com/ubuntu bionic-updates/main amd64 Packages [3,396 kB]\n",
            "Get:17 http://ppa.launchpad.net/c2d4u.team/c2d4u4.0+/ubuntu bionic/main Sources [2,105 kB]\n",
            "Get:18 http://ppa.launchpad.net/c2d4u.team/c2d4u4.0+/ubuntu bionic/main amd64 Packages [1,079 kB]\n",
            "Get:19 http://security.ubuntu.com/ubuntu bionic-security/universe amd64 Packages [1,540 kB]\n",
            "Get:20 http://security.ubuntu.com/ubuntu bionic-security/main amd64 Packages [2,965 kB]\n",
            "Get:21 http://security.ubuntu.com/ubuntu bionic-security/restricted amd64 Packages [1,131 kB]\n",
            "Get:22 http://ppa.launchpad.net/deadsnakes/ppa/ubuntu bionic/main amd64 Packages [45.2 kB]\n",
            "Fetched 13.8 MB in 6s (2,391 kB/s)\n",
            "Reading package lists... Done\n"
          ]
        }
      ]
    },
    {
      "cell_type": "code",
      "source": [
        "!apt install chromium-chromedriver"
      ],
      "metadata": {
        "colab": {
          "base_uri": "https://localhost:8080/"
        },
        "id": "klTSa2pWLeSm",
        "outputId": "27906ce5-7893-4fc1-a9eb-87b5a3f76e29"
      },
      "execution_count": 7,
      "outputs": [
        {
          "output_type": "stream",
          "name": "stdout",
          "text": [
            "Reading package lists... Done\n",
            "Building dependency tree       \n",
            "Reading state information... Done\n",
            "The following package was automatically installed and is no longer required:\n",
            "  libnvidia-common-460\n",
            "Use 'apt autoremove' to remove it.\n",
            "The following additional packages will be installed:\n",
            "  chromium-browser chromium-browser-l10n chromium-codecs-ffmpeg-extra\n",
            "Suggested packages:\n",
            "  webaccounts-chromium-extension unity-chromium-extension\n",
            "The following NEW packages will be installed:\n",
            "  chromium-browser chromium-browser-l10n chromium-chromedriver\n",
            "  chromium-codecs-ffmpeg-extra\n",
            "0 upgraded, 4 newly installed, 0 to remove and 47 not upgraded.\n",
            "Need to get 91.4 MB of archives.\n",
            "After this operation, 309 MB of additional disk space will be used.\n",
            "Get:1 http://archive.ubuntu.com/ubuntu bionic-updates/universe amd64 chromium-codecs-ffmpeg-extra amd64 104.0.5112.101-0ubuntu0.18.04.1 [1,162 kB]\n",
            "Get:2 http://archive.ubuntu.com/ubuntu bionic-updates/universe amd64 chromium-browser amd64 104.0.5112.101-0ubuntu0.18.04.1 [79.9 MB]\n",
            "Get:3 http://archive.ubuntu.com/ubuntu bionic-updates/universe amd64 chromium-browser-l10n all 104.0.5112.101-0ubuntu0.18.04.1 [5,081 kB]\n",
            "Get:4 http://archive.ubuntu.com/ubuntu bionic-updates/universe amd64 chromium-chromedriver amd64 104.0.5112.101-0ubuntu0.18.04.1 [5,273 kB]\n",
            "Fetched 91.4 MB in 2s (44.7 MB/s)\n",
            "Selecting previously unselected package chromium-codecs-ffmpeg-extra.\n",
            "(Reading database ... 155685 files and directories currently installed.)\n",
            "Preparing to unpack .../chromium-codecs-ffmpeg-extra_104.0.5112.101-0ubuntu0.18.04.1_amd64.deb ...\n",
            "Unpacking chromium-codecs-ffmpeg-extra (104.0.5112.101-0ubuntu0.18.04.1) ...\n",
            "Selecting previously unselected package chromium-browser.\n",
            "Preparing to unpack .../chromium-browser_104.0.5112.101-0ubuntu0.18.04.1_amd64.deb ...\n",
            "Unpacking chromium-browser (104.0.5112.101-0ubuntu0.18.04.1) ...\n",
            "Selecting previously unselected package chromium-browser-l10n.\n",
            "Preparing to unpack .../chromium-browser-l10n_104.0.5112.101-0ubuntu0.18.04.1_all.deb ...\n",
            "Unpacking chromium-browser-l10n (104.0.5112.101-0ubuntu0.18.04.1) ...\n",
            "Selecting previously unselected package chromium-chromedriver.\n",
            "Preparing to unpack .../chromium-chromedriver_104.0.5112.101-0ubuntu0.18.04.1_amd64.deb ...\n",
            "Unpacking chromium-chromedriver (104.0.5112.101-0ubuntu0.18.04.1) ...\n",
            "Setting up chromium-codecs-ffmpeg-extra (104.0.5112.101-0ubuntu0.18.04.1) ...\n",
            "Setting up chromium-browser (104.0.5112.101-0ubuntu0.18.04.1) ...\n",
            "update-alternatives: using /usr/bin/chromium-browser to provide /usr/bin/x-www-browser (x-www-browser) in auto mode\n",
            "update-alternatives: using /usr/bin/chromium-browser to provide /usr/bin/gnome-www-browser (gnome-www-browser) in auto mode\n",
            "Setting up chromium-chromedriver (104.0.5112.101-0ubuntu0.18.04.1) ...\n",
            "Setting up chromium-browser-l10n (104.0.5112.101-0ubuntu0.18.04.1) ...\n",
            "Processing triggers for man-db (2.8.3-2ubuntu0.1) ...\n",
            "Processing triggers for hicolor-icon-theme (0.17-2) ...\n",
            "Processing triggers for mime-support (3.60ubuntu1) ...\n",
            "Processing triggers for libc-bin (2.27-3ubuntu1.5) ...\n"
          ]
        }
      ]
    },
    {
      "cell_type": "code",
      "source": [
        "!cp /usr/lib/chromium-browser/chromedriver /usr/bin"
      ],
      "metadata": {
        "colab": {
          "base_uri": "https://localhost:8080/"
        },
        "id": "meNhtgcoL3Ml",
        "outputId": "b0abf35c-88e0-4440-c374-f15ecc25b8d3"
      },
      "execution_count": null,
      "outputs": [
        {
          "output_type": "stream",
          "name": "stdout",
          "text": [
            "cp: '/usr/lib/chromium-browser/chromedriver' and '/usr/bin/chromedriver' are the same file\n"
          ]
        }
      ]
    },
    {
      "cell_type": "code",
      "source": [
        "import sys\n",
        "sys.path.insert(0,'/usr/lib/chromium-browser/chromedriver')"
      ],
      "metadata": {
        "id": "Iu1JSvQoL79E"
      },
      "execution_count": 8,
      "outputs": []
    },
    {
      "cell_type": "code",
      "source": [
        "from selenium.webdriver.common.by import By"
      ],
      "metadata": {
        "id": "MMy9aEXsLIxg"
      },
      "execution_count": 9,
      "outputs": []
    },
    {
      "cell_type": "code",
      "source": [
        "chrome_options = webdriver.ChromeOptions()\n",
        "chrome_options.add_argument('--headless')\n",
        "chrome_options.add_argument('--no-sandbox')\n",
        "chrome_options.add_argument('--disable-dev-shm-usage')\n",
        "wd = webdriver.Chrome('chromedriver',options=chrome_options)"
      ],
      "metadata": {
        "id": "8VVto6pdLAl3"
      },
      "execution_count": 100,
      "outputs": []
    },
    {
      "cell_type": "code",
      "source": [
        "wd.get(\"https://www.apec.fr/candidat/recherche-emploi.html/emploi?motsCles=data%20scientist&page=1\")"
      ],
      "metadata": {
        "id": "SMgA3uX3MSV5"
      },
      "execution_count": 107,
      "outputs": []
    },
    {
      "cell_type": "code",
      "source": [
        "h2_elements = wd.find_elements(by = By.TAG_NAME, value = 'h2')"
      ],
      "metadata": {
        "id": "oG5IfjKeMYj8"
      },
      "execution_count": 108,
      "outputs": []
    },
    {
      "cell_type": "code",
      "source": [
        "h2_elements"
      ],
      "metadata": {
        "colab": {
          "base_uri": "https://localhost:8080/"
        },
        "id": "Hi9yAndoNG6D",
        "outputId": "00ee347c-d033-4a98-c40c-d406a70de676"
      },
      "execution_count": 109,
      "outputs": [
        {
          "output_type": "execute_result",
          "data": {
            "text/plain": [
              "[<selenium.webdriver.remote.webelement.WebElement (session=\"17dff9b1ef835e60441977b8957c16d6\", element=\"900811ab-e537-4397-a283-2a7ef8f77b79\")>,\n",
              " <selenium.webdriver.remote.webelement.WebElement (session=\"17dff9b1ef835e60441977b8957c16d6\", element=\"394224e4-53d4-43b1-9746-f5d2b5bda1a8\")>,\n",
              " <selenium.webdriver.remote.webelement.WebElement (session=\"17dff9b1ef835e60441977b8957c16d6\", element=\"64a8d6e8-7137-47db-948e-77f170bc4ed4\")>,\n",
              " <selenium.webdriver.remote.webelement.WebElement (session=\"17dff9b1ef835e60441977b8957c16d6\", element=\"e41b4f89-6faa-4993-9b0e-02bbb04ef017\")>,\n",
              " <selenium.webdriver.remote.webelement.WebElement (session=\"17dff9b1ef835e60441977b8957c16d6\", element=\"1785e593-1e8c-46ec-b116-3d4ce264165e\")>,\n",
              " <selenium.webdriver.remote.webelement.WebElement (session=\"17dff9b1ef835e60441977b8957c16d6\", element=\"adedd080-0449-4e6d-b932-67ba79ac0ea4\")>,\n",
              " <selenium.webdriver.remote.webelement.WebElement (session=\"17dff9b1ef835e60441977b8957c16d6\", element=\"d483bb74-bab8-4ccc-845a-8c0fe9ccc307\")>,\n",
              " <selenium.webdriver.remote.webelement.WebElement (session=\"17dff9b1ef835e60441977b8957c16d6\", element=\"44c92902-5dba-4f17-9171-8f9941e50789\")>,\n",
              " <selenium.webdriver.remote.webelement.WebElement (session=\"17dff9b1ef835e60441977b8957c16d6\", element=\"46f571a6-ab98-46c4-a7d1-42a4a74cf929\")>,\n",
              " <selenium.webdriver.remote.webelement.WebElement (session=\"17dff9b1ef835e60441977b8957c16d6\", element=\"204d80d9-1f72-4845-bec8-9c15c616ac58\")>,\n",
              " <selenium.webdriver.remote.webelement.WebElement (session=\"17dff9b1ef835e60441977b8957c16d6\", element=\"625a265a-3c74-45d4-abac-1eae742fa263\")>,\n",
              " <selenium.webdriver.remote.webelement.WebElement (session=\"17dff9b1ef835e60441977b8957c16d6\", element=\"12d3c726-f311-441d-90b9-7c178674b6db\")>,\n",
              " <selenium.webdriver.remote.webelement.WebElement (session=\"17dff9b1ef835e60441977b8957c16d6\", element=\"9a423b3c-cf37-4676-827c-d3d0c191122c\")>,\n",
              " <selenium.webdriver.remote.webelement.WebElement (session=\"17dff9b1ef835e60441977b8957c16d6\", element=\"5436281c-983d-46e6-b9c7-2f8904e83c6f\")>,\n",
              " <selenium.webdriver.remote.webelement.WebElement (session=\"17dff9b1ef835e60441977b8957c16d6\", element=\"b5e80555-d4ba-494f-b18f-29aa52aff324\")>,\n",
              " <selenium.webdriver.remote.webelement.WebElement (session=\"17dff9b1ef835e60441977b8957c16d6\", element=\"c05f2a68-1105-40a4-b8d2-6df556907675\")>,\n",
              " <selenium.webdriver.remote.webelement.WebElement (session=\"17dff9b1ef835e60441977b8957c16d6\", element=\"74b3d489-d4ed-4841-a85e-879dd6bfd3da\")>,\n",
              " <selenium.webdriver.remote.webelement.WebElement (session=\"17dff9b1ef835e60441977b8957c16d6\", element=\"290366e9-f019-4e31-b633-1954ccedb76f\")>,\n",
              " <selenium.webdriver.remote.webelement.WebElement (session=\"17dff9b1ef835e60441977b8957c16d6\", element=\"f6c76269-1dc8-46f2-89d1-da4b5062b062\")>,\n",
              " <selenium.webdriver.remote.webelement.WebElement (session=\"17dff9b1ef835e60441977b8957c16d6\", element=\"ae2028e6-800c-4f8b-b12a-7a43a9a17a3b\")>,\n",
              " <selenium.webdriver.remote.webelement.WebElement (session=\"17dff9b1ef835e60441977b8957c16d6\", element=\"e2468058-bc02-40f0-ab1b-a91b7183c3be\")>,\n",
              " <selenium.webdriver.remote.webelement.WebElement (session=\"17dff9b1ef835e60441977b8957c16d6\", element=\"e4eb928d-8e35-4759-9f1b-e9e795211a3d\")>,\n",
              " <selenium.webdriver.remote.webelement.WebElement (session=\"17dff9b1ef835e60441977b8957c16d6\", element=\"1141fc6b-3737-4405-a1dd-00684cdde66a\")>]"
            ]
          },
          "metadata": {},
          "execution_count": 109
        }
      ]
    },
    {
      "cell_type": "code",
      "source": [
        "[(element.text, element.get_attribute('class')) for element in h2_elements if element.get_attribute('class').startswith('card-title fs-16')]"
      ],
      "metadata": {
        "colab": {
          "base_uri": "https://localhost:8080/"
        },
        "id": "EAOJJf1wRDKC",
        "outputId": "704193b4-913f-470b-f425-987b7f664370"
      },
      "execution_count": 110,
      "outputs": [
        {
          "output_type": "execute_result",
          "data": {
            "text/plain": [
              "[('Data Scientist F/H', 'card-title fs-16'),\n",
              " ('Data Scientist F/H', 'card-title fs-16'),\n",
              " ('Data Scientist F/H', 'card-title fs-16'),\n",
              " ('DATA SCIENTIST F/H', 'card-title fs-16'),\n",
              " ('Data Scientist F/H', 'card-title fs-16'),\n",
              " ('Data Scientist F/H', 'card-title fs-16'),\n",
              " ('Data Scientist F/H', 'card-title fs-16'),\n",
              " ('Data Scientist F/H', 'card-title fs-16'),\n",
              " ('Data Scientist F/H', 'card-title fs-16'),\n",
              " ('Data Scientist F/H', 'card-title fs-16'),\n",
              " ('Data Scientist F/H', 'card-title fs-16'),\n",
              " ('Data scientist F/H', 'card-title fs-16'),\n",
              " ('DATA SCIENTIST F/H', 'card-title fs-16'),\n",
              " ('Data Scientist F/H', 'card-title fs-16'),\n",
              " ('Data Scientist F/H', 'card-title fs-16'),\n",
              " ('Data Scientist F/H', 'card-title fs-16'),\n",
              " ('Ingénieur Data Scientist/ Data Scientist engineer F/H', 'card-title fs-16'),\n",
              " ('Data Scientist F/H', 'card-title fs-16'),\n",
              " ('Data Scientist F/H', 'card-title fs-16'),\n",
              " ('Data Scientist F/H', 'card-title fs-16')]"
            ]
          },
          "metadata": {},
          "execution_count": 110
        }
      ]
    },
    {
      "cell_type": "code",
      "source": [
        "jobs_elements = wd.find_elements(by = By.CSS_SELECTOR, value = '.card-title.fs-16');\n",
        "[(element.text, element.get_attribute('class')) for element in jobs_elements]"
      ],
      "metadata": {
        "colab": {
          "base_uri": "https://localhost:8080/"
        },
        "id": "skdcQHMEcY8a",
        "outputId": "95541a6e-423b-4b08-cb4a-2dc7fdaca356"
      },
      "execution_count": 111,
      "outputs": [
        {
          "output_type": "execute_result",
          "data": {
            "text/plain": [
              "[('Data Scientist F/H', 'card-title fs-16'),\n",
              " ('Data Scientist F/H', 'card-title fs-16'),\n",
              " ('Data Scientist F/H', 'card-title fs-16'),\n",
              " ('DATA SCIENTIST F/H', 'card-title fs-16'),\n",
              " ('Data Scientist F/H', 'card-title fs-16'),\n",
              " ('Data Scientist F/H', 'card-title fs-16'),\n",
              " ('Data Scientist F/H', 'card-title fs-16'),\n",
              " ('Data Scientist F/H', 'card-title fs-16'),\n",
              " ('Data Scientist F/H', 'card-title fs-16'),\n",
              " ('Data Scientist F/H', 'card-title fs-16'),\n",
              " ('Data Scientist F/H', 'card-title fs-16'),\n",
              " ('Data scientist F/H', 'card-title fs-16'),\n",
              " ('DATA SCIENTIST F/H', 'card-title fs-16'),\n",
              " ('Data Scientist F/H', 'card-title fs-16'),\n",
              " ('Data Scientist F/H', 'card-title fs-16'),\n",
              " ('Data Scientist F/H', 'card-title fs-16'),\n",
              " ('Ingénieur Data Scientist/ Data Scientist engineer F/H', 'card-title fs-16'),\n",
              " ('Data Scientist F/H', 'card-title fs-16'),\n",
              " ('Data Scientist F/H', 'card-title fs-16'),\n",
              " ('Data Scientist F/H', 'card-title fs-16')]"
            ]
          },
          "metadata": {},
          "execution_count": 111
        }
      ]
    },
    {
      "cell_type": "code",
      "source": [
        "companies_list = wd.find_elements(by = By.CSS_SELECTOR, value = '.card-offer__company.mb-10');\n",
        "[(element.text, element.get_attribute('class')) for element in companies_list]"
      ],
      "metadata": {
        "colab": {
          "base_uri": "https://localhost:8080/"
        },
        "id": "BOC-8iJfhOiS",
        "outputId": "82cf33f3-d08c-42f3-c8f6-0ff3eaa24b76"
      },
      "execution_count": 112,
      "outputs": [
        {
          "output_type": "execute_result",
          "data": {
            "text/plain": [
              "[('FULL DATA MANAGEMENT', 'card-offer__company mb-10'),\n",
              " ('TALENTS RH', 'card-offer__company mb-10'),\n",
              " ('ROBERT WALTERS FRANCE', 'card-offer__company mb-10'),\n",
              " ('EXPECTRA', 'card-offer__company mb-10'),\n",
              " ('LMI RECRUTEMENT & ASSOCIÉS', 'card-offer__company mb-10'),\n",
              " ('PREDEXIA', 'card-offer__company mb-10'),\n",
              " ('TELITEM CONSULTING', 'card-offer__company mb-10'),\n",
              " ('TELITEM CONSULTING', 'card-offer__company mb-10'),\n",
              " ('ABOUT U', 'card-offer__company mb-10'),\n",
              " ('RÉSEAU PRIMEVER FRANCE', 'card-offer__company mb-10'),\n",
              " ('DOGFINANCE', 'card-offer__company mb-10'),\n",
              " ('GROUPE DEMETER', 'card-offer__company mb-10'),\n",
              " ('HARRY HOPE', 'card-offer__company mb-10'),\n",
              " ('HELLOWORK', 'card-offer__company mb-10'),\n",
              " ('FED IT', 'card-offer__company mb-10'),\n",
              " ('HELLOWORK', 'card-offer__company mb-10'),\n",
              " ('ISOFT', 'card-offer__company mb-10'),\n",
              " ('TOPORDER', 'card-offer__company mb-10'),\n",
              " ('BRED BANQUE POPULAIRE', 'card-offer__company mb-10'),\n",
              " ('YZEE SERVICES', 'card-offer__company mb-10')]"
            ]
          },
          "metadata": {},
          "execution_count": 112
        }
      ]
    },
    {
      "cell_type": "code",
      "source": [
        "salaries_list = wd.find_elements(by = By.XPATH, value = \"//div[@class='card-offer__text']/ul[@class='details-offer']/li\");\n",
        "[element.text for element in salaries_list]"
      ],
      "metadata": {
        "colab": {
          "base_uri": "https://localhost:8080/"
        },
        "id": "ZAbyTK8UIIDL",
        "outputId": "126dd10c-4152-47ca-daa2-a23b1e2c4061"
      },
      "execution_count": 120,
      "outputs": [
        {
          "output_type": "execute_result",
          "data": {
            "text/plain": [
              "['35 - 45 k€ brut annuel',\n",
              " '45 - 50 k€ brut annuel',\n",
              " '45 - 50 k€ brut annuel',\n",
              " 'A négocier',\n",
              " '38 - 50 k€ brut annuel',\n",
              " 'A négocier',\n",
              " 'A partir de 45 k€ brut annuel',\n",
              " 'A partir de 38 k€ brut annuel',\n",
              " 'A négocier',\n",
              " 'A négocier',\n",
              " 'A négocier',\n",
              " 'A partir de 48 k€ brut annuel',\n",
              " 'A partir de 30 k€ brut annuel',\n",
              " 'A négocier',\n",
              " 'A négocier',\n",
              " '35 - 35 k€ brut annuel',\n",
              " 'A négocier',\n",
              " '45 - 65 k€ brut annuel',\n",
              " 'A négocier',\n",
              " 'A négocier']"
            ]
          },
          "metadata": {},
          "execution_count": 120
        }
      ]
    },
    {
      "cell_type": "code",
      "source": [
        "logos_list = wd.find_elements(by = By.XPATH, value = \"//div[@class='card-offer__logo']/figure/img\");\n",
        "[element.get_attribute('src') for element in logos_list]"
      ],
      "metadata": {
        "colab": {
          "base_uri": "https://localhost:8080/"
        },
        "id": "WL0TKFD7YvZ7",
        "outputId": "73107707-abe3-402f-d4ed-d545b0b09f08"
      },
      "execution_count": 119,
      "outputs": [
        {
          "output_type": "execute_result",
          "data": {
            "text/plain": [
              "['https://www.apec.fr/files/live/mounts/images/media_entreprise/780762/logo_FULL_DATA_MANAGEMENT_780762_1071597.jpg',\n",
              " 'https://www.apec.fr/files/live/mounts/images/media_entreprise/716783/logo_TALENTS_RH_716783_799191.PNG',\n",
              " 'https://www.apec.fr/files/live/mounts/images/media_entreprise/313807/logo_ROBERT_WALTERS_313807.jpg',\n",
              " 'https://www.apec.fr/files/live/mounts/images/media_entreprise/711996/logo_LMI_RECRUTEMENT_ASSOCIES_711996.png',\n",
              " 'https://www.apec.fr/files/live/mounts/images/media_entreprise/800064/logo_PREDEXIA_800064_1172340.png',\n",
              " 'https://www.apec.fr/files/live/mounts/images/media_entreprise/650015/logo_TELITEM_650015_1191809.PNG',\n",
              " 'https://www.apec.fr/files/live/mounts/images/media_entreprise/650015/logo_TELITEM_650015_1191809.PNG',\n",
              " 'https://www.apec.fr/files/live/mounts/images/media_entreprise/777541/logo_GROUPE_DEMETER_777541_1070016.png',\n",
              " 'https://www.apec.fr/files/live/mounts/images/media_entreprise/751496/logo_JOB_PROVIDER_751496_924130.jpg',\n",
              " 'https://www.apec.fr/files/live/mounts/images/media_entreprise/806375/logo_Hellowork_806375_1205852.jpg',\n",
              " 'https://www.apec.fr/files/live/mounts/images/media_entreprise/806375/logo_Hellowork_806375_1205852.jpg',\n",
              " 'https://www.apec.fr/files/live/mounts/images/media_entreprise/714433/logo_ISOFT_714433_752707.png',\n",
              " 'https://www.apec.fr/files/live/mounts/images/media_entreprise/789729/logo_TOPORDER_789729_1227395.jpg',\n",
              " 'https://www.apec.fr/files/live/mounts/images/media_entreprise/302223/logo_BRED_BANQUE_POPULAIRE_302223_1059102.jpg',\n",
              " 'https://www.apec.fr/files/live/mounts/images/media_entreprise/142466/logo_YZEE_-_SERVICES_142466_955106.png']"
            ]
          },
          "metadata": {},
          "execution_count": 119
        }
      ]
    },
    {
      "cell_type": "code",
      "source": [
        "descriptions_list = wd.find_elements(by = By.CSS_SELECTOR, value = '.card-offer__description.mb-15');\n",
        "[element.text for element in descriptions_list]"
      ],
      "metadata": {
        "colab": {
          "base_uri": "https://localhost:8080/"
        },
        "id": "PKVuy7EUub91",
        "outputId": "463a5ab7-f616-42fa-908a-7c5a28e5cfb5"
      },
      "execution_count": 114,
      "outputs": [
        {
          "output_type": "execute_result",
          "data": {
            "text/plain": [
              "['Dans le cadre de notre développement, nous recherchons des profils de Data Scientist pour nos besoins clients. Environnement technique : - Python - R - SQL - NOSQL - Machine Learning - Deep Learning - SAS - Spark Cloud : GCP / AWS / Azure Méthodologie : Agile ...',\n",
              " 'Missions : -Appliquer les statistiques, le machine learning et les approches analytiques pour résoudre les problèmes business -Transformer les volumes de Big Data en informations utiles et exploitables -Traiter la Big Data, avec une certaine expertise dans le domaine de la...',\n",
              " \"Notre client, groupe spécialisé dans l'assurance recherche un Data Scientist H/F pour renforcer l'activité Data & Process Factory. Le poste est basé dans la région de Toulon. Au sein de l'équipe Data & Process Factory, les missions du Data Scientist H/F seront les suivantes :...\",\n",
              " \"Nous recherchons pour le compte de notre client, PME spécialisée en assurance, un DATA SCIENTIST (H/F) Le pôle Data Science est au service des métiers, la team Data les accompagne pour être encore plus performants. Nous renforçons l'équipe pour : - Industrialiser les outils de...\",\n",
              " \"Au sein du Pôle Data, en liaison avec les autres membres de l'équipe (Data Managers, Biostatisticiens, Data Scientists) et les équipes IT (Designers, WEB/IOS Développeurs), vous êtes en charge : - De participer aux opérations de Data Management pour la constitution des bases de...\",\n",
              " 'Nous recherchons un·e Data Scientist avec une première expérience réussie dans le domaine. Accompagné·e par un Data Scientist senior qui le·la « coachera » tout au long de ses missions, il·elle interviendra auprès de nos clients pour : Comprendre le besoin, le traduire en...',\n",
              " \"Pour notre client, nous recherchons un Data Scientist orienté développeur Chatbot. Vos missions : (Y'aura pas de quoi s'ennuyer) Recueillir le besoin métier et proposer la modélisation de l'arbre conversationnel associé.; Réaliser le développement de Chatbot en s'appuyant sur...\",\n",
              " \"Pour notre client, nous recherchons un Data Scientist orienté développeur Chatbot. Vos missions : (Y'aura pas de quoi s'ennuyer) Recueillir le besoin métier et proposer la modélisation de l'arbre conversationnel associé.; Réaliser le développement de Chatbot en s'appuyant sur...\",\n",
              " 'Dans le cadre d’un programme ambitieux de valorisation de l’utilisation des datas dans le groupe, le Chief Data Officer recherche un ou plusieurs data scientists pour rejoindre son équipe de 10 data engineers et data scientists. Les missions Le ou la data scientist pourra...',\n",
              " 'Dans le cadre de notre développement, nous recherchons pour notre siège social situé à AGEN (47), un/e Data Scientist en CDI, temps complet. Rattaché au Service DATA, vous contribuerez à la mise en place de la culture \"Data Driven\" du groupe. Intégrez l\\'équipe d’études d’une...',\n",
              " 'Au sein de la Direction Analyses & Marketing Digital, vous êtes rattaché au Manager Data Science. Vous intervenez dans un environnement international et en collaboration avec une équipe cross-fonctionnelle. Vos missions sont les suivantes : • Développer des scripts SQL optimisés...',\n",
              " 'Nous recherchons plusieurs consultants pour venir renforcer les expertises Data du cabinet. Vous évoluerez sur des périmètres clients divers tels que : Analytics et Data Intelligence ; DataScience et Big Data ; Business intelligence et Data Visualisation ; Méthodes et...',\n",
              " \"En tant que Data Scientist, vos principales missions seront de/d' - Améliorer les moteurs de recherche d'information pour prendre en compte différents attributs : titre, description, caractéristiques du document... - Optimiser des flux de livraison et d'approvisionnement...\",\n",
              " \"Notre client, un établissement financier, filiale d'un grand Groupe du CAC 40. Portée par de belles ambitions de croissance et de développement, cette entreprise recherche un Data Scientist au sein de sa data factory, dans le cadre d'un projet de transformation data à fort...\",\n",
              " 'Au sein de la Direction Analyses & Marketing Digital, vous êtes rattaché au Manager Data Science. Vous intervenez dans un environnement international et en collaboration avec une équipe cross-fonctionnelle. Vos missions sont les suivantes : * Développer des scripts SQL...',\n",
              " \"Nous renforçons l'équipe pour : - Industrialiser les outils de communication (call-bot, mail-bot, chat-bot - Poursuivre le développement pour faciliter la vie des conseillers et des clients. - Optimiser les process internes, de l'extraction des données jusqu'à la mise en...\",\n",
              " 'Nous recrutons dans le cadre de notre croissance un(e) Data Scientist(e) expert(e) dans le domaine de la lutte contre la Fraude. Au sein du pôle Data Science, vous serez en charge des modèles de lutte contre la fraude et des projets de R&D liés à la modélisation des évènements...',\n",
              " 'Dans le cadre de notre développement commercial, nous proposons un CDI dans notre jeune startup en tant que Data Analyst / Scientist H/F ! Tes missions ? - R&D pour le développement de notre IA en DataConso - Construire des algorithmes statistiques et de machine learning afin...',\n",
              " \"Poste et missions A la recherche d'un poste responsabilisant et challengeant au sein d'une banque performante et à taille humaine ? Notre pôle Data Science et Distribution recherche un(e) Data Scientist expérimenté en CDI. Rattaché(e) à la Direction de la Distribution et...\",\n",
              " \"Rattaché au Pôle de la Transformation, et au sein de l'équipe Analytique et Data Science, le Data Scientist aura pour objectif d'analyser et d'exploiter les datas de nos activités?de la relation clients. A ce titre vous intervenez sur les missions suivantes :? - Recueillir,...\"]"
            ]
          },
          "metadata": {},
          "execution_count": 114
        }
      ]
    },
    {
      "cell_type": "code",
      "source": [
        "announces_list = wd.find_elements(by = By.CSS_SELECTOR, value = 'div.card-offer__header');\n",
        "first_announce = announces_list[0].find_element(by = By.CSS_SELECTOR, value = '.card-offer__logo');\n",
        "images = first_announce.find_elements(by = By.TAG_NAME, value = \"img\");\n",
        "images[0].get_attribute('src')\n"
      ],
      "metadata": {
        "colab": {
          "base_uri": "https://localhost:8080/",
          "height": 35
        },
        "id": "eTF0JYjUNBBc",
        "outputId": "447cfd75-f647-40b8-b1e7-603a6f31394f"
      },
      "execution_count": 115,
      "outputs": [
        {
          "output_type": "execute_result",
          "data": {
            "text/plain": [
              "'https://www.apec.fr/files/live/mounts/images/media_entreprise/780762/logo_FULL_DATA_MANAGEMENT_780762_1071597.jpg'"
            ],
            "application/vnd.google.colaboratory.intrinsic+json": {
              "type": "string"
            }
          },
          "metadata": {},
          "execution_count": 115
        }
      ]
    },
    {
      "cell_type": "code",
      "source": [
        "second_announce = announces_list[1].find_element(by = By.CSS_SELECTOR, value = '.card-offer__logo');\n",
        "images_second_announce = second_announce.find_elements(by = By.TAG_NAME, value = \"img\");\n",
        "images_second_announce[0].get_attribute('src')"
      ],
      "metadata": {
        "colab": {
          "base_uri": "https://localhost:8080/",
          "height": 35
        },
        "id": "t1loruL_SxaD",
        "outputId": "a63601df-0d08-4b42-ec49-8346a75403f4"
      },
      "execution_count": 116,
      "outputs": [
        {
          "output_type": "execute_result",
          "data": {
            "text/plain": [
              "'https://www.apec.fr/files/live/mounts/images/media_entreprise/716783/logo_TALENTS_RH_716783_799191.PNG'"
            ],
            "application/vnd.google.colaboratory.intrinsic+json": {
              "type": "string"
            }
          },
          "metadata": {},
          "execution_count": 116
        }
      ]
    },
    {
      "cell_type": "code",
      "source": [
        "list_of_logos = [];\n",
        "for announce in announces_list:\n",
        "  current_announce_image_section = announce.find_element(by = By.CSS_SELECTOR, value = '.card-offer__logo');\n",
        "  images = current_announce_image_section.find_elements(by = By.TAG_NAME, value = \"img\");\n",
        "  if len(images) > 0:\n",
        "    list_of_logos.append(images[0].get_attribute('src'));\n",
        "  else:\n",
        "    list_of_logos.append(None);\n",
        "\n",
        "list_of_logos"
      ],
      "metadata": {
        "colab": {
          "base_uri": "https://localhost:8080/"
        },
        "id": "Z_PF4i9SUDXN",
        "outputId": "321fd5a8-a395-4936-e3dc-7f8c206f3af7"
      },
      "execution_count": 117,
      "outputs": [
        {
          "output_type": "execute_result",
          "data": {
            "text/plain": [
              "['https://www.apec.fr/files/live/mounts/images/media_entreprise/780762/logo_FULL_DATA_MANAGEMENT_780762_1071597.jpg',\n",
              " 'https://www.apec.fr/files/live/mounts/images/media_entreprise/716783/logo_TALENTS_RH_716783_799191.PNG',\n",
              " 'https://www.apec.fr/files/live/mounts/images/media_entreprise/313807/logo_ROBERT_WALTERS_313807.jpg',\n",
              " None,\n",
              " 'https://www.apec.fr/files/live/mounts/images/media_entreprise/711996/logo_LMI_RECRUTEMENT_ASSOCIES_711996.png',\n",
              " 'https://www.apec.fr/files/live/mounts/images/media_entreprise/800064/logo_PREDEXIA_800064_1172340.png',\n",
              " 'https://www.apec.fr/files/live/mounts/images/media_entreprise/650015/logo_TELITEM_650015_1191809.PNG',\n",
              " 'https://www.apec.fr/files/live/mounts/images/media_entreprise/650015/logo_TELITEM_650015_1191809.PNG',\n",
              " None,\n",
              " None,\n",
              " None,\n",
              " 'https://www.apec.fr/files/live/mounts/images/media_entreprise/777541/logo_GROUPE_DEMETER_777541_1070016.png',\n",
              " 'https://www.apec.fr/files/live/mounts/images/media_entreprise/751496/logo_JOB_PROVIDER_751496_924130.jpg',\n",
              " 'https://www.apec.fr/files/live/mounts/images/media_entreprise/806375/logo_Hellowork_806375_1205852.jpg',\n",
              " None,\n",
              " 'https://www.apec.fr/files/live/mounts/images/media_entreprise/806375/logo_Hellowork_806375_1205852.jpg',\n",
              " 'https://www.apec.fr/files/live/mounts/images/media_entreprise/714433/logo_ISOFT_714433_752707.png',\n",
              " 'https://www.apec.fr/files/live/mounts/images/media_entreprise/789729/logo_TOPORDER_789729_1227395.jpg',\n",
              " 'https://www.apec.fr/files/live/mounts/images/media_entreprise/302223/logo_BRED_BANQUE_POPULAIRE_302223_1059102.jpg',\n",
              " 'https://www.apec.fr/files/live/mounts/images/media_entreprise/142466/logo_YZEE_-_SERVICES_142466_955106.png']"
            ]
          },
          "metadata": {},
          "execution_count": 117
        }
      ]
    },
    {
      "cell_type": "code",
      "source": [
        "import pandas as pd;\n",
        "jobsDataFrame = pd.DataFrame({'job_title' : [element.text for element in jobs_elements], 'descripion' : [element.text for element in descriptions_list], 'company' : [element.text for element in companies_list], 'logo' : list_of_logos});"
      ],
      "metadata": {
        "id": "AvB-oozymik0"
      },
      "execution_count": 118,
      "outputs": []
    },
    {
      "cell_type": "code",
      "source": [
        "jobsDataFrame"
      ],
      "metadata": {
        "colab": {
          "base_uri": "https://localhost:8080/",
          "height": 677
        },
        "id": "LZdZ7NGHnRRi",
        "outputId": "c2d24138-8841-447d-acc9-0ae592d0cb73"
      },
      "execution_count": 63,
      "outputs": [
        {
          "output_type": "execute_result",
          "data": {
            "text/plain": [
              "                             job_title  \\\n",
              "0     DATA SCIENTIST/DATA ENGINEER F/H   \n",
              "1               Data scientist NLP F/H   \n",
              "2       Data Scientist Expérimenté F/H   \n",
              "3       Data scientiste & engineer F/H   \n",
              "4            Senior Data Scientist F/H   \n",
              "5          Data Scientist Confirmé F/H   \n",
              "6            Data Scientist Senior F/H   \n",
              "7            Data scientist senior F/H   \n",
              "8            DATA SCIENTIST PYTHON F/H   \n",
              "9            Data Scientist Senior F/H   \n",
              "10           DATA SCIENTIST SENIOR F/H   \n",
              "11       Alternance Data Scientist F/H   \n",
              "12             Lead Data Scientist F/H   \n",
              "13               Data Scientist IG F/H   \n",
              "14      Responsable Data Scientist F/H   \n",
              "15       Actuaire/Data Scientist - F/H   \n",
              "16        Ingénieur Data Scientist F/H   \n",
              "17       Actuaire/Data Scientist - F/H   \n",
              "18           DATA SCIENTIST SENIOR F/H   \n",
              "19  Data Scientist Computer Vision F/H   \n",
              "\n",
              "                                           descripion                 company  \\\n",
              "0   En tant que partenaire stratégique des grands ...         ALTEN SUD OUEST   \n",
              "1   Au sein du Lab d’Aquila, vous travaillerez sur...     AQUILA DATA ENABLER   \n",
              "2   L'action de la direction générale des douanes ...               HELLOWORK   \n",
              "3   Missions : Pour l'un de nos clients grands com...                    ALFI   \n",
              "4   Rattaché au Data Science & Digital Analytics M...            MICHAEL PAGE   \n",
              "5   Rattaché(e) aux membres Lincoln, vous serez am...                 LINCOLN   \n",
              "6   Le contexte de votre poste Le poste est basé à...          PLASTIC OMNIUM   \n",
              "7   L'offre de gouvernance sociale et environnemen...             FACTSET JCF   \n",
              "8   Data Scientists spécialistes en conception d'a...                     D3S   \n",
              "9   Afin d'accompagner cette forte croissance, not...                  NICKEL   \n",
              "10  En bref : faire croquer les cookies à des mill...                   RAKAM   \n",
              "11  C'est pourquoi, dans le cadre du développement...                   MODIS   \n",
              "12  Cabinet de recrutement Tech, la mission d'Exte...               HELLOWORK   \n",
              "13  Les enjeux en termes de data sont très forts e...                     LCL   \n",
              "14  Au sein du Département Amont et Transformation...  DON'T CALL ME JENNYFER   \n",
              "15  Au sein de la Direction Technique de Direct As...                AVANSSUR   \n",
              "16  Notre client SAFRAN HELICOPTER ENGINES recrute...                 IZIWORK   \n",
              "17  Aimeriez-vous vous lever chaque jour motivé(e)...              DOGFINANCE   \n",
              "18  Au sein du pôle AI Data Science, vous êtes en ...           PROOV STATION   \n",
              "19  Pour participer au développement des solutions...   ROBERT WALTERS FRANCE   \n",
              "\n",
              "                                                 logo  \n",
              "0                                                None  \n",
              "1   https://www.apec.fr/files/live/mounts/images/m...  \n",
              "2   https://www.apec.fr/files/live/mounts/images/m...  \n",
              "3                                                None  \n",
              "4   https://www.apec.fr/files/live/mounts/images/m...  \n",
              "5                                                None  \n",
              "6   https://www.apec.fr/files/live/mounts/images/m...  \n",
              "7   https://www.apec.fr/files/live/mounts/images/m...  \n",
              "8   https://www.apec.fr/files/live/mounts/images/m...  \n",
              "9   https://www.apec.fr/files/live/mounts/images/m...  \n",
              "10  https://www.apec.fr/files/live/mounts/images/m...  \n",
              "11  https://www.apec.fr/files/live/mounts/images/m...  \n",
              "12  https://www.apec.fr/files/live/mounts/images/m...  \n",
              "13                                               None  \n",
              "14  https://www.apec.fr/files/live/mounts/images/m...  \n",
              "15                                               None  \n",
              "16  https://www.apec.fr/files/live/mounts/images/m...  \n",
              "17                                               None  \n",
              "18                                               None  \n",
              "19  https://www.apec.fr/files/live/mounts/images/m...  "
            ],
            "text/html": [
              "\n",
              "  <div id=\"df-1eea3815-91b5-46eb-933b-c0ab02b20845\">\n",
              "    <div class=\"colab-df-container\">\n",
              "      <div>\n",
              "<style scoped>\n",
              "    .dataframe tbody tr th:only-of-type {\n",
              "        vertical-align: middle;\n",
              "    }\n",
              "\n",
              "    .dataframe tbody tr th {\n",
              "        vertical-align: top;\n",
              "    }\n",
              "\n",
              "    .dataframe thead th {\n",
              "        text-align: right;\n",
              "    }\n",
              "</style>\n",
              "<table border=\"1\" class=\"dataframe\">\n",
              "  <thead>\n",
              "    <tr style=\"text-align: right;\">\n",
              "      <th></th>\n",
              "      <th>job_title</th>\n",
              "      <th>descripion</th>\n",
              "      <th>company</th>\n",
              "      <th>logo</th>\n",
              "    </tr>\n",
              "  </thead>\n",
              "  <tbody>\n",
              "    <tr>\n",
              "      <th>0</th>\n",
              "      <td>DATA SCIENTIST/DATA ENGINEER F/H</td>\n",
              "      <td>En tant que partenaire stratégique des grands ...</td>\n",
              "      <td>ALTEN SUD OUEST</td>\n",
              "      <td>None</td>\n",
              "    </tr>\n",
              "    <tr>\n",
              "      <th>1</th>\n",
              "      <td>Data scientist NLP F/H</td>\n",
              "      <td>Au sein du Lab d’Aquila, vous travaillerez sur...</td>\n",
              "      <td>AQUILA DATA ENABLER</td>\n",
              "      <td>https://www.apec.fr/files/live/mounts/images/m...</td>\n",
              "    </tr>\n",
              "    <tr>\n",
              "      <th>2</th>\n",
              "      <td>Data Scientist Expérimenté F/H</td>\n",
              "      <td>L'action de la direction générale des douanes ...</td>\n",
              "      <td>HELLOWORK</td>\n",
              "      <td>https://www.apec.fr/files/live/mounts/images/m...</td>\n",
              "    </tr>\n",
              "    <tr>\n",
              "      <th>3</th>\n",
              "      <td>Data scientiste &amp; engineer F/H</td>\n",
              "      <td>Missions : Pour l'un de nos clients grands com...</td>\n",
              "      <td>ALFI</td>\n",
              "      <td>None</td>\n",
              "    </tr>\n",
              "    <tr>\n",
              "      <th>4</th>\n",
              "      <td>Senior Data Scientist F/H</td>\n",
              "      <td>Rattaché au Data Science &amp; Digital Analytics M...</td>\n",
              "      <td>MICHAEL PAGE</td>\n",
              "      <td>https://www.apec.fr/files/live/mounts/images/m...</td>\n",
              "    </tr>\n",
              "    <tr>\n",
              "      <th>5</th>\n",
              "      <td>Data Scientist Confirmé F/H</td>\n",
              "      <td>Rattaché(e) aux membres Lincoln, vous serez am...</td>\n",
              "      <td>LINCOLN</td>\n",
              "      <td>None</td>\n",
              "    </tr>\n",
              "    <tr>\n",
              "      <th>6</th>\n",
              "      <td>Data Scientist Senior F/H</td>\n",
              "      <td>Le contexte de votre poste Le poste est basé à...</td>\n",
              "      <td>PLASTIC OMNIUM</td>\n",
              "      <td>https://www.apec.fr/files/live/mounts/images/m...</td>\n",
              "    </tr>\n",
              "    <tr>\n",
              "      <th>7</th>\n",
              "      <td>Data scientist senior F/H</td>\n",
              "      <td>L'offre de gouvernance sociale et environnemen...</td>\n",
              "      <td>FACTSET JCF</td>\n",
              "      <td>https://www.apec.fr/files/live/mounts/images/m...</td>\n",
              "    </tr>\n",
              "    <tr>\n",
              "      <th>8</th>\n",
              "      <td>DATA SCIENTIST PYTHON F/H</td>\n",
              "      <td>Data Scientists spécialistes en conception d'a...</td>\n",
              "      <td>D3S</td>\n",
              "      <td>https://www.apec.fr/files/live/mounts/images/m...</td>\n",
              "    </tr>\n",
              "    <tr>\n",
              "      <th>9</th>\n",
              "      <td>Data Scientist Senior F/H</td>\n",
              "      <td>Afin d'accompagner cette forte croissance, not...</td>\n",
              "      <td>NICKEL</td>\n",
              "      <td>https://www.apec.fr/files/live/mounts/images/m...</td>\n",
              "    </tr>\n",
              "    <tr>\n",
              "      <th>10</th>\n",
              "      <td>DATA SCIENTIST SENIOR F/H</td>\n",
              "      <td>En bref : faire croquer les cookies à des mill...</td>\n",
              "      <td>RAKAM</td>\n",
              "      <td>https://www.apec.fr/files/live/mounts/images/m...</td>\n",
              "    </tr>\n",
              "    <tr>\n",
              "      <th>11</th>\n",
              "      <td>Alternance Data Scientist F/H</td>\n",
              "      <td>C'est pourquoi, dans le cadre du développement...</td>\n",
              "      <td>MODIS</td>\n",
              "      <td>https://www.apec.fr/files/live/mounts/images/m...</td>\n",
              "    </tr>\n",
              "    <tr>\n",
              "      <th>12</th>\n",
              "      <td>Lead Data Scientist F/H</td>\n",
              "      <td>Cabinet de recrutement Tech, la mission d'Exte...</td>\n",
              "      <td>HELLOWORK</td>\n",
              "      <td>https://www.apec.fr/files/live/mounts/images/m...</td>\n",
              "    </tr>\n",
              "    <tr>\n",
              "      <th>13</th>\n",
              "      <td>Data Scientist IG F/H</td>\n",
              "      <td>Les enjeux en termes de data sont très forts e...</td>\n",
              "      <td>LCL</td>\n",
              "      <td>None</td>\n",
              "    </tr>\n",
              "    <tr>\n",
              "      <th>14</th>\n",
              "      <td>Responsable Data Scientist F/H</td>\n",
              "      <td>Au sein du Département Amont et Transformation...</td>\n",
              "      <td>DON'T CALL ME JENNYFER</td>\n",
              "      <td>https://www.apec.fr/files/live/mounts/images/m...</td>\n",
              "    </tr>\n",
              "    <tr>\n",
              "      <th>15</th>\n",
              "      <td>Actuaire/Data Scientist - F/H</td>\n",
              "      <td>Au sein de la Direction Technique de Direct As...</td>\n",
              "      <td>AVANSSUR</td>\n",
              "      <td>None</td>\n",
              "    </tr>\n",
              "    <tr>\n",
              "      <th>16</th>\n",
              "      <td>Ingénieur Data Scientist F/H</td>\n",
              "      <td>Notre client SAFRAN HELICOPTER ENGINES recrute...</td>\n",
              "      <td>IZIWORK</td>\n",
              "      <td>https://www.apec.fr/files/live/mounts/images/m...</td>\n",
              "    </tr>\n",
              "    <tr>\n",
              "      <th>17</th>\n",
              "      <td>Actuaire/Data Scientist - F/H</td>\n",
              "      <td>Aimeriez-vous vous lever chaque jour motivé(e)...</td>\n",
              "      <td>DOGFINANCE</td>\n",
              "      <td>None</td>\n",
              "    </tr>\n",
              "    <tr>\n",
              "      <th>18</th>\n",
              "      <td>DATA SCIENTIST SENIOR F/H</td>\n",
              "      <td>Au sein du pôle AI Data Science, vous êtes en ...</td>\n",
              "      <td>PROOV STATION</td>\n",
              "      <td>None</td>\n",
              "    </tr>\n",
              "    <tr>\n",
              "      <th>19</th>\n",
              "      <td>Data Scientist Computer Vision F/H</td>\n",
              "      <td>Pour participer au développement des solutions...</td>\n",
              "      <td>ROBERT WALTERS FRANCE</td>\n",
              "      <td>https://www.apec.fr/files/live/mounts/images/m...</td>\n",
              "    </tr>\n",
              "  </tbody>\n",
              "</table>\n",
              "</div>\n",
              "      <button class=\"colab-df-convert\" onclick=\"convertToInteractive('df-1eea3815-91b5-46eb-933b-c0ab02b20845')\"\n",
              "              title=\"Convert this dataframe to an interactive table.\"\n",
              "              style=\"display:none;\">\n",
              "        \n",
              "  <svg xmlns=\"http://www.w3.org/2000/svg\" height=\"24px\"viewBox=\"0 0 24 24\"\n",
              "       width=\"24px\">\n",
              "    <path d=\"M0 0h24v24H0V0z\" fill=\"none\"/>\n",
              "    <path d=\"M18.56 5.44l.94 2.06.94-2.06 2.06-.94-2.06-.94-.94-2.06-.94 2.06-2.06.94zm-11 1L8.5 8.5l.94-2.06 2.06-.94-2.06-.94L8.5 2.5l-.94 2.06-2.06.94zm10 10l.94 2.06.94-2.06 2.06-.94-2.06-.94-.94-2.06-.94 2.06-2.06.94z\"/><path d=\"M17.41 7.96l-1.37-1.37c-.4-.4-.92-.59-1.43-.59-.52 0-1.04.2-1.43.59L10.3 9.45l-7.72 7.72c-.78.78-.78 2.05 0 2.83L4 21.41c.39.39.9.59 1.41.59.51 0 1.02-.2 1.41-.59l7.78-7.78 2.81-2.81c.8-.78.8-2.07 0-2.86zM5.41 20L4 18.59l7.72-7.72 1.47 1.35L5.41 20z\"/>\n",
              "  </svg>\n",
              "      </button>\n",
              "      \n",
              "  <style>\n",
              "    .colab-df-container {\n",
              "      display:flex;\n",
              "      flex-wrap:wrap;\n",
              "      gap: 12px;\n",
              "    }\n",
              "\n",
              "    .colab-df-convert {\n",
              "      background-color: #E8F0FE;\n",
              "      border: none;\n",
              "      border-radius: 50%;\n",
              "      cursor: pointer;\n",
              "      display: none;\n",
              "      fill: #1967D2;\n",
              "      height: 32px;\n",
              "      padding: 0 0 0 0;\n",
              "      width: 32px;\n",
              "    }\n",
              "\n",
              "    .colab-df-convert:hover {\n",
              "      background-color: #E2EBFA;\n",
              "      box-shadow: 0px 1px 2px rgba(60, 64, 67, 0.3), 0px 1px 3px 1px rgba(60, 64, 67, 0.15);\n",
              "      fill: #174EA6;\n",
              "    }\n",
              "\n",
              "    [theme=dark] .colab-df-convert {\n",
              "      background-color: #3B4455;\n",
              "      fill: #D2E3FC;\n",
              "    }\n",
              "\n",
              "    [theme=dark] .colab-df-convert:hover {\n",
              "      background-color: #434B5C;\n",
              "      box-shadow: 0px 1px 3px 1px rgba(0, 0, 0, 0.15);\n",
              "      filter: drop-shadow(0px 1px 2px rgba(0, 0, 0, 0.3));\n",
              "      fill: #FFFFFF;\n",
              "    }\n",
              "  </style>\n",
              "\n",
              "      <script>\n",
              "        const buttonEl =\n",
              "          document.querySelector('#df-1eea3815-91b5-46eb-933b-c0ab02b20845 button.colab-df-convert');\n",
              "        buttonEl.style.display =\n",
              "          google.colab.kernel.accessAllowed ? 'block' : 'none';\n",
              "\n",
              "        async function convertToInteractive(key) {\n",
              "          const element = document.querySelector('#df-1eea3815-91b5-46eb-933b-c0ab02b20845');\n",
              "          const dataTable =\n",
              "            await google.colab.kernel.invokeFunction('convertToInteractive',\n",
              "                                                     [key], {});\n",
              "          if (!dataTable) return;\n",
              "\n",
              "          const docLinkHtml = 'Like what you see? Visit the ' +\n",
              "            '<a target=\"_blank\" href=https://colab.research.google.com/notebooks/data_table.ipynb>data table notebook</a>'\n",
              "            + ' to learn more about interactive tables.';\n",
              "          element.innerHTML = '';\n",
              "          dataTable['output_type'] = 'display_data';\n",
              "          await google.colab.output.renderOutput(dataTable, element);\n",
              "          const docLink = document.createElement('div');\n",
              "          docLink.innerHTML = docLinkHtml;\n",
              "          element.appendChild(docLink);\n",
              "        }\n",
              "      </script>\n",
              "    </div>\n",
              "  </div>\n",
              "  "
            ]
          },
          "metadata": {},
          "execution_count": 63
        }
      ]
    },
    {
      "cell_type": "code",
      "source": [
        "jobsDataFrame.to_csv(\"list_of_jobs\")"
      ],
      "metadata": {
        "id": "BITmhwNHvktZ"
      },
      "execution_count": 28,
      "outputs": []
    },
    {
      "cell_type": "code",
      "source": [
        "import time;\n",
        "from selenium import webdriver;\n",
        "from selenium.webdriver.common.by import By;\n",
        "\n",
        "def build_jobs_extraction(p_Page_Number):\n",
        "  \n",
        "  l_dict_of_jobs = {'job_title':[], 'description':[], 'company':[], 'salary':[], 'logo':[]};\n",
        "  \n",
        "  l_chrome_options = webdriver.ChromeOptions()\n",
        "  l_chrome_options.add_argument('--headless')\n",
        "  l_chrome_options.add_argument('--no-sandbox')\n",
        "  l_chrome_options.add_argument('--disable-dev-shm-usage')\n",
        "  \n",
        "  try:\n",
        "  \n",
        "    for page in range(p_Page_Number):\n",
        "\n",
        "      time.sleep(1);\n",
        "\n",
        "      l_url = \"https://www.apec.fr/candidat/recherche-emploi.html/emploi?motsCles=data%20scientist&page=\"+str(page);\n",
        "\n",
        "      print(l_url);\n",
        "\n",
        "      l_wd = webdriver.Chrome('chromedriver',options=chrome_options);\n",
        "    \n",
        "      l_wd.get(l_url);\n",
        "    \n",
        "      jobs_titles = l_wd.find_elements(by = By.CSS_SELECTOR, value = '.card-title.fs-16');\n",
        "      list_of_job_titles = [element.text for element in jobs_titles];\n",
        "\n",
        "      descriptions_list = l_wd.find_elements(by = By.CSS_SELECTOR, value = '.card-offer__description.mb-15');\n",
        "      list_of_job_descriptions = [element.text for element in descriptions_list];\n",
        "\n",
        "      companies_list = l_wd.find_elements(by = By.CSS_SELECTOR, value = '.card-offer__company.mb-10');\n",
        "      list_of_companies = [element.text for element in companies_list];\n",
        "\n",
        "      salaries_list = l_wd.find_elements(by = By.XPATH, value = \"//div[@class='card-offer__text']/ul[@class='details-offer']/li\")\n",
        "      list_of_salaries = [element.text for element in salaries_list];\n",
        "\n",
        "      announces_list = l_wd.find_elements(by = By.CSS_SELECTOR, value = 'div.card-offer__header');\n",
        "      list_of_logos = [];\n",
        "      for announce in announces_list:      \n",
        "        current_announce_image_section = announce.find_element(by = By.CSS_SELECTOR, value = '.card-offer__logo');\n",
        "        images = current_announce_image_section.find_elements(by = By.TAG_NAME, value = \"img\");      \n",
        "        if len(images) > 0:\n",
        "          list_of_logos.append(images[0].get_attribute('src'));\n",
        "        else:\n",
        "          list_of_logos.append(None);\n",
        "\n",
        "      l_dict_of_jobs['job_title'] = l_dict_of_jobs['job_title'] + list_of_job_titles;\n",
        "      l_dict_of_jobs['description'] = l_dict_of_jobs['description'] + list_of_job_descriptions;\n",
        "      l_dict_of_jobs['company'] = l_dict_of_jobs['company'] + list_of_companies;\n",
        "      l_dict_of_jobs['salary'] = l_dict_of_jobs['salary'] + list_of_salaries;\n",
        "      l_dict_of_jobs['logo'] = l_dict_of_jobs['logo'] + list_of_logos;\n",
        "    \n",
        "      for element in l_dict_of_jobs.keys():\n",
        "        print(element + ' : ' + str(len(l_dict_of_jobs[element])));\n",
        "\n",
        "    l_jobsDataFrame = pd.DataFrame(l_dict_of_jobs);\n",
        "\n",
        "    return l_jobsDataFrame;\n",
        "  \n",
        "  except:\n",
        "    print(\"Probleme survenu lors de l extraction \" + str(page));\n",
        "\n",
        "    return l_jobsDataFrame;\n"
      ],
      "metadata": {
        "id": "oxC01xV8wNsv"
      },
      "execution_count": 129,
      "outputs": []
    },
    {
      "cell_type": "code",
      "source": [
        "build_jobs_extraction(20).to_csv(\"apec_20_pages.csv\")"
      ],
      "metadata": {
        "colab": {
          "base_uri": "https://localhost:8080/"
        },
        "id": "-1Bg4ZvUzvFW",
        "outputId": "6e6ae69f-477e-4695-a37d-3b3f6cce15d4"
      },
      "execution_count": 132,
      "outputs": [
        {
          "output_type": "stream",
          "name": "stdout",
          "text": [
            "https://www.apec.fr/candidat/recherche-emploi.html/emploi?motsCles=data%20scientist&page=0\n",
            "job_title : 20\n",
            "description : 20\n",
            "company : 20\n",
            "salary : 20\n",
            "logo : 20\n",
            "https://www.apec.fr/candidat/recherche-emploi.html/emploi?motsCles=data%20scientist&page=1\n",
            "job_title : 40\n",
            "description : 40\n",
            "company : 40\n",
            "salary : 40\n",
            "logo : 40\n",
            "https://www.apec.fr/candidat/recherche-emploi.html/emploi?motsCles=data%20scientist&page=2\n",
            "job_title : 60\n",
            "description : 60\n",
            "company : 60\n",
            "salary : 60\n",
            "logo : 60\n",
            "https://www.apec.fr/candidat/recherche-emploi.html/emploi?motsCles=data%20scientist&page=3\n",
            "job_title : 80\n",
            "description : 80\n",
            "company : 80\n",
            "salary : 80\n",
            "logo : 80\n",
            "https://www.apec.fr/candidat/recherche-emploi.html/emploi?motsCles=data%20scientist&page=4\n",
            "job_title : 100\n",
            "description : 100\n",
            "company : 100\n",
            "salary : 100\n",
            "logo : 100\n",
            "https://www.apec.fr/candidat/recherche-emploi.html/emploi?motsCles=data%20scientist&page=5\n",
            "job_title : 120\n",
            "description : 120\n",
            "company : 120\n",
            "salary : 120\n",
            "logo : 120\n",
            "https://www.apec.fr/candidat/recherche-emploi.html/emploi?motsCles=data%20scientist&page=6\n",
            "job_title : 140\n",
            "description : 140\n",
            "company : 140\n",
            "salary : 140\n",
            "logo : 140\n",
            "https://www.apec.fr/candidat/recherche-emploi.html/emploi?motsCles=data%20scientist&page=7\n",
            "job_title : 160\n",
            "description : 160\n",
            "company : 160\n",
            "salary : 160\n",
            "logo : 160\n",
            "https://www.apec.fr/candidat/recherche-emploi.html/emploi?motsCles=data%20scientist&page=8\n",
            "job_title : 180\n",
            "description : 180\n",
            "company : 180\n",
            "salary : 180\n",
            "logo : 180\n",
            "https://www.apec.fr/candidat/recherche-emploi.html/emploi?motsCles=data%20scientist&page=9\n",
            "job_title : 200\n",
            "description : 200\n",
            "company : 200\n",
            "salary : 200\n",
            "logo : 200\n",
            "https://www.apec.fr/candidat/recherche-emploi.html/emploi?motsCles=data%20scientist&page=10\n",
            "job_title : 220\n",
            "description : 220\n",
            "company : 220\n",
            "salary : 220\n",
            "logo : 220\n",
            "https://www.apec.fr/candidat/recherche-emploi.html/emploi?motsCles=data%20scientist&page=11\n",
            "job_title : 240\n",
            "description : 240\n",
            "company : 240\n",
            "salary : 240\n",
            "logo : 240\n",
            "https://www.apec.fr/candidat/recherche-emploi.html/emploi?motsCles=data%20scientist&page=12\n",
            "job_title : 260\n",
            "description : 260\n",
            "company : 260\n",
            "salary : 260\n",
            "logo : 260\n",
            "https://www.apec.fr/candidat/recherche-emploi.html/emploi?motsCles=data%20scientist&page=13\n",
            "job_title : 280\n",
            "description : 280\n",
            "company : 280\n",
            "salary : 280\n",
            "logo : 280\n",
            "https://www.apec.fr/candidat/recherche-emploi.html/emploi?motsCles=data%20scientist&page=14\n",
            "job_title : 300\n",
            "description : 300\n",
            "company : 300\n",
            "salary : 300\n",
            "logo : 300\n",
            "https://www.apec.fr/candidat/recherche-emploi.html/emploi?motsCles=data%20scientist&page=15\n",
            "job_title : 320\n",
            "description : 320\n",
            "company : 320\n",
            "salary : 320\n",
            "logo : 320\n",
            "https://www.apec.fr/candidat/recherche-emploi.html/emploi?motsCles=data%20scientist&page=16\n",
            "job_title : 340\n",
            "description : 340\n",
            "company : 340\n",
            "salary : 340\n",
            "logo : 340\n",
            "https://www.apec.fr/candidat/recherche-emploi.html/emploi?motsCles=data%20scientist&page=17\n",
            "job_title : 350\n",
            "description : 350\n",
            "company : 350\n",
            "salary : 350\n",
            "logo : 350\n",
            "https://www.apec.fr/candidat/recherche-emploi.html/emploi?motsCles=data%20scientist&page=18\n",
            "job_title : 350\n",
            "description : 350\n",
            "company : 350\n",
            "salary : 350\n",
            "logo : 350\n",
            "https://www.apec.fr/candidat/recherche-emploi.html/emploi?motsCles=data%20scientist&page=19\n",
            "job_title : 350\n",
            "description : 350\n",
            "company : 350\n",
            "salary : 350\n",
            "logo : 350\n"
          ]
        }
      ]
    }
  ]
}
